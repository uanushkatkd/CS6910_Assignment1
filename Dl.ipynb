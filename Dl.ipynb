{
  "cells": [
    {
      "cell_type": "markdown",
      "metadata": {
        "id": "view-in-github",
        "colab_type": "text"
      },
      "source": [
        "<a href=\"https://colab.research.google.com/github/uanushkatkd/CS6910-Assignment-1/blob/main/Dl.ipynb\" target=\"_parent\"><img src=\"https://colab.research.google.com/assets/colab-badge.svg\" alt=\"Open In Colab\"/></a>"
      ]
    },
    {
      "cell_type": "code",
      "execution_count": null,
      "metadata": {
        "colab": {
          "base_uri": "https://localhost:8080/"
        },
        "id": "btvXA4fzXD9v",
        "outputId": "023c943b-988e-4ee0-b1c7-faf9041db2bd"
      },
      "outputs": [
        {
          "output_type": "stream",
          "name": "stdout",
          "text": [
            "\u001b[2K     \u001b[90m━━━━━━━━━━━━━━━━━━━━━━━━━━━━━━━━━━━━━━━━\u001b[0m \u001b[32m2.0/2.0 MB\u001b[0m \u001b[31m23.0 MB/s\u001b[0m eta \u001b[36m0:00:00\u001b[0m\n",
            "\u001b[2K     \u001b[90m━━━━━━━━━━━━━━━━━━━━━━━━━━━━━━━━━━━━━━━\u001b[0m \u001b[32m184.3/184.3 KB\u001b[0m \u001b[31m9.5 MB/s\u001b[0m eta \u001b[36m0:00:00\u001b[0m\n",
            "\u001b[?25h  Preparing metadata (setup.py) ... \u001b[?25l\u001b[?25hdone\n",
            "\u001b[2K     \u001b[90m━━━━━━━━━━━━━━━━━━━━━━━━━━━━━━━━━━━━━━━\u001b[0m \u001b[32m189.1/189.1 KB\u001b[0m \u001b[31m4.5 MB/s\u001b[0m eta \u001b[36m0:00:00\u001b[0m\n",
            "\u001b[2K     \u001b[90m━━━━━━━━━━━━━━━━━━━━━━━━━━━━━━━━━━━━━━━━\u001b[0m \u001b[32m62.7/62.7 KB\u001b[0m \u001b[31m2.8 MB/s\u001b[0m eta \u001b[36m0:00:00\u001b[0m\n",
            "\u001b[?25h  Building wheel for pathtools (setup.py) ... \u001b[?25l\u001b[?25hdone\n",
            "\u001b[34m\u001b[1mwandb\u001b[0m: Logging into wandb.ai. (Learn how to deploy a W&B server locally: https://wandb.me/wandb-server)\n",
            "\u001b[34m\u001b[1mwandb\u001b[0m: You can find your API key in your browser here: https://wandb.ai/authorize\n",
            "\u001b[34m\u001b[1mwandb\u001b[0m: Paste an API key from your profile and hit enter, or press ctrl+c to quit: \n",
            "\u001b[34m\u001b[1mwandb\u001b[0m: Appending key for api.wandb.ai to your netrc file: /root/.netrc\n"
          ]
        }
      ],
      "source": [
        "from signal import signal,SIGPIPE, SIG_DFL\n",
        "signal(SIGPIPE,SIG_DFL)\n",
        "!pip install wandb -qU\n",
        "import wandb\n",
        "!wandb login "
      ]
    },
    {
      "cell_type": "code",
      "execution_count": null,
      "metadata": {
        "id": "r8Z-ltPipJi1"
      },
      "outputs": [],
      "source": [
        "import keras\n",
        "import numpy as np\n",
        "import matplotlib.pyplot as plt\n",
        "from keras.datasets import fashion_mnist\n",
        "from keras.datasets import mnist\n",
        "\n",
        "from sklearn.model_selection import train_test_split\n",
        "import math\n",
        "\n",
        "from tqdm import tqdm\n",
        "\n"
      ]
    },
    {
      "cell_type": "code",
      "execution_count": null,
      "metadata": {
        "colab": {
          "base_uri": "https://localhost:8080/",
          "height": 401,
          "referenced_widgets": [
            "a45ae709357a41a49173e2383dbaa5d6",
            "f7a05da39df449bbb9806b4245944d6e",
            "4ce10870f960419cb200a7f377fdbbbf",
            "b1545df378864a84b9e86f108c672462",
            "2dcb8adbb968462cb3e377d4a24d4a93",
            "4945e6f31e5343bc87f477d061c4311a",
            "0a5802e61d8b45e7b75494cec59b816a",
            "b547447b12d4425f80b8b377a926d57d"
          ]
        },
        "id": "tVjLg34TpOyh",
        "outputId": "31e3213a-c75f-42dc-b01e-c88ff1b44372"
      },
      "outputs": [
        {
          "name": "stderr",
          "output_type": "stream",
          "text": [
            "\u001b[34m\u001b[1mwandb\u001b[0m: Currently logged in as: \u001b[33mcs22s015\u001b[0m. Use \u001b[1m`wandb login --relogin`\u001b[0m to force relogin\n"
          ]
        },
        {
          "data": {
            "text/html": [
              "Tracking run with wandb version 0.13.11"
            ],
            "text/plain": [
              "<IPython.core.display.HTML object>"
            ]
          },
          "metadata": {},
          "output_type": "display_data"
        },
        {
          "data": {
            "text/html": [
              "Run data is saved locally in <code>/content/wandb/run-20230309_061301-9gdb9nlh</code>"
            ],
            "text/plain": [
              "<IPython.core.display.HTML object>"
            ]
          },
          "metadata": {},
          "output_type": "display_data"
        },
        {
          "data": {
            "text/html": [
              "Syncing run <strong><a href='https://wandb.ai/cs22s015/CS6910_Assignment_1/runs/9gdb9nlh' target=\"_blank\">dark-snowflake-32</a></strong> to <a href='https://wandb.ai/cs22s015/CS6910_Assignment_1' target=\"_blank\">Weights & Biases</a> (<a href='https://wandb.me/run' target=\"_blank\">docs</a>)<br/>"
            ],
            "text/plain": [
              "<IPython.core.display.HTML object>"
            ]
          },
          "metadata": {},
          "output_type": "display_data"
        },
        {
          "data": {
            "text/html": [
              " View project at <a href='https://wandb.ai/cs22s015/CS6910_Assignment_1' target=\"_blank\">https://wandb.ai/cs22s015/CS6910_Assignment_1</a>"
            ],
            "text/plain": [
              "<IPython.core.display.HTML object>"
            ]
          },
          "metadata": {},
          "output_type": "display_data"
        },
        {
          "data": {
            "text/html": [
              " View run at <a href='https://wandb.ai/cs22s015/CS6910_Assignment_1/runs/9gdb9nlh' target=\"_blank\">https://wandb.ai/cs22s015/CS6910_Assignment_1/runs/9gdb9nlh</a>"
            ],
            "text/plain": [
              "<IPython.core.display.HTML object>"
            ]
          },
          "metadata": {},
          "output_type": "display_data"
        },
        {
          "name": "stdout",
          "output_type": "stream",
          "text": [
            "Downloading data from https://storage.googleapis.com/tensorflow/tf-keras-datasets/train-labels-idx1-ubyte.gz\n",
            "29515/29515 [==============================] - 0s 0us/step\n",
            "Downloading data from https://storage.googleapis.com/tensorflow/tf-keras-datasets/train-images-idx3-ubyte.gz\n",
            "26421880/26421880 [==============================] - 0s 0us/step\n",
            "Downloading data from https://storage.googleapis.com/tensorflow/tf-keras-datasets/t10k-labels-idx1-ubyte.gz\n",
            "5148/5148 [==============================] - 0s 0us/step\n",
            "Downloading data from https://storage.googleapis.com/tensorflow/tf-keras-datasets/t10k-images-idx3-ubyte.gz\n",
            "4422102/4422102 [==============================] - 0s 0us/step\n"
          ]
        },
        {
          "data": {
            "text/html": [
              "Waiting for W&B process to finish... <strong style=\"color:green\">(success).</strong>"
            ],
            "text/plain": [
              "<IPython.core.display.HTML object>"
            ]
          },
          "metadata": {},
          "output_type": "display_data"
        },
        {
          "data": {
            "application/vnd.jupyter.widget-view+json": {
              "model_id": "a45ae709357a41a49173e2383dbaa5d6",
              "version_major": 2,
              "version_minor": 0
            },
            "text/plain": [
              "VBox(children=(Label(value='0.003 MB of 0.006 MB uploaded (0.000 MB deduped)\\r'), FloatProgress(value=0.571986…"
            ]
          },
          "metadata": {},
          "output_type": "display_data"
        },
        {
          "data": {
            "text/html": [
              " View run <strong style=\"color:#cdcd00\">dark-snowflake-32</strong> at: <a href='https://wandb.ai/cs22s015/CS6910_Assignment_1/runs/9gdb9nlh' target=\"_blank\">https://wandb.ai/cs22s015/CS6910_Assignment_1/runs/9gdb9nlh</a><br/>Synced 5 W&B file(s), 10 media file(s), 0 artifact file(s) and 0 other file(s)"
            ],
            "text/plain": [
              "<IPython.core.display.HTML object>"
            ]
          },
          "metadata": {},
          "output_type": "display_data"
        },
        {
          "data": {
            "text/html": [
              "Find logs at: <code>./wandb/run-20230309_061301-9gdb9nlh/logs</code>"
            ],
            "text/plain": [
              "<IPython.core.display.HTML object>"
            ]
          },
          "metadata": {},
          "output_type": "display_data"
        }
      ],
      "source": [
        "# # Question 1: plots using wandb\n",
        "\n",
        "# start a new wandb run to track this script\n",
        "wandb.init(\n",
        "    # set the wandb project where this run will be logged\n",
        "    project=\"CS6910_Assignment_1\",\n",
        ")\n",
        "# Loading the fashion-MNIST dataset\n",
        "(x_train, y_train), (x_test, y_test) = fashion_mnist.load_data()\n",
        "#class names for fashion-MNIST\n",
        "class_names = ['T-shirt', 'Trouser', 'Pullover', 'Dress', 'Coat',\n",
        "               'Sandal', 'Shirt', 'Sneaker', 'Bag', 'Ankle boot']\n",
        "# creating 2x5 grid \n",
        "img={}\n",
        "\n",
        "for i in range(10):\n",
        "    # to find first image in the training set with class label i\n",
        "    idx = np.where(y_train == i)[0][0]\n",
        "    # Plot the image\n",
        "    img[class_names[i]]=(wandb.Image(x_train[idx], caption=class_names[i]))\n",
        "    \n",
        "wandb.log(img)    \n",
        "# [optional] finish the wandb run, necessary in notebooks\n",
        "wandb.finish()"
      ]
    },
    {
      "cell_type": "code",
      "execution_count": null,
      "metadata": {
        "id": "hRC1jK80ukzl"
      },
      "outputs": [],
      "source": [
        "\n",
        "# one hot encoding\n",
        "#from keras.utils import to_categorical\n",
        "def onehot_encoding(a,n_class):\n",
        "  temp = []\n",
        "  for i in a:\n",
        "    t1 = np.zeros(n_class)\n",
        "    t1[i] = 1\n",
        "    temp.append(t1)\n",
        "  temp=np.array(temp)\n",
        "  return temp\n",
        "\n",
        "# Loading the fashion-MNIST dataset\n",
        "\n",
        "def load_data(dataset):\n",
        "  if dataset=='fashion_mnist':\n",
        "    (x_tr, y_tr), (x_test, y_test) = fashion_mnist.load_data()\n",
        "    #class names for fashion-MNIST\n",
        "    class_names = ['T-shirt', 'Trouser', 'Pullover', 'Dress', 'Coat',\n",
        "               'Sandal', 'Shirt', 'Sneaker', 'Bag', 'Ankle boot']\n",
        "\n",
        "  elif dataset=='mnist':\n",
        "    (x_tr, y_tr), (x_test, y_test) = mnist.load_data()\n",
        "    #class names for MNIST\n",
        "    class_names = [0,1,2,3,4,5,6,7,8,9]\n",
        "\n",
        "    \n",
        "\n",
        "  x_train,x_val,y_train, y_val = train_test_split(x_tr,y_tr ,random_state=104,test_size=0.10, shuffle=True)\n",
        "  # creating 2x5 grid \n",
        "  # Question 1: plots without using wandb\n",
        "  fig, ax = plt.subplots(nrows=2, ncols=5, figsize=(12, 6))\n",
        "  ax1=ax.flat\n",
        "  for i in range(10):\n",
        "    # to find first image in the training set with class label i\n",
        "    idx = np.where(y_train == i)[0][0]\n",
        "    # Plot the image\n",
        "    ax1[i].imshow(x_train[idx], cmap='gray')\n",
        "    ax1[i].set_xlabel(class_names[i])\n",
        "    ax1[i].set_xticklabels([])\n",
        "    ax1[i].set_yticklabels([])\n",
        "    # Display the plot\n",
        "  plt.show()\n",
        "  # Normalize data\n",
        "  x_train,x_val,x_test= x_train/255.0,x_val/255.0,x_test/255.0\n",
        "  #one hot encoding\n",
        "  #Reshaping train and test data\n",
        "  x_train,x_val,x_test=x_train.reshape(len(x_train),28*28),x_val.reshape(len(x_val),28*28),x_test.reshape(len(x_test),28*28)\n",
        "  # one hot encoding\n",
        "  y_train=onehot_encoding(y_train,10)  #run once only\n",
        "  y_val = onehot_encoding(y_val,10)\n",
        "  y_test = onehot_encoding(y_test,10)\n",
        "  print(y_val)\n",
        "  #y_test = to_categorical(y_test, dtype =\"uint8\")\n",
        "  # Labels after applying the function\n",
        "  # Training set labels\n",
        "  #print(x_train.shape)\n",
        "  print(y_val.shape)\n",
        "  \n",
        "  return x_train,x_test,x_val,y_train,y_test,y_val,class_names\n",
        "\n",
        "\n"
      ]
    },
    {
      "cell_type": "code",
      "execution_count": null,
      "metadata": {
        "colab": {
          "base_uri": "https://localhost:8080/"
        },
        "id": "Xmhh1Klu0kK_",
        "outputId": "c0e1ea48-fbf5-46ad-a779-0a3f2061d1d1"
      },
      "outputs": [
        {
          "name": "stdout",
          "output_type": "stream",
          "text": [
            "[784, 256, 128, 64, 10]\n",
            "W1 -> (256, 784)\n",
            "b1 -> (256, 1)\n",
            "W2 -> (128, 256)\n",
            "b2 -> (128, 1)\n",
            "W3 -> (64, 128)\n",
            "b3 -> (64, 1)\n",
            "W4 -> (10, 64)\n",
            "b4 -> (10, 1)\n",
            "1\n",
            "2\n",
            "3\n",
            "[0.10065752 0.10165254 0.08910951 0.10880497 0.1042676  0.10800967\n",
            " 0.08811031 0.1096371  0.07022441 0.11952637]\n",
            "a1 -> (256, 10)\n",
            "a2 -> (128, 10)\n",
            "a3 -> (64, 10)\n",
            "a4 -> (10, 10)\n",
            "h0 -> (784, 10)\n",
            "h1 -> (256, 10)\n",
            "h2 -> (128, 10)\n",
            "h3 -> (64, 10)\n",
            "h4 -> (10, 10)\n"
          ]
        }
      ],
      "source": [
        "# Question 2: this code outputs the final probability of forward propagation for one pass of the data\n",
        "x_train,x_test,x_val,y_train,y_test,y_val,class_names=load_data('fashion_mnist')\n",
        "print(x_train.shape)\n",
        "print(y_train.shape)\n",
        "print(x_val.shape)\n",
        "print(y_val.shape)\n",
        "print(x_test.shape)\n",
        "print(y_test.shape)\n",
        "\n",
        "hidden_layer=[256,128,64]\n",
        "no_of_class=10\n",
        "layer_dim=[x_train.shape[1]]+hidden_layer+[no_of_class]\n",
        "print(layer_dim)\n",
        "def initialise_params(train,label,layers):\n",
        "\n",
        "  params={}\n",
        "  L=len(layers)\n",
        "  w=[]\n",
        "  b=[]\n",
        "  for i in range(1,L):\n",
        "    params['W'+str(i)]= np.random.randn(layers[i], layers[i-1]) * 0.05\n",
        "    params['b' + str(i)] =  np.zeros((layers[i], 1))\n",
        "\n",
        "  return params  \n",
        "\n",
        "def forward_prop(train,label,layers,params):\n",
        "  L=len(layers)\n",
        "  a={}\n",
        "  h={}\n",
        "  h['h'+str(0)]=(train.T)\n",
        "  \n",
        "  for i in range(1,L-1):\n",
        "    #preactivation calculation\n",
        "    print(i)\n",
        "    a['a'+str(i)]= params['W'+str(i)] @ h['h'+str(i-1)]+ params['b'+str(i)]\n",
        "    \n",
        "    #activation calculation\n",
        "    h['h'+str(i)]=sigmoid(a['a'+str(i)])\n",
        "    \n",
        "  a['a'+str(L-1)]= params['W'+str(L-1)] @ (h['h'+str(L-2)]) +params['b'+str(L-1)]\n",
        "  y_prob=[]\n",
        "  for i in range(len(a['a'+str(L-1)][0])):\n",
        "    y_prob.append(softmax(a['a'+str(L-1)][:,i]))\n",
        "  y_prob=np.array(y_prob)\n",
        "  h['h'+str(L-1)]=y_prob\n",
        "  \n",
        "  return a,h,y_prob\n",
        "\n",
        "def sigmoid(x):\n",
        "  return 1/(1+np.exp(-x))\n",
        "\n",
        "def softmax(x):\n",
        "   return (np.exp(x)/np.exp(x).sum())\n",
        "\n",
        "\n",
        "\n",
        "p=initialise_params(x_train,y_train,layer_dim)\n",
        "for key,val in p.items():\n",
        "  print(key,'->',val.shape)\n",
        "  \n",
        "a1,h1,y_h=forward_prop(x_train[:10,:],y_train[:10,:],layer_dim,p)\n",
        "print((y_h[0]))\n",
        "for key,val in a1.items():\n",
        "  print(key,'->',val.shape)\n",
        "for key,val in h1.items():\n",
        "  print(key,'->',val.shape)\n",
        "\n",
        "#print(y_train)"
      ]
    },
    {
      "cell_type": "code",
      "execution_count": 10,
      "metadata": {
        "id": "PcMZch46jlBt"
      },
      "outputs": [],
      "source": [
        "# Code for neural network. \n",
        "'''\n",
        "The class named NN consists of the code for\n",
        "wight initialization \n",
        "forward porpagation\n",
        "back porpagation\n",
        "activation functions\n",
        "optimizers\n",
        "'''\n",
        "\n",
        "np.random.seed(1)\n",
        "class NN:\n",
        "  def __init__(self,layers,epochs,lr,activation_func,loss_func,optimizer,initialize,batch_size,dataset,m,beta,beta1,beta2,epsilon,weight_decay):\n",
        "    self.layers = layers\n",
        "    self.epochs = epochs\n",
        "    self.lr = lr\n",
        "    self.activation_func=activation_func\n",
        "    self.loss_func=loss_func\n",
        "    self.optimizer=optimizer\n",
        "    self.initialize=initialize\n",
        "    self.weight_decay=weight_decay\n",
        "    self.batch_size=batch_size\n",
        "    self.dataset=dataset\n",
        "    self.m=m\n",
        "    self.beta=beta\n",
        "    self.beta1=beta1\n",
        "    self.beta2=beta2\n",
        "    self.epsilon=epsilon\n",
        "    self.params=self.initialise_params()\n",
        "    self.L=len(self.layers)\n",
        "    \n",
        "  def initialise_params(self):\n",
        "    params={}\n",
        "    L=len(self.layers)\n",
        "    \n",
        "    for i in range(1,L):\n",
        "      if self.initialize=='random':\n",
        "        params['W'+str(i)]= np.random.randn(self.layers[i], self.layers[i-1]) * 0.1\n",
        "      elif self.initialize=='xavier':\n",
        "        params['W'+str(i)]= np.random.randn(self.layers[i], self.layers[i-1]) * np.sqrt(2/ (self.layers[i - 1] + self.layers[i]))\n",
        "      elif self.initialize=='he_normal':\n",
        "         params['W' + str(i)] = np.random.randn(self.layers[i], self.layers[i-1]) * np.sqrt(2/self.layers[i-1])\n",
        "      elif self.initialize=='he_uniform':\n",
        "         params['W' + str(i)] = np.random.uniform(low=-np.sqrt(6 / self.layers[i-1]), high=np.sqrt(6 /self.layers[i-1]), size=(self.layers[i], self.layers[i-1]))\n",
        "  \n",
        "      params['b' + str(i)] =  np.zeros((self.layers[i], 1))\n",
        "\n",
        "    return params  \n",
        "  \n",
        "  def updates(self):\n",
        "    updates={}\n",
        "    L=len(self.layers)\n",
        "   \n",
        "    for i in range(1,self.L):\n",
        "      updates['W'+str(i)]= np.zeros((self.layers[i], self.layers[i-1])) \n",
        "      updates['b' + str(i)] =  np.zeros((self.layers[i], 1))\n",
        "\n",
        "    return updates  \n",
        "\n",
        "  def sigmoid(self, x, derivative=False):\n",
        "    if derivative:\n",
        "      return (np.exp(-x))/((np.exp(-x)+1)**2)\n",
        "    return 1/(1 + np.exp(-x))\n",
        "\n",
        "  def identity(self, x, derivative=False):\n",
        "    if derivative:\n",
        "      return 1\n",
        "    return x\n",
        "\n",
        "\n",
        "  def tan_h(self, x, derivative=False):\n",
        "    t=np.tanh(x)\n",
        "    if derivative:\n",
        "      return 1-t**2\n",
        "    return t\n",
        "\n",
        "  def relu(self, x, derivative=False):\n",
        "    if derivative:\n",
        "      return 1*(x>0)\n",
        "    return np.maximum(0,x)\n",
        "\n",
        "\n",
        "  def softmax(self, x, derivative=False):\n",
        "    exps = np.exp(x - x.max())\n",
        "    if derivative:\n",
        "      return exps / np.sum(exps, axis=0) * (1 - exps / np.sum(exps, axis=0))\n",
        "    return exps/np.sum(exps, axis=0)\n",
        "  \n",
        "  def regularization_loss(self):\n",
        "    # Calculate the L2 regularization loss\n",
        "    L=len(self.layers)\n",
        "    regularization_loss = 0.0\n",
        "    for i in range(1,L):\n",
        "      regularization_loss += np.sum(np.square(self.params['W'+str(i)]))\n",
        "    regularization_loss *= self.weight_decay\n",
        "    return regularization_loss\n",
        "\n",
        "  def forward_prop(self,train):\n",
        "    params = self.params\n",
        "    L=len(self.layers)\n",
        "   \n",
        "    a={}\n",
        "    h={}\n",
        "    train=train.T\n",
        "    h['h'+str(0)]=train.reshape(len(train),1)\n",
        "    for i in range(1,L-1):\n",
        "      #preactivation calculation\n",
        "      #print(i)\n",
        "      a['a'+str(i)]= params['W'+str(i)] @ h['h'+str(i-1)]+ params['b'+str(i)]\n",
        "        #activation calculation\n",
        "      if self.activation_func=='tanh':\n",
        "        h['h'+str(i)]=self.tan_h(a['a'+str(i)])\n",
        "      elif self.activation_func=='sigmoid':\n",
        "        h['h'+str(i)]=self.sigmoid(a['a'+str(i)])\n",
        "      elif self.activation_func=='relu':\n",
        "        h['h'+str(i)]=self.relu(a['a'+str(i)])\n",
        "      elif self.activation_func=='identity':\n",
        "        h['h'+str(i)]=self.identity(a['a'+str(i)])\n",
        "\n",
        "\n",
        "    a['a'+str(L-1)]= params['W'+str(L-1)] @ (h['h'+str(L-2)]) +params['b'+str(L-1)]\n",
        "    y_prob=[]\n",
        "    for i in range(len(a['a'+str(L-1)][0])):\n",
        "      y_prob.append(self.softmax(a['a'+str(L-1)][:,i]))\n",
        "    y_prob=np.array(y_prob)\n",
        "    h['h'+str(L-1)]=y_prob\n",
        "  \n",
        "    return a,h,y_prob\n",
        "  \n",
        "  def backward_prop(self, y_train, y_hat,a,h):\n",
        "    params = self.params\n",
        "    delta_params = {}\n",
        "    L=len(self.layers)\n",
        "   \n",
        "    y_train=y_train.reshape(len(y_train),1)\n",
        "    # Compute output gradient\n",
        "        # Gardient with respect to last layer\n",
        "    if self.loss_func == 'cross_entropy':\n",
        "      delta_params['a' + str(L-1)] = (y_hat - y_train)\n",
        "    elif self.loss_func == 'squared_error':\n",
        "      delta_params['a' + str(L-1)] = (y_hat - y_train)*y_hat*(1-y_hat)\n",
        "    \n",
        "    \n",
        "    for i in range(L-1,0,-1):\n",
        "      #gradients w rt parameters \n",
        "      delta_params['W' + str(i)]=(delta_params['a' + str(i)]@(h['h'+str(i-1)].T))+self.weight_decay*params['W'+str(i)]\n",
        "      delta_params['b' + str(i)]=np.sum(delta_params['a' + str(i)],axis=1,keepdims=True)\n",
        "\n",
        "      #gradients w rt layer below\n",
        "\n",
        "      delta_params['h' + str(i-1)]=(params['W' + str(i)].T)@ delta_params['a' + str(i)]\n",
        "\n",
        "      #gradients w rt layer below(preactivation)\n",
        "\n",
        "      if i > 1:\n",
        "        if self.activation_func=='tanh':\n",
        "          delta_params['a' + str(i-1)] = delta_params['h' + str(i-1)] * self.tan_h(a['a' + str(i-1)], derivative=True)  \n",
        "        elif self.activation_func=='sigmoid':\n",
        "          delta_params['a' + str(i-1)] = delta_params['h' + str(i-1)] * self.sigmoid(a['a' + str(i-1)], derivative=True)  \n",
        "        elif self.activation_func=='relu':\n",
        "          delta_params['a' + str(i-1)] = delta_params['h' + str(i-1)] * self.relu(a['a' + str(i-1)], derivative=True)  \n",
        "        elif self.activation_func=='identity':\n",
        "          delta_params['a' + str(i-1)] = delta_params['h' + str(i-1)] * self.identity(a['a' + str(i-1)], derivative=True)  \n",
        "\n",
        "\n",
        "    return delta_params\n",
        "  \n",
        "  \n",
        "  def loss_fun(self,y,y_hat):\n",
        "    if self.loss_func == 'cross_entropy':\n",
        "      i=np.argmax(y)\n",
        "      p=y_hat[i]\n",
        "      loss=-np.log(p)+self.regularization_loss()\n",
        "      return loss\n",
        "    elif self.loss_func == 'squared_error':\n",
        "      return np.sum((y-y_hat)**2)+self.regularization_loss()\n",
        " \n",
        " \n",
        "  def modelPerformance(self, x_test, y_test):\n",
        "    predictions = []\n",
        "    y_true = []\n",
        "    y_pred = []\n",
        "    losses = []\n",
        "    for x,y in tqdm(zip(x_test ,y_test), total=len(x_test)):\n",
        "      a,h,y_p = self.forward_prop(x)\n",
        "      predictedClass = np.argmax(y_p)\n",
        "      y.reshape(len(y),1)\n",
        "      actualClass = np.argmax(y)\n",
        "      y_true.append(actualClass)\n",
        "      y_pred.append(predictedClass)\n",
        "      predictions.append(predictedClass == actualClass)\n",
        "      losses.append(self.loss_fun(y.T,y_p.T))\n",
        "    accuracy = (np.sum(predictions)*100)/len(predictions)\n",
        "    loss = np.sum(losses)/len(losses)\n",
        "    \n",
        "    return accuracy, loss, y_true, y_pred\n",
        "\n",
        "     \n",
        "  def sgd(self,x_train,y_train,x_test,y_test,x_val,y_val):\n",
        "    weights=self.params\n",
        "    e=self.epochs\n",
        "    for i in range(e):\n",
        "      t=0\n",
        "      dw_db=self.updates()\n",
        "      print(\"epoch\",i+1)\n",
        "      for x,y in (zip(x_train,y_train)):\n",
        "        a,h,y_p=self.forward_prop(x)\n",
        "        \n",
        "        delta_theta=self.backward_prop(y.T,y_p.T,a,h)\n",
        "        \n",
        "        for i in dw_db:\n",
        "           dw_db[i]+=delta_theta[i]\n",
        "\n",
        "        t=t+1\n",
        "        if (t%self.batch_size==0):\n",
        "          for key in weights:\n",
        "            weights[key]=weights[key] - (self.lr)*dw_db[key]\n",
        "          \n",
        "          dw_db=self.updates()\n",
        "\n",
        "      \n",
        "      val_acc,val_loss,y_true1,y_perd1=self.modelPerformance(x_val,y_val)\n",
        "      print(\"Val Accuracy = \" + str(val_acc))\n",
        "      print(\"Val Loss = \" + str(val_loss))\n",
        "\n",
        "      train_acc,train_loss,y_true2,y_perd2=self.modelPerformance(x_train,y_train)\n",
        "      print(\"Train Accuracy = \" + str(train_acc))\n",
        "      print(\"Train Loss = \" + str(train_loss))\n",
        "\n",
        "      \n",
        "      test_acc,test_loss,y_true2,y_perd2=self.modelPerformance(x_test,y_test)\n",
        "\n",
        "\n",
        "      #wandb.log({\"val_acc\": val_acc, \"train_acc\": train_acc, \"test_acc\": test_acc, \"val_loss\": val_loss, \"train_loss\": train_loss,\"test_loss\":test_loss,\"epoch\": e+1})\n",
        "\t\n",
        "    self.params=weights\n",
        "    return weights\n",
        "\n",
        "  def momentum(self,x_train,y_train,x_test,y_test,x_val,y_val):\n",
        "    beta=self.m\n",
        "    \n",
        "    weights=self.params\n",
        "    \n",
        "    update= self.updates()\n",
        "    e=self.epochs\n",
        "    for i in range(e):\n",
        "      t=0\n",
        "      dw_db=self.updates()\n",
        "      lookahead=self.updates()\n",
        "      print(\"epoch\",i+1)\n",
        "      for x,y in (zip(x_train,y_train)):\n",
        "        a,h,y_p=self.forward_prop(x)\n",
        "        \n",
        "        delta_theta=self.backward_prop(y.T,y_p.T,a,h)\n",
        "        \n",
        "        for i in dw_db:\n",
        "           dw_db[i]+=delta_theta[i]\n",
        "\n",
        "        t=t+1\n",
        "        if (t%self.batch_size==0):\n",
        "          for key in lookahead:\n",
        "            lookahead[key]=beta*update[key]+self.lr*dw_db[key]\n",
        "          \n",
        "          for key in weights:\n",
        "           weights[key]=weights[key] - lookahead[key]\n",
        "\n",
        "          \n",
        "          for key in update:\n",
        "             update[key] =lookahead[key]\n",
        "          \n",
        "          dw_db=self.updates()\n",
        "  \n",
        "\n",
        "      \n",
        "      val_acc,val_loss,y_true1,y_perd1=self.modelPerformance(x_val,y_val)\n",
        "      print(\"Val Accuracy = \" + str(val_acc))\n",
        "      print(\"Val Loss = \" + str(val_loss))\n",
        "\n",
        "      train_acc,train_loss,y_true2,y_perd2=self.modelPerformance(x_train,y_train)\n",
        "      print(\"Train Accuracy = \" + str(train_acc))\n",
        "      print(\"Train Loss = \" + str(train_loss))\n",
        "\n",
        "      \n",
        "      test_acc,test_loss,y_true2,y_perd2=self.modelPerformance(x_test,y_test)\n",
        "\n",
        "\n",
        "      #wandb.log({\"val_acc\": val_acc, \"train_acc\": train_acc, \"test_acc\": test_acc, \"val_loss\": val_loss, \"train_loss\": train_loss,\"test_loss\":test_loss,\"epoch\": e+1})\n",
        "\t\n",
        "    self.params=weights\n",
        "    return weights\n",
        "\n",
        "    \n",
        "   \n",
        "     \n",
        "  def nestrov(self,x_train,y_train,x_test,y_test,x_val,y_val):\n",
        "\n",
        "    \n",
        "    beta=self.m\n",
        "    \n",
        "    weights=self.params\n",
        "    update= self.updates()\n",
        "    \n",
        "    e=self.epochs\n",
        "    for i in range(e):\n",
        "      dw_db= self.updates()\n",
        "\n",
        "      lookahead= self.updates()\n",
        "\n",
        "      #do partial updates\n",
        "      for key in lookahead:\n",
        "        lookahead[key]=beta*update[key]\n",
        "    \n",
        "      t=0\n",
        "   \n",
        "      print(\"epoch\",i+1)\n",
        "      for x,y in (zip(x_train,y_train)):\n",
        "        \n",
        "   \n",
        "        a,h,y_p=self.forward_prop(x)\n",
        "        \n",
        "        delta_theta=self.backward_prop(y.T,y_p.T,a,h)\n",
        "      \n",
        "        for i in dw_db:\n",
        "           dw_db[i]+=delta_theta[i]\n",
        "\n",
        "        t=t+1\n",
        "        if (t%self.batch_size==0):\n",
        "          for key in lookahead:\n",
        "            lookahead[key]=beta*update[key]+self.lr*dw_db[key]\n",
        "          \n",
        "          for key in weights:\n",
        "           weights[key]=weights[key] - lookahead[key]\n",
        "\n",
        "          \n",
        "          for key in update:\n",
        "             update[key] =lookahead[key]\n",
        "          dw_db=self.updates()\n",
        "\n",
        "       \n",
        "      val_acc,val_loss,y_true1,y_perd1=self.modelPerformance(x_val,y_val)\n",
        "      print(\"Val Accuracy = \" + str(val_acc))\n",
        "      print(\"Val Loss = \" + str(val_loss))\n",
        "\n",
        "      train_acc,train_loss,y_true2,y_perd2=self.modelPerformance(x_train,y_train)\n",
        "      print(\"Train Accuracy = \" + str(train_acc))\n",
        "      print(\"Train Loss = \" + str(train_loss))\n",
        "\n",
        "      \n",
        "      test_acc,test_loss,y_true2,y_perd2=self.modelPerformance(x_test,y_test)\n",
        "\n",
        "\n",
        "      wandb.log({\"val_acc\": val_acc, \"train_acc\": train_acc, \"test_acc\": test_acc, \"val_loss\": val_loss, \"train_loss\": train_loss,\"test_loss\":test_loss,\"epoch\": e+1})\n",
        "\t\n",
        "    self.params=weights\n",
        "    return weights\n",
        "       \n",
        "\n",
        "  def rmsprop(self,x_train,y_train,x_test,y_test,x_val,y_val):\n",
        "\n",
        "    \n",
        "    beta=self.m\n",
        "    eps=self.epsilon\n",
        "    \n",
        "    weights=self.params\n",
        "    update= self.updates()\n",
        "    \n",
        "    e=self.epochs\n",
        "    for i in range(e):\n",
        "      t=0\n",
        "    \n",
        "      dw_db= self.updates()\n",
        "\n",
        "      \n",
        "      print(\"epoch\",i+1)\n",
        "      for x,y in (zip(x_train,y_train)):\n",
        "        \n",
        "   \n",
        "        a,h,y_p=self.forward_prop(x)\n",
        "        \n",
        "        #print(\"y_hat\",y[0])\n",
        "        delta_theta=self.backward_prop(y.T,y_p.T,a,h)\n",
        "       \n",
        "        for i in dw_db:\n",
        "           dw_db[i]+=delta_theta[i]\n",
        "\n",
        "        t=t+1\n",
        "        if (t%self.batch_size==0):\n",
        "          for key in update:\n",
        "            update[key]=beta*update[key]+(1-beta)*(dw_db[key]**2)\n",
        "          \n",
        "          for key in weights:\n",
        "           weights[key]=weights[key] - (self.lr/np.sqrt(update[key]+eps))*dw_db[key]\n",
        "          \n",
        "          \n",
        "          dw_db=self.updates()\n",
        "\n",
        "       \n",
        "      val_acc,val_loss,y_true1,y_perd1=self.modelPerformance(x_val,y_val)\n",
        "      print(\"Val Accuracy = \" + str(val_acc))\n",
        "      print(\"Val Loss = \" + str(val_loss))\n",
        "\n",
        "      train_acc,train_loss,y_true2,y_perd2=self.modelPerformance(x_train,y_train)\n",
        "      print(\"Train Accuracy = \" + str(train_acc))\n",
        "      print(\"Train Loss = \" + str(train_loss))\n",
        "\n",
        "      \n",
        "      test_acc,test_loss,y_true2,y_perd2=self.modelPerformance(x_test,y_test)\n",
        "\n",
        "\n",
        "      #wandb.log({\"val_acc\": val_acc, \"train_acc\": train_acc, \"test_acc\": test_acc, \"val_loss\": val_loss, \"train_loss\": train_loss,\"test_loss\":test_loss,\"epoch\": e+1})\n",
        "\t\n",
        "    self.params=weights\n",
        "    return weights\n",
        "    \n",
        "  def adam(self,x_train,y_train,x_test,y_test,x_val,y_val):\n",
        "\n",
        "    beta1=self.beta1\n",
        "    beta2=self.beta2\n",
        "    eps=self.epsilon\n",
        "   \n",
        "    weights=self.params\n",
        "    mw_mb= self.updates()\n",
        "    vw_vb=self.updates()\n",
        "    \n",
        "    mw_mb_hat= self.updates()\n",
        "    vw_vb_hat=self.updates()\n",
        "    \n",
        "    e=self.epochs\n",
        "    for i in range(e):\n",
        "      t=0\n",
        "\n",
        "      dw_db= self.updates()\n",
        "\n",
        "      \n",
        "      print(\"epoch\",i+1)\n",
        "      for x,y in (zip(x_train,y_train)):\n",
        "        \n",
        "   \n",
        "        a,h,y_p=self.forward_prop(x)\n",
        "        \n",
        "        #print(\"y_hat\",y[0])\n",
        "        delta_theta=self.backward_prop(y.T,y_p.T,a,h)\n",
        "       \n",
        "        for j in dw_db:\n",
        "           dw_db[j]+=delta_theta[j]\n",
        "\n",
        "        t=t+1\n",
        "        if (t%self.batch_size==0):\n",
        "          for key in mw_mb:\n",
        "            mw_mb[key]=beta1*mw_mb[key]+(1-beta1)*(dw_db[key])\n",
        "\n",
        "          for key in vw_vb:\n",
        "            vw_vb[key]=beta2*vw_vb[key]+(1-beta2)*(dw_db[key]**2)\n",
        "\n",
        "          for key in weights:\n",
        "            mw_mb_hat[key]=mw_mb[key]/(1-(beta1**(i+1)))\n",
        "            vw_vb_hat[key]=vw_vb[key]/(1-(beta2**(i+1)))\n",
        "            \n",
        "\n",
        "          for key in weights:\n",
        "           weights[key]=weights[key] - (self.lr/np.sqrt(vw_vb_hat[key]+eps))*mw_mb_hat[key]\n",
        "\n",
        "          \n",
        "          dw_db=self.updates()\n",
        "\n",
        "       \n",
        "      val_acc,val_loss,y_true1,y_perd1=self.modelPerformance(x_val,y_val)\n",
        "      print(\"Val Accuracy = \" + str(val_acc))\n",
        "      print(\"Val Loss = \" + str(val_loss))\n",
        "\n",
        "      train_acc,train_loss,y_true2,y_perd2=self.modelPerformance(x_train,y_train)\n",
        "      print(\"Train Accuracy = \" + str(train_acc))\n",
        "      print(\"Train Loss = \" + str(train_loss))\n",
        "\n",
        "      \n",
        "      test_acc,test_loss,y_true2,y_perd2=self.modelPerformance(x_test,y_test)\n",
        "\n",
        "\n",
        "      #wandb.log({\"val_acc\": val_acc, \"train_acc\": train_acc, \"test_acc\": test_acc, \"val_loss\": val_loss, \"train_loss\": train_loss,\"test_loss\":test_loss,\"epoch\": e+1})\n",
        "\t\n",
        "    self.params=weights\n",
        "    return weights\n",
        "         \n",
        " \n",
        "\n",
        "     \n",
        "    \n",
        "  def nadam(self,x_train,y_train,x_test,y_test,x_val,y_val): #update nadam\n",
        "\n",
        "    beta1=self.beta1\n",
        "    beta2=self.beta2\n",
        "    eps=self.epsilon\n",
        " \n",
        "    weights=self.params\n",
        "    update= self.updates()\n",
        "  \n",
        "    mw_mb= self.updates()\n",
        "    vw_vb=self.updates()\n",
        "    mw_mb_hat= self.updates()\n",
        "    vw_vb_hat=self.updates()\n",
        "    \n",
        "    beta=self.beta\n",
        "    e=self.epochs\n",
        "    for i in range(e):\n",
        "      dw_db= self.updates()\n",
        "      lookahead=self.updates()\n",
        "\n",
        "      t=0\n",
        "\n",
        "      #do partial updates\n",
        "      for key in lookahead:\n",
        "        lookahead[key]=beta*update[key]\n",
        "\n",
        "     \n",
        "\n",
        "      print(\"epoch\",i+1)\n",
        "      for x,y in (zip(x_train,y_train)):\n",
        "        \n",
        "   \n",
        "        a,h,y_p=self.forward_prop(x)\n",
        "        \n",
        "        #print(\"y_hat\",y[0])\n",
        "        delta_theta=self.backward_prop(y.T,y_p.T,a,h)\n",
        "       \n",
        "        for j in dw_db:\n",
        "           dw_db[j]+=delta_theta[j]\n",
        "\n",
        "        t=t+1\n",
        "        if (t%self.batch_size==0):\n",
        "          \n",
        "          for key in lookahead:\n",
        "            lookahead[key]=beta*update[key]+self.lr*dw_db[key]\n",
        "\n",
        "          for key in mw_mb:\n",
        "            mw_mb[key]=beta1*mw_mb[key]+(1-beta1)*(dw_db[key])\n",
        "\n",
        "          for key in vw_vb:\n",
        "            vw_vb[key]=beta2*vw_vb[key]+(1-beta2)*(dw_db[key]**2)\n",
        "\n",
        "          for key in weights:\n",
        "            mw_mb_hat[key]=mw_mb[key]/(1-(beta1**(i+1)))\n",
        "            vw_vb_hat[key]=vw_vb[key]/(1-(beta2**(i+1)))\n",
        "            \n",
        "\n",
        "          for key in weights:\n",
        "           weights[key]=weights[key] - (self.lr/np.sqrt(vw_vb_hat[key]+eps))*mw_mb_hat[key]\n",
        "          \n",
        "          \n",
        "          for key in update:\n",
        "             update[key] =lookahead[key]\n",
        "\n",
        "          dw_db=self.updates()       \n",
        "      \n",
        "      val_acc,val_loss,y_true1,y_perd1=self.modelPerformance(x_val,y_val)\n",
        "      print(\"Val Accuracy = \" + str(val_acc))\n",
        "      print(\"Val Loss = \" + str(val_loss))\n",
        "\n",
        "      train_acc,train_loss,y_true2,y_perd2=self.modelPerformance(x_train,y_train)\n",
        "      print(\"Train Accuracy = \" + str(train_acc))\n",
        "      print(\"Train Loss = \" + str(train_loss))\n",
        "\n",
        "      \n",
        "      test_acc,test_loss,y_true2,y_perd2=self.modelPerformance(x_test,y_test)\n",
        "\n",
        "\n",
        "      #wandb.log({\"val_acc\": val_acc, \"train_acc\": train_acc, \"test_acc\": test_acc, \"val_loss\": val_loss, \"train_loss\": train_loss,\"test_loss\":test_loss,\"epoch\": e+1})\n",
        "\t\n",
        "    self.params=weights\n",
        "    return weights\n",
        " \n",
        "\n",
        "  def fit(self,x_train,y_train,x_test,y_test,x_val,y_val):\n",
        "    if self.optimizer == 'sgd':\n",
        "      w=self.sgd(x_train,y_train,x_test,y_test,x_val,y_val)\n",
        "    elif self.optimizer == 'mgd':\n",
        "      w=self.momentum(x_train,y_train,x_test,y_test,x_val,y_val)\n",
        "    elif self.optimizer == 'nestrov':\n",
        "      w=self.nestrov(x_train,y_train,x_test,y_test,x_val,y_val)\n",
        "    elif self.optimizer == 'rmsprop':\n",
        "      w=self.rmsprop(x_train,y_train,x_test,y_test,x_val,y_val)\n",
        "    elif self.optimizer == 'adam':\n",
        "      w=self.adam(x_train,y_train,x_test,y_test,x_val,y_val)\n",
        "    elif self.optimizer == 'nadam':\n",
        "      w=self.nadam(x_train,y_train,x_test,y_test,x_val,y_val)\n",
        "\n",
        "      "
      ]
    },
    {
      "cell_type": "code",
      "source": [
        "x_train,x_test,x_val,y_train,y_test,y_val,class_names=load_data('fashion_mnist')\n",
        "print(x_train.shape)\n",
        "print(y_train.shape)\n",
        "print(x_val.shape)\n",
        "print(y_val.shape)\n",
        "print(x_test.shape)\n",
        "print(y_test.shape)\n",
        "no_of_class=10\n"
      ],
      "metadata": {
        "colab": {
          "base_uri": "https://localhost:8080/",
          "height": 598
        },
        "id": "CLH5ULhEJlhV",
        "outputId": "2868f4e8-8028-4e3f-d9b0-bff7819b75ec"
      },
      "execution_count": null,
      "outputs": [
        {
          "output_type": "display_data",
          "data": {
            "text/plain": [
              "<Figure size 864x432 with 10 Axes>"
            ],
            "image/png": "[encoded data removed]"
          },
          "metadata": {
            "needs_background": "light"
          }
        },
        {
          "output_type": "stream",
          "name": "stdout",
          "text": [
            "[[1. 0. 0. ... 0. 0. 0.]\n",
            " [1. 0. 0. ... 0. 0. 0.]\n",
            " [0. 0. 1. ... 0. 0. 0.]\n",
            " ...\n",
            " [0. 0. 0. ... 1. 0. 0.]\n",
            " [0. 0. 0. ... 0. 0. 1.]\n",
            " [1. 0. 0. ... 0. 0. 0.]]\n",
            "(6000, 10)\n",
            "(54000, 784)\n",
            "(54000, 10)\n",
            "(6000, 784)\n",
            "(6000, 10)\n",
            "(10000, 784)\n",
            "(10000, 10)\n"
          ]
        }
      ]
    },
    {
      "cell_type": "code",
      "execution_count": null,
      "metadata": {
        "colab": {
          "background_save": true,
          "base_uri": "https://localhost:8080/",
          "height": 1000,
          "referenced_widgets": [
            "50d22ae7c1db4a0180e179e7d685c238",
            "2126f4ec95104648ab330ef3157e284e",
            "dfd8affb4d8d49c8b46934f09bfebd52",
            "b1ab1d74dd1945218cacfe6c30900439",
            "6ab1d9439f4344d1b092cb7af61a1fa8",
            "860b91c5b5a444fa8b4c65dc33448fce",
            "bcd4ea6c8dfd4e38ad0591ea0ed69719",
            "18b49721336c4214890514ecd8c81da5",
            "99f02e13436a48baa9d022d6fd7132bc",
            "ac2af3167e024fa6a95de51c50fee4eb",
            "b47770b2bfc84726a1a08ebb19b30c87",
            "4a69a6e997ac4f74b0284761c16c0e09",
            "19be4348acdb48a781de157b8f740f48",
            "2a46fb296a2a4a6aba507cc91d5c2981",
            "c645990d0e03425290bca4c849bd4865",
            "5b3d2eaaa3e949a98edb4dd11acb7303",
            "4c365b632c7e4e4288194d64c410a3a4",
            "5db6040e633342fbb08c1def0df941a9",
            "00d574552ad740b19eea01836ba9bd41",
            "1059ed19294f4404b8f5e7346b692ae8",
            "3d47de4a8b4f4d009649069bb8502c4b",
            "6825816f19b946d5b9cdbabeab2fb8dd",
            "1cc9a195d5cb4c23a7ec1a980aa915ba",
            "4d248d04dacb47a3b79bc00954573e21",
            "c645b83365c34d6985fce0d777aa460b",
            "178bfc95bcf048f8b388d812cba99b36",
            "4c4283a509aa443e860a5a1b33f63104",
            "94d0782160284094af290cd8b9dc2552",
            "479c798e36dc458799ee61ddf0081f70",
            "6ad194c6a9414ef096c7262386a0dea8",
            "6a0b42169c58479fa57194093e49f0e7",
            "2e9ca8035170453686dda1c1c253b88a",
            "c58a320889e849b7b3614bd29b979a33",
            "bd46273fe54d4504a85f001ec39f8c5d",
            "1dc4fb2a062348458f20727ca5811c4c",
            "f4bb62e48d5944569acbad07c281c334",
            "c1d3fde0e8fa48818bce13325b92fda1",
            "57390ec4add2469b8b99955e78026c9a",
            "9604923f0c93492b9b794ff15d0085b8",
            "f188e0014ff74fd788ecdde2be95facf",
            "c8254c7dd072430a9b805581101678e5",
            "df64948ce3f44fef9471315295a6b875",
            "7ab67880a47145648f1544885b6799f9",
            "9c83dad7da7c46348472c0ae97ef73be",
            "270b51639e504409964f199ad448163b",
            "7469d9aba1454906bf19e5607d58be3d",
            "f2c5aa46a836451aad9b77d5a32e5a14",
            "5920f2afe185431aa77a86615f59cdb1",
            "c05dab4f2b3c4cc98ffccb965f4f9dfd",
            "8d8da13d489c477c9115e4c66aaa46dc",
            "aa8d80477e054cc1aca229c2aa44f55d",
            "c47aa843871f4dac833fda49a6be991d",
            "5affffc12f91463ca33ad4b215334e86",
            "bf1dd59f37cb46dfa0c47af67865f24b",
            "65f66f665b864002af49e415e8aa357b",
            "c38cbfb3cd1c4a2a94b245b73478c2cf"
          ]
        },
        "id": "EOeED2_ySVU_",
        "outputId": "f758aa8f-3c8c-4062-d029-e0ce9a7d0098"
      },
      "outputs": [
        {
          "name": "stderr",
          "output_type": "stream",
          "text": [
            "Failed to detect the name of this notebook, you can set it manually with the WANDB_NOTEBOOK_NAME environment variable to enable code saving.\n"
          ]
        },
        {
          "name": "stdout",
          "output_type": "stream",
          "text": [
            "Create sweep with ID: k45px6gm\n",
            "Sweep URL: https://wandb.ai/cs22s015/CS6910_Assignment_1/sweeps/k45px6gm\n"
          ]
        },
        {
          "name": "stderr",
          "output_type": "stream",
          "text": [
            "\u001b[34m\u001b[1mwandb\u001b[0m: Agent Starting Run: rf7xfbr9 with config:\n",
            "\u001b[34m\u001b[1mwandb\u001b[0m: \tactivations: tanh\n",
            "\u001b[34m\u001b[1mwandb\u001b[0m: \tbatch_size: 64\n",
            "\u001b[34m\u001b[1mwandb\u001b[0m: \tepochs: 5\n",
            "\u001b[34m\u001b[1mwandb\u001b[0m: \tlearning_rate: 0.001\n",
            "\u001b[34m\u001b[1mwandb\u001b[0m: \tloss_function: cross_entropy\n",
            "\u001b[34m\u001b[1mwandb\u001b[0m: \tn_hidden_layer_size: 256\n",
            "\u001b[34m\u001b[1mwandb\u001b[0m: \tn_hidden_layers: 5\n",
            "\u001b[34m\u001b[1mwandb\u001b[0m: \toptimizer: nestrov\n",
            "\u001b[34m\u001b[1mwandb\u001b[0m: \tweight_decay: 0.0005\n",
            "\u001b[34m\u001b[1mwandb\u001b[0m: \tweight_ini: xavier\n",
            "Failed to detect the name of this notebook, you can set it manually with the WANDB_NOTEBOOK_NAME environment variable to enable code saving.\n",
            "\u001b[34m\u001b[1mwandb\u001b[0m: Currently logged in as: \u001b[33mcs22s015\u001b[0m. Use \u001b[1m`wandb login --relogin`\u001b[0m to force relogin\n"
          ]
        },
        {
          "data": {
            "text/html": [
              "Tracking run with wandb version 0.14.0"
            ],
            "text/plain": [
              "<IPython.core.display.HTML object>"
            ]
          },
          "metadata": {},
          "output_type": "display_data"
        },
        {
          "data": {
            "text/html": [
              "Run data is saved locally in <code>c:\\Users\\Anushka Singh\\Downloads\\CS6910-Assignment-1-main\\wandb\\run-20230317_211100-rf7xfbr9</code>"
            ],
            "text/plain": [
              "<IPython.core.display.HTML object>"
            ]
          },
          "metadata": {},
          "output_type": "display_data"
        },
        {
          "data": {
            "text/html": [
              "Syncing run <strong><a href='https://wandb.ai/cs22s015/CS6910_Assignment_1/runs/rf7xfbr9' target=\"_blank\">spring-sweep-1</a></strong> to <a href='https://wandb.ai/cs22s015/CS6910_Assignment_1' target=\"_blank\">Weights & Biases</a> (<a href='https://wandb.me/run' target=\"_blank\">docs</a>)<br/>Sweep page: <a href='https://wandb.ai/cs22s015/CS6910_Assignment_1/sweeps/k45px6gm' target=\"_blank\">https://wandb.ai/cs22s015/CS6910_Assignment_1/sweeps/k45px6gm</a>"
            ],
            "text/plain": [
              "<IPython.core.display.HTML object>"
            ]
          },
          "metadata": {},
          "output_type": "display_data"
        },
        {
          "data": {
            "text/html": [
              " View project at <a href='https://wandb.ai/cs22s015/CS6910_Assignment_1' target=\"_blank\">https://wandb.ai/cs22s015/CS6910_Assignment_1</a>"
            ],
            "text/plain": [
              "<IPython.core.display.HTML object>"
            ]
          },
          "metadata": {},
          "output_type": "display_data"
        },
        {
          "data": {
            "text/html": [
              " View sweep at <a href='https://wandb.ai/cs22s015/CS6910_Assignment_1/sweeps/k45px6gm' target=\"_blank\">https://wandb.ai/cs22s015/CS6910_Assignment_1/sweeps/k45px6gm</a>"
            ],
            "text/plain": [
              "<IPython.core.display.HTML object>"
            ]
          },
          "metadata": {},
          "output_type": "display_data"
        },
        {
          "data": {
            "text/html": [
              " View run at <a href='https://wandb.ai/cs22s015/CS6910_Assignment_1/runs/rf7xfbr9' target=\"_blank\">https://wandb.ai/cs22s015/CS6910_Assignment_1/runs/rf7xfbr9</a>"
            ],
            "text/plain": [
              "<IPython.core.display.HTML object>"
            ]
          },
          "metadata": {},
          "output_type": "display_data"
        },
        {
          "data": {
            "text/html": [
              "Finishing last run (ID:rf7xfbr9) before initializing another..."
            ],
            "text/plain": [
              "<IPython.core.display.HTML object>"
            ]
          },
          "metadata": {},
          "output_type": "display_data"
        },
        {
          "data": {
            "text/html": [
              "Waiting for W&B process to finish... <strong style=\"color:green\">(success).</strong>"
            ],
            "text/plain": [
              "<IPython.core.display.HTML object>"
            ]
          },
          "metadata": {},
          "output_type": "display_data"
        },
        {
          "data": {
            "text/html": [
              " View run <strong style=\"color:#cdcd00\">spring-sweep-1</strong> at: <a href='https://wandb.ai/cs22s015/CS6910_Assignment_1/runs/rf7xfbr9' target=\"_blank\">https://wandb.ai/cs22s015/CS6910_Assignment_1/runs/rf7xfbr9</a><br/>Synced 4 W&B file(s), 0 media file(s), 0 artifact file(s) and 0 other file(s)"
            ],
            "text/plain": [
              "<IPython.core.display.HTML object>"
            ]
          },
          "metadata": {},
          "output_type": "display_data"
        },
        {
          "data": {
            "text/html": [
              "Find logs at: <code>.\\wandb\\run-20230317_211100-rf7xfbr9\\logs</code>"
            ],
            "text/plain": [
              "<IPython.core.display.HTML object>"
            ]
          },
          "metadata": {},
          "output_type": "display_data"
        },
        {
          "data": {
            "text/html": [
              "Successfully finished last run (ID:rf7xfbr9). Initializing new run:<br/>"
            ],
            "text/plain": [
              "<IPython.core.display.HTML object>"
            ]
          },
          "metadata": {},
          "output_type": "display_data"
        },
        {
          "data": {
            "text/html": [
              "Tracking run with wandb version 0.14.0"
            ],
            "text/plain": [
              "<IPython.core.display.HTML object>"
            ]
          },
          "metadata": {},
          "output_type": "display_data"
        },
        {
          "data": {
            "text/html": [
              "Run data is saved locally in <code>c:\\Users\\Anushka Singh\\Downloads\\CS6910-Assignment-1-main\\wandb\\run-20230317_211101-rf7xfbr9</code>"
            ],
            "text/plain": [
              "<IPython.core.display.HTML object>"
            ]
          },
          "metadata": {},
          "output_type": "display_data"
        },
        {
          "data": {
            "text/html": [
              "Syncing run <strong><a href='https://wandb.ai/cs22s015/CS6910_Assignment_1/runs/rf7xfbr9' target=\"_blank\">op_nestrov_ac_tanh_hl_5_hls_256_ep_5_n_0.001_bs_64_wi_xavier</a></strong> to <a href='https://wandb.ai/cs22s015/CS6910_Assignment_1' target=\"_blank\">Weights & Biases</a> (<a href='https://wandb.me/run' target=\"_blank\">docs</a>)<br/>Sweep page: <a href='https://wandb.ai/cs22s015/CS6910_Assignment_1/sweeps/k45px6gm' target=\"_blank\">https://wandb.ai/cs22s015/CS6910_Assignment_1/sweeps/k45px6gm</a>"
            ],
            "text/plain": [
              "<IPython.core.display.HTML object>"
            ]
          },
          "metadata": {},
          "output_type": "display_data"
        },
        {
          "data": {
            "text/html": [
              " View project at <a href='https://wandb.ai/cs22s015/CS6910_Assignment_1' target=\"_blank\">https://wandb.ai/cs22s015/CS6910_Assignment_1</a>"
            ],
            "text/plain": [
              "<IPython.core.display.HTML object>"
            ]
          },
          "metadata": {},
          "output_type": "display_data"
        },
        {
          "data": {
            "text/html": [
              " View sweep at <a href='https://wandb.ai/cs22s015/CS6910_Assignment_1/sweeps/k45px6gm' target=\"_blank\">https://wandb.ai/cs22s015/CS6910_Assignment_1/sweeps/k45px6gm</a>"
            ],
            "text/plain": [
              "<IPython.core.display.HTML object>"
            ]
          },
          "metadata": {},
          "output_type": "display_data"
        },
        {
          "data": {
            "text/html": [
              " View run at <a href='https://wandb.ai/cs22s015/CS6910_Assignment_1/runs/rf7xfbr9' target=\"_blank\">https://wandb.ai/cs22s015/CS6910_Assignment_1/runs/rf7xfbr9</a>"
            ],
            "text/plain": [
              "<IPython.core.display.HTML object>"
            ]
          },
          "metadata": {},
          "output_type": "display_data"
        },
        {
          "name": "stdout",
          "output_type": "stream",
          "text": [
            "epoch 1\n"
          ]
        },
        {
          "name": "stderr",
          "output_type": "stream",
          "text": [
            "100%|██████████| 6000/6000 [00:28<00:00, 211.75it/s]\n"
          ]
        },
        {
          "name": "stdout",
          "output_type": "stream",
          "text": [
            "Val Accuracy = 82.26666666666667\n",
            "Val Loss = 0.9134567504993061\n"
          ]
        },
        {
          "name": "stderr",
          "output_type": "stream",
          "text": [
            "100%|██████████| 54000/54000 [04:17<00:00, 209.76it/s]\n"
          ]
        },
        {
          "name": "stdout",
          "output_type": "stream",
          "text": [
            "Train Accuracy = 83.50555555555556\n",
            "Train Loss = 0.8769572319861332\n"
          ]
        },
        {
          "name": "stderr",
          "output_type": "stream",
          "text": [
            "100%|██████████| 10000/10000 [00:53<00:00, 186.91it/s]\n"
          ]
        },
        {
          "name": "stdout",
          "output_type": "stream",
          "text": [
            "epoch 2\n"
          ]
        },
        {
          "name": "stderr",
          "output_type": "stream",
          "text": [
            "100%|██████████| 6000/6000 [00:29<00:00, 205.87it/s]\n"
          ]
        },
        {
          "name": "stdout",
          "output_type": "stream",
          "text": [
            "Val Accuracy = 84.0\n",
            "Val Loss = 0.7274102524090494\n"
          ]
        },
        {
          "name": "stderr",
          "output_type": "stream",
          "text": [
            " 72%|███████▏  | 38771/54000 [03:16<01:08, 221.00it/s]"
          ]
        }
      ],
      "source": [
        "# Question 4:\n",
        "sweep_config={\n",
        "    'method' : 'bayes' ,\n",
        "    'metric' : { 'name' : 'val_acc' , 'goal' : 'maximize' } ,\n",
        "    'parameters' : {\n",
        "        'epochs' : { 'values' : [5,10,20] },\n",
        "        'n_hidden_layers' : {'values' : [3,4,5]},\n",
        "        'n_hidden_layer_size' : { 'values' : [16,32,64,128,256]},\n",
        "        'batch_size' : { 'values' : [16,32,64,128]},\n",
        "        'learning_rate' : { 'values' : [0.001, 0.0001,0.0002,0.0003]},\n",
        "        'optimizer' : { 'values' : [\"sgd\", \"mgd\", \"nestrov\", \"rmsprop\", \"adam\", \"nadam\"] },\n",
        "        'activations' : { 'values' : [\"sigmoid\", \"tanh\", \"relu\"] },\n",
        "        'loss_function' : {'values' : ['cross_entropy']},\n",
        "        'weight_ini' : {'values' : ['random','xavier','he_normal','he_uniform']},\n",
        "        'weight_decay' : { 'values' : [0,0.0005]}\n",
        "    }\n",
        "}\n",
        "\n",
        "def train():\n",
        "  config_default={\n",
        "      'weight_ini':'bayes',\n",
        "      'n_hidden_layers':3,\n",
        "      'n_hidden_layer_size':32,\n",
        "      'optimizer':'sgd',\n",
        "      'learning_rate':0.01,\n",
        "      'epoch':10,\n",
        "      'batch_size':32\n",
        "  }\n",
        "  wandb.init(config=config_default)\n",
        "\n",
        "  c= wandb.config\n",
        "  name = \"op_\"+str(c.optimizer)+\"_ac_\"+str(c.activations)+\"_hl_\"+str(c.n_hidden_layers)+\"_hls_\"+str(c.n_hidden_layer_size)+\"_ep_\"+str(c.epochs)+\"_n_\"+str(c.learning_rate)+\"_bs_\"+str(c.batch_size)+\"_wi_\"+str(c.weight_ini)\n",
        "  wandb.init(name=name)\n",
        "  n_points , n_input = np.shape(x_train)\n",
        "\n",
        "  hn = [n_input]+[c.n_hidden_layer_size]*c.n_hidden_layers +[no_of_class] \n",
        "  hl = c.n_hidden_layers\n",
        "  act = c.activations\n",
        "  loss=c.loss_function\n",
        "  opt = c.optimizer\n",
        "  ep = c.epochs\n",
        "  bs = c.batch_size\n",
        "  lr = c.learning_rate\n",
        "  wi = c.weight_ini\n",
        "  wd=c.weight_decay\n",
        "\n",
        " \n",
        "  nn = NN(hn,ep,lr,act,loss,opt,wi,wd,bs)\n",
        "\n",
        "  nn.fit(x_train,y_train,x_test,y_test,x_val,y_val)\n",
        "\n",
        "  return\n",
        "sweep_id = wandb.sweep(sweep_config, project=\"CS6910_Assignment_1\")\n",
        "wandb.agent(sweep_id, function=train,count=20)"
      ]
    },
    {
      "cell_type": "code",
      "execution_count": null,
      "metadata": {
        "id": "5KIzaUovCLSH"
      },
      "outputs": [],
      "source": [
        "# Questtion 7 : plot of confusion matrix without using wandb\n",
        "# training our model for the best configuration \n",
        "hidden_layer=[256,256,256,256,256]\n",
        "no_of_class=10\n",
        "layer=[x_train.shape[1]]+hidden_layer+[no_of_class]\n",
        "print(layer_dim)\n",
        "lr=0.001\n",
        "\n",
        "nn = NN(layer_dim,10,lr,'relu','cross_entropy','nadam','he_uniform',64,'fashion_mnist',0.9,0.95,0.9,0.999,1e-8,0)\n",
        "\n",
        "nn.fit(x_train,y_train,x_test,y_test,x_val,y_val)\n",
        "\n",
        "\n"
      ]
    },
    {
      "cell_type": "code",
      "execution_count": null,
      "metadata": {
        "colab": {
          "base_uri": "https://localhost:8080/",
          "height": 634
        },
        "id": "JcHIs8XKT7gN",
        "outputId": "f9e03b61-3964-4d91-8448-2a0dd84059ee"
      },
      "outputs": [
        {
          "name": "stderr",
          "output_type": "stream",
          "text": [
            "100%|██████████| 10000/10000 [00:19<00:00, 510.75it/s]\n"
          ]
        },
        {
          "name": "stdout",
          "output_type": "stream",
          "text": [
            "Train Accuracy = 87.85\n",
            "Train Loss = 0.35932379958266636\n"
          ]
        },
        {
          "data": {
            "image/png": "[encoded data removed]",
            "text/plain": [
              "<Figure size 720x720 with 2 Axes>"
            ]
          },
          "metadata": {
            "needs_background": "light"
          },
          "output_type": "display_data"
        }
      ],
      "source": [
        "# Questtion 7 : plot of confusion matrix without using wandb\n",
        "from sklearn.metrics import confusion_matrix, ConfusionMatrixDisplay\n",
        "\n",
        "\n",
        "test_acc,test_loss,y_true,y_pred=nn.modelPerformance(x_test,y_test)\n",
        "\n",
        "print(\"Train Accuracy = \" + str(test_acc))\n",
        "print(\"Train Loss = \" + str(test_loss))\n",
        "class_names1 = ['T-shirt', 'Trouser', 'Pullover', 'Dress', 'Coat',\n",
        "               'Sandal', 'Shirt', 'Sneaker', 'Bag', 'Ankle boot']\n",
        "\n",
        "\n",
        "cm = confusion_matrix(y_true,y_pred)\n",
        "disp = ConfusionMatrixDisplay(confusion_matrix=cm,\n",
        "                               display_labels=class_names1)\n",
        "\n",
        "\n",
        "fig, ax = plt.subplots(figsize=(10,10))\n",
        "disp.plot(ax=ax)\n",
        "plt.show()\n"
      ]
    },
    {
      "cell_type": "code",
      "source": [
        "# Question 8: Comparison Between squared error and cross entropy loss \n",
        "sweep_config={\n",
        "    'method' : 'grid' ,\n",
        "    'metric' : { 'name' : 'val_acc' , 'goal' : 'maximize' } ,\n",
        "    'parameters' : {\n",
        "        'epochs' : { 'values' : [10] },\n",
        "        'n_hidden_layers' : {'values' : [5]},\n",
        "        'n_hidden_layer_size' : { 'values' : [256]},\n",
        "        'batch_size' : { 'values' : [64]},\n",
        "        'learning_rate' : { 'values' : [0.001]},\n",
        "        'optimizer' : { 'values' : [ \"nadam\"] },\n",
        "        'activations' : { 'values' : [\"relu\"] },\n",
        "        'loss_function' : {'values' : ['cross_entropy']},\n",
        "        'weight_ini' : {'values' : ['he_uniform']},\n",
        "        'weight_decay' : { 'values' : [0]}\n",
        "    }\n",
        "}\n",
        "\n",
        "def train():\n",
        "  config_default={\n",
        "      'weight_ini':'he_uniform',\n",
        "      'n_hidden_layers':3,\n",
        "      'n_hidden_layer_size':32,\n",
        "      'optimizer':'sgd',\n",
        "      'learning_rate':0.01,\n",
        "      'epoch':10,\n",
        "      'batch_size':32\n",
        "  }\n",
        "  wandb.init(config=config_default)\n",
        "\n",
        "  c= wandb.config\n",
        "  name = \"op_\"+str(c.optimizer)+\"_ac_\"+str(c.activations)+\"_hl_\"+str(c.n_hidden_layers)+\"_hls_\"+str(c.n_hidden_layer_size)+\"_ep_\"+str(c.epochs)+\"_n_\"+str(c.learning_rate)+\"_bs_\"+str(c.batch_size)+\"_wi_\"+str(c.weight_ini)\n",
        "  wandb.init(name=name)\n",
        "  n_points , n_input = np.shape(x_train)\n",
        "\n",
        "  hn = [n_input]+[c.n_hidden_layer_size]*c.n_hidden_layers +[no_of_class] \n",
        "  hl = c.n_hidden_layers\n",
        "  act = c.activations\n",
        "  loss=c.loss_function\n",
        "  opt = c.optimizer\n",
        "  ep = c.epochs\n",
        "  bs = c.batch_size\n",
        "  lr = c.learning_rate\n",
        "  wi = c.weight_ini\n",
        "  wd=c.weight_decay\n",
        "\n",
        " \n",
        "  nn = NN(hn,ep,lr,act,loss,opt,wi,bs,\"fashion_mnist\",0.9,0.95,0.9,0.999,1e-8,wd)\n",
        "\n",
        "  nn.fit(x_train,y_train,x_test,y_test,x_val,y_val)\n",
        "\n",
        "  return\n",
        "sweep_id = wandb.sweep(sweep_config, project=\"CS6910_Assignment_1\")\n",
        "wandb.agent(sweep_id, function=train,count=1)"
      ],
      "metadata": {
        "colab": {
          "base_uri": "https://localhost:8080/",
          "height": 1000,
          "referenced_widgets": [
            "9c5d896bad414e628544a0db851e75be",
            "23c6d31b079c4a3e9602743c7348a7c4",
            "12c8710fcc4341d6a9367a4761b601b1",
            "a7fb39d2ae764a1fa0037e1274b7760b",
            "117d782a54674e4bb9540f6a3f929553",
            "9a8fe7fadd8247098b978d182e6a6822",
            "c3368d7a92f447c1822c8b7113e97f94",
            "0dc0a474e94d4450b7dad7977027b355"
          ]
        },
        "id": "PaocNcbBUSoM",
        "outputId": "5fa21263-3013-4cc9-faf3-563d3b5882af"
      },
      "execution_count": null,
      "outputs": [
        {
          "output_type": "stream",
          "name": "stdout",
          "text": [
            "Create sweep with ID: oaig37jd\n",
            "Sweep URL: https://wandb.ai/cs22s015/CS6910_Assignment_1/sweeps/oaig37jd\n"
          ]
        },
        {
          "output_type": "stream",
          "name": "stderr",
          "text": [
            "\u001b[34m\u001b[1mwandb\u001b[0m: Agent Starting Run: dxvoxvkb with config:\n",
            "\u001b[34m\u001b[1mwandb\u001b[0m: \tactivations: relu\n",
            "\u001b[34m\u001b[1mwandb\u001b[0m: \tbatch_size: 64\n",
            "\u001b[34m\u001b[1mwandb\u001b[0m: \tepochs: 10\n",
            "\u001b[34m\u001b[1mwandb\u001b[0m: \tlearning_rate: 0.001\n",
            "\u001b[34m\u001b[1mwandb\u001b[0m: \tloss_function: cross_entropy\n",
            "\u001b[34m\u001b[1mwandb\u001b[0m: \tn_hidden_layer_size: 256\n",
            "\u001b[34m\u001b[1mwandb\u001b[0m: \tn_hidden_layers: 5\n",
            "\u001b[34m\u001b[1mwandb\u001b[0m: \toptimizer: nadam\n",
            "\u001b[34m\u001b[1mwandb\u001b[0m: \tweight_decay: 0\n",
            "\u001b[34m\u001b[1mwandb\u001b[0m: \tweight_ini: he_uniform\n",
            "\u001b[34m\u001b[1mwandb\u001b[0m: Currently logged in as: \u001b[33mcs22s015\u001b[0m. Use \u001b[1m`wandb login --relogin`\u001b[0m to force relogin\n"
          ]
        },
        {
          "output_type": "display_data",
          "data": {
            "text/plain": [
              "<IPython.core.display.HTML object>"
            ],
            "text/html": [
              "Tracking run with wandb version 0.14.0"
            ]
          },
          "metadata": {}
        },
        {
          "output_type": "display_data",
          "data": {
            "text/plain": [
              "<IPython.core.display.HTML object>"
            ],
            "text/html": [
              "Run data is saved locally in <code>/content/wandb/run-20230318_122604-dxvoxvkb</code>"
            ]
          },
          "metadata": {}
        },
        {
          "output_type": "display_data",
          "data": {
            "text/plain": [
              "<IPython.core.display.HTML object>"
            ],
            "text/html": [
              "Syncing run <strong><a href='https://wandb.ai/cs22s015/CS6910_Assignment_1/runs/dxvoxvkb' target=\"_blank\">dark-sweep-1</a></strong> to <a href='https://wandb.ai/cs22s015/CS6910_Assignment_1' target=\"_blank\">Weights & Biases</a> (<a href='https://wandb.me/run' target=\"_blank\">docs</a>)<br/>Sweep page: <a href='https://wandb.ai/cs22s015/CS6910_Assignment_1/sweeps/oaig37jd' target=\"_blank\">https://wandb.ai/cs22s015/CS6910_Assignment_1/sweeps/oaig37jd</a>"
            ]
          },
          "metadata": {}
        },
        {
          "output_type": "display_data",
          "data": {
            "text/plain": [
              "<IPython.core.display.HTML object>"
            ],
            "text/html": [
              " View project at <a href='https://wandb.ai/cs22s015/CS6910_Assignment_1' target=\"_blank\">https://wandb.ai/cs22s015/CS6910_Assignment_1</a>"
            ]
          },
          "metadata": {}
        },
        {
          "output_type": "display_data",
          "data": {
            "text/plain": [
              "<IPython.core.display.HTML object>"
            ],
            "text/html": [
              " View sweep at <a href='https://wandb.ai/cs22s015/CS6910_Assignment_1/sweeps/oaig37jd' target=\"_blank\">https://wandb.ai/cs22s015/CS6910_Assignment_1/sweeps/oaig37jd</a>"
            ]
          },
          "metadata": {}
        },
        {
          "output_type": "display_data",
          "data": {
            "text/plain": [
              "<IPython.core.display.HTML object>"
            ],
            "text/html": [
              " View run at <a href='https://wandb.ai/cs22s015/CS6910_Assignment_1/runs/dxvoxvkb' target=\"_blank\">https://wandb.ai/cs22s015/CS6910_Assignment_1/runs/dxvoxvkb</a>"
            ]
          },
          "metadata": {}
        },
        {
          "output_type": "display_data",
          "data": {
            "text/plain": [
              "<IPython.core.display.HTML object>"
            ],
            "text/html": [
              "Finishing last run (ID:dxvoxvkb) before initializing another..."
            ]
          },
          "metadata": {}
        },
        {
          "output_type": "display_data",
          "data": {
            "text/plain": [
              "<IPython.core.display.HTML object>"
            ],
            "text/html": [
              "Waiting for W&B process to finish... <strong style=\"color:green\">(success).</strong>"
            ]
          },
          "metadata": {}
        },
        {
          "output_type": "display_data",
          "data": {
            "text/plain": [
              "<IPython.core.display.HTML object>"
            ],
            "text/html": [
              " View run <strong style=\"color:#cdcd00\">dark-sweep-1</strong> at: <a href='https://wandb.ai/cs22s015/CS6910_Assignment_1/runs/dxvoxvkb' target=\"_blank\">https://wandb.ai/cs22s015/CS6910_Assignment_1/runs/dxvoxvkb</a><br/>Synced 4 W&B file(s), 0 media file(s), 0 artifact file(s) and 0 other file(s)"
            ]
          },
          "metadata": {}
        },
        {
          "output_type": "display_data",
          "data": {
            "text/plain": [
              "<IPython.core.display.HTML object>"
            ],
            "text/html": [
              "Find logs at: <code>./wandb/run-20230318_122604-dxvoxvkb/logs</code>"
            ]
          },
          "metadata": {}
        },
        {
          "output_type": "display_data",
          "data": {
            "text/plain": [
              "<IPython.core.display.HTML object>"
            ],
            "text/html": [
              "Successfully finished last run (ID:dxvoxvkb). Initializing new run:<br/>"
            ]
          },
          "metadata": {}
        },
        {
          "output_type": "display_data",
          "data": {
            "text/plain": [
              "<IPython.core.display.HTML object>"
            ],
            "text/html": [
              "Tracking run with wandb version 0.14.0"
            ]
          },
          "metadata": {}
        },
        {
          "output_type": "display_data",
          "data": {
            "text/plain": [
              "<IPython.core.display.HTML object>"
            ],
            "text/html": [
              "Run data is saved locally in <code>/content/wandb/run-20230318_122606-dxvoxvkb</code>"
            ]
          },
          "metadata": {}
        },
        {
          "output_type": "display_data",
          "data": {
            "text/plain": [
              "<IPython.core.display.HTML object>"
            ],
            "text/html": [
              "Syncing run <strong><a href='https://wandb.ai/cs22s015/CS6910_Assignment_1/runs/dxvoxvkb' target=\"_blank\">op_nadam_ac_relu_hl_5_hls_256_ep_10_n_0.001_bs_64_wi_he_uniform</a></strong> to <a href='https://wandb.ai/cs22s015/CS6910_Assignment_1' target=\"_blank\">Weights & Biases</a> (<a href='https://wandb.me/run' target=\"_blank\">docs</a>)<br/>Sweep page: <a href='https://wandb.ai/cs22s015/CS6910_Assignment_1/sweeps/oaig37jd' target=\"_blank\">https://wandb.ai/cs22s015/CS6910_Assignment_1/sweeps/oaig37jd</a>"
            ]
          },
          "metadata": {}
        },
        {
          "output_type": "display_data",
          "data": {
            "text/plain": [
              "<IPython.core.display.HTML object>"
            ],
            "text/html": [
              " View project at <a href='https://wandb.ai/cs22s015/CS6910_Assignment_1' target=\"_blank\">https://wandb.ai/cs22s015/CS6910_Assignment_1</a>"
            ]
          },
          "metadata": {}
        },
        {
          "output_type": "display_data",
          "data": {
            "text/plain": [
              "<IPython.core.display.HTML object>"
            ],
            "text/html": [
              " View sweep at <a href='https://wandb.ai/cs22s015/CS6910_Assignment_1/sweeps/oaig37jd' target=\"_blank\">https://wandb.ai/cs22s015/CS6910_Assignment_1/sweeps/oaig37jd</a>"
            ]
          },
          "metadata": {}
        },
        {
          "output_type": "display_data",
          "data": {
            "text/plain": [
              "<IPython.core.display.HTML object>"
            ],
            "text/html": [
              " View run at <a href='https://wandb.ai/cs22s015/CS6910_Assignment_1/runs/dxvoxvkb' target=\"_blank\">https://wandb.ai/cs22s015/CS6910_Assignment_1/runs/dxvoxvkb</a>"
            ]
          },
          "metadata": {}
        },
        {
          "output_type": "stream",
          "name": "stdout",
          "text": [
            "epoch 1\n"
          ]
        },
        {
          "output_type": "stream",
          "name": "stderr",
          "text": [
            "100%|██████████| 6000/6000 [00:07<00:00, 755.86it/s]\n"
          ]
        },
        {
          "output_type": "stream",
          "name": "stdout",
          "text": [
            "Val Accuracy = 85.11666666666666\n",
            "Val Loss = 0.3991888877007504\n"
          ]
        },
        {
          "output_type": "stream",
          "name": "stderr",
          "text": [
            "100%|██████████| 54000/54000 [01:26<00:00, 621.02it/s]\n"
          ]
        },
        {
          "output_type": "stream",
          "name": "stdout",
          "text": [
            "Train Accuracy = 86.28888888888889\n",
            "Train Loss = 0.36519124417304477\n"
          ]
        },
        {
          "output_type": "stream",
          "name": "stderr",
          "text": [
            "100%|██████████| 10000/10000 [00:15<00:00, 627.50it/s]\n"
          ]
        },
        {
          "output_type": "stream",
          "name": "stdout",
          "text": [
            "epoch 2\n"
          ]
        },
        {
          "output_type": "stream",
          "name": "stderr",
          "text": [
            "100%|██████████| 6000/6000 [00:08<00:00, 745.07it/s]\n"
          ]
        },
        {
          "output_type": "stream",
          "name": "stdout",
          "text": [
            "Val Accuracy = 86.83333333333333\n",
            "Val Loss = 0.3587469634035413\n"
          ]
        },
        {
          "output_type": "stream",
          "name": "stderr",
          "text": [
            "100%|██████████| 54000/54000 [01:27<00:00, 615.95it/s]\n"
          ]
        },
        {
          "output_type": "stream",
          "name": "stdout",
          "text": [
            "Train Accuracy = 88.4074074074074\n",
            "Train Loss = 0.3104044421429885\n"
          ]
        },
        {
          "output_type": "stream",
          "name": "stderr",
          "text": [
            "100%|██████████| 10000/10000 [00:16<00:00, 607.78it/s]\n"
          ]
        },
        {
          "output_type": "stream",
          "name": "stdout",
          "text": [
            "epoch 3\n"
          ]
        },
        {
          "output_type": "stream",
          "name": "stderr",
          "text": [
            "100%|██████████| 6000/6000 [00:08<00:00, 748.16it/s]\n"
          ]
        },
        {
          "output_type": "stream",
          "name": "stdout",
          "text": [
            "Val Accuracy = 87.88333333333334\n",
            "Val Loss = 0.33369724100569664\n"
          ]
        },
        {
          "output_type": "stream",
          "name": "stderr",
          "text": [
            "100%|██████████| 54000/54000 [01:27<00:00, 619.88it/s]\n"
          ]
        },
        {
          "output_type": "stream",
          "name": "stdout",
          "text": [
            "Train Accuracy = 89.72777777777777\n",
            "Train Loss = 0.27750452341353704\n"
          ]
        },
        {
          "output_type": "stream",
          "name": "stderr",
          "text": [
            "100%|██████████| 10000/10000 [00:17<00:00, 556.18it/s]\n"
          ]
        },
        {
          "output_type": "stream",
          "name": "stdout",
          "text": [
            "epoch 4\n"
          ]
        },
        {
          "output_type": "stream",
          "name": "stderr",
          "text": [
            "100%|██████████| 6000/6000 [00:08<00:00, 743.76it/s]\n"
          ]
        },
        {
          "output_type": "stream",
          "name": "stdout",
          "text": [
            "Val Accuracy = 88.01666666666667\n",
            "Val Loss = 0.32815291306143246\n"
          ]
        },
        {
          "output_type": "stream",
          "name": "stderr",
          "text": [
            "100%|██████████| 54000/54000 [01:29<00:00, 602.73it/s]\n"
          ]
        },
        {
          "output_type": "stream",
          "name": "stdout",
          "text": [
            "Train Accuracy = 90.1962962962963\n",
            "Train Loss = 0.2625538619962013\n"
          ]
        },
        {
          "output_type": "stream",
          "name": "stderr",
          "text": [
            "100%|██████████| 10000/10000 [00:18<00:00, 540.44it/s]\n"
          ]
        },
        {
          "output_type": "stream",
          "name": "stdout",
          "text": [
            "epoch 5\n"
          ]
        },
        {
          "output_type": "stream",
          "name": "stderr",
          "text": [
            "100%|██████████| 6000/6000 [00:08<00:00, 725.97it/s]\n"
          ]
        },
        {
          "output_type": "stream",
          "name": "stdout",
          "text": [
            "Val Accuracy = 88.01666666666667\n",
            "Val Loss = 0.32618782208658864\n"
          ]
        },
        {
          "output_type": "stream",
          "name": "stderr",
          "text": [
            "100%|██████████| 54000/54000 [01:28<00:00, 610.79it/s]\n"
          ]
        },
        {
          "output_type": "stream",
          "name": "stdout",
          "text": [
            "Train Accuracy = 90.54074074074074\n",
            "Train Loss = 0.25214616818916724\n"
          ]
        },
        {
          "output_type": "stream",
          "name": "stderr",
          "text": [
            "100%|██████████| 10000/10000 [00:16<00:00, 589.07it/s]\n"
          ]
        },
        {
          "output_type": "stream",
          "name": "stdout",
          "text": [
            "epoch 6\n"
          ]
        },
        {
          "output_type": "stream",
          "name": "stderr",
          "text": [
            "100%|██████████| 6000/6000 [00:07<00:00, 753.91it/s]\n"
          ]
        },
        {
          "output_type": "stream",
          "name": "stdout",
          "text": [
            "Val Accuracy = 88.41666666666667\n",
            "Val Loss = 0.3194804469820171\n"
          ]
        },
        {
          "output_type": "stream",
          "name": "stderr",
          "text": [
            "100%|██████████| 54000/54000 [01:33<00:00, 574.68it/s]\n"
          ]
        },
        {
          "output_type": "stream",
          "name": "stdout",
          "text": [
            "Train Accuracy = 91.06481481481481\n",
            "Train Loss = 0.23671773651071393\n"
          ]
        },
        {
          "output_type": "stream",
          "name": "stderr",
          "text": [
            "100%|██████████| 10000/10000 [00:15<00:00, 639.75it/s]\n"
          ]
        },
        {
          "output_type": "stream",
          "name": "stdout",
          "text": [
            "epoch 7\n"
          ]
        },
        {
          "output_type": "stream",
          "name": "stderr",
          "text": [
            "100%|██████████| 6000/6000 [00:10<00:00, 576.82it/s]\n"
          ]
        },
        {
          "output_type": "stream",
          "name": "stdout",
          "text": [
            "Val Accuracy = 88.43333333333334\n",
            "Val Loss = 0.3242450761365492\n"
          ]
        },
        {
          "output_type": "stream",
          "name": "stderr",
          "text": [
            "100%|██████████| 54000/54000 [01:24<00:00, 638.94it/s]\n"
          ]
        },
        {
          "output_type": "stream",
          "name": "stdout",
          "text": [
            "Train Accuracy = 91.32962962962964\n",
            "Train Loss = 0.22860341822544672\n"
          ]
        },
        {
          "output_type": "stream",
          "name": "stderr",
          "text": [
            "100%|██████████| 10000/10000 [00:16<00:00, 598.49it/s]\n"
          ]
        },
        {
          "output_type": "stream",
          "name": "stdout",
          "text": [
            "epoch 8\n"
          ]
        },
        {
          "output_type": "stream",
          "name": "stderr",
          "text": [
            "100%|██████████| 6000/6000 [00:08<00:00, 736.75it/s]\n"
          ]
        },
        {
          "output_type": "stream",
          "name": "stdout",
          "text": [
            "Val Accuracy = 88.48333333333333\n",
            "Val Loss = 0.3215222941296633\n"
          ]
        },
        {
          "output_type": "stream",
          "name": "stderr",
          "text": [
            "100%|██████████| 54000/54000 [01:27<00:00, 619.74it/s]\n"
          ]
        },
        {
          "output_type": "stream",
          "name": "stdout",
          "text": [
            "Train Accuracy = 91.71481481481482\n",
            "Train Loss = 0.21789183442116083\n"
          ]
        },
        {
          "output_type": "stream",
          "name": "stderr",
          "text": [
            "100%|██████████| 10000/10000 [00:15<00:00, 631.16it/s]\n"
          ]
        },
        {
          "output_type": "stream",
          "name": "stdout",
          "text": [
            "epoch 9\n"
          ]
        },
        {
          "output_type": "stream",
          "name": "stderr",
          "text": [
            "100%|██████████| 6000/6000 [00:08<00:00, 675.43it/s]\n"
          ]
        },
        {
          "output_type": "stream",
          "name": "stdout",
          "text": [
            "Val Accuracy = 88.63333333333334\n",
            "Val Loss = 0.3249658612742691\n"
          ]
        },
        {
          "output_type": "stream",
          "name": "stderr",
          "text": [
            "100%|██████████| 54000/54000 [01:26<00:00, 626.12it/s]\n"
          ]
        },
        {
          "output_type": "stream",
          "name": "stdout",
          "text": [
            "Train Accuracy = 91.97037037037038\n",
            "Train Loss = 0.2084030413496428\n"
          ]
        },
        {
          "output_type": "stream",
          "name": "stderr",
          "text": [
            "100%|██████████| 10000/10000 [00:15<00:00, 635.89it/s]\n"
          ]
        },
        {
          "output_type": "stream",
          "name": "stdout",
          "text": [
            "epoch 10\n"
          ]
        },
        {
          "output_type": "stream",
          "name": "stderr",
          "text": [
            "100%|██████████| 6000/6000 [00:10<00:00, 579.06it/s]\n"
          ]
        },
        {
          "output_type": "stream",
          "name": "stdout",
          "text": [
            "Val Accuracy = 88.45\n",
            "Val Loss = 0.3347748217474864\n"
          ]
        },
        {
          "output_type": "stream",
          "name": "stderr",
          "text": [
            "100%|██████████| 54000/54000 [01:26<00:00, 625.05it/s]\n"
          ]
        },
        {
          "output_type": "stream",
          "name": "stdout",
          "text": [
            "Train Accuracy = 92.12777777777778\n",
            "Train Loss = 0.20428202912313434\n"
          ]
        },
        {
          "output_type": "stream",
          "name": "stderr",
          "text": [
            "100%|██████████| 10000/10000 [00:15<00:00, 637.66it/s]\n"
          ]
        },
        {
          "output_type": "display_data",
          "data": {
            "text/plain": [
              "<IPython.core.display.HTML object>"
            ],
            "text/html": [
              "Waiting for W&B process to finish... <strong style=\"color:green\">(success).</strong>"
            ]
          },
          "metadata": {}
        },
        {
          "output_type": "display_data",
          "data": {
            "text/plain": [
              "VBox(children=(Label(value='0.001 MB of 0.001 MB uploaded (0.000 MB deduped)\\r'), FloatProgress(value=1.0, max…"
            ],
            "application/vnd.jupyter.widget-view+json": {
              "version_major": 2,
              "version_minor": 0,
              "model_id": "9c5d896bad414e628544a0db851e75be"
            }
          },
          "metadata": {}
        },
        {
          "output_type": "display_data",
          "data": {
            "text/plain": [
              "<IPython.core.display.HTML object>"
            ],
            "text/html": [
              "<style>\n",
              "    table.wandb td:nth-child(1) { padding: 0 10px; text-align: left ; width: auto;} td:nth-child(2) {text-align: left ; width: 100%}\n",
              "    .wandb-row { display: flex; flex-direction: row; flex-wrap: wrap; justify-content: flex-start; width: 100% }\n",
              "    .wandb-col { display: flex; flex-direction: column; flex-basis: 100%; flex: 1; padding: 10px; }\n",
              "    </style>\n",
              "<div class=\"wandb-row\"><div class=\"wandb-col\"><h3>Run history:</h3><br/><table class=\"wandb\"><tr><td>epoch</td><td>▁▁▁▁▁▁▁▁▁▁</td></tr><tr><td>test_acc</td><td>▁▅▇▇▇█████</td></tr><tr><td>test_loss</td><td>█▄▂▁▁▁▂▂▂▃</td></tr><tr><td>train_acc</td><td>▁▄▅▆▆▇▇███</td></tr><tr><td>train_loss</td><td>█▆▄▄▃▂▂▂▁▁</td></tr><tr><td>val_acc</td><td>▁▄▇▇▇█████</td></tr><tr><td>val_loss</td><td>█▄▂▂▂▁▁▁▁▂</td></tr></table><br/></div><div class=\"wandb-col\"><h3>Run summary:</h3><br/><table class=\"wandb\"><tr><td>epoch</td><td>11</td></tr><tr><td>test_acc</td><td>88.05</td></tr><tr><td>test_loss</td><td>0.35495</td></tr><tr><td>train_acc</td><td>92.12778</td></tr><tr><td>train_loss</td><td>0.20428</td></tr><tr><td>val_acc</td><td>88.45</td></tr><tr><td>val_loss</td><td>0.33477</td></tr></table><br/></div></div>"
            ]
          },
          "metadata": {}
        },
        {
          "output_type": "display_data",
          "data": {
            "text/plain": [
              "<IPython.core.display.HTML object>"
            ],
            "text/html": [
              " View run <strong style=\"color:#cdcd00\">op_nadam_ac_relu_hl_5_hls_256_ep_10_n_0.001_bs_64_wi_he_uniform</strong> at: <a href='https://wandb.ai/cs22s015/CS6910_Assignment_1/runs/dxvoxvkb' target=\"_blank\">https://wandb.ai/cs22s015/CS6910_Assignment_1/runs/dxvoxvkb</a><br/>Synced 5 W&B file(s), 0 media file(s), 0 artifact file(s) and 0 other file(s)"
            ]
          },
          "metadata": {}
        },
        {
          "output_type": "display_data",
          "data": {
            "text/plain": [
              "<IPython.core.display.HTML object>"
            ],
            "text/html": [
              "Find logs at: <code>./wandb/run-20230318_122606-dxvoxvkb/logs</code>"
            ]
          },
          "metadata": {}
        }
      ]
    },
    {
      "cell_type": "code",
      "source": [
        "# Question 8: \n",
        "sweep_config={\n",
        "    'method' : 'grid' ,\n",
        "    'metric' : { 'name' : 'val_acc' , 'goal' : 'maximize' } ,\n",
        "    'parameters' : {\n",
        "        'epochs' : { 'values' : [10] },\n",
        "        'n_hidden_layers' : {'values' : [5]},\n",
        "        'n_hidden_layer_size' : { 'values' : [256]},\n",
        "        'batch_size' : { 'values' : [64]},\n",
        "        'learning_rate' : { 'values' : [0.001]},\n",
        "        'optimizer' : { 'values' : [ \"nadam\"] },\n",
        "        'activations' : { 'values' : [\"relu\"] },\n",
        "        'loss_function' : {'values' : ['squared_error']},\n",
        "        'weight_ini' : {'values' : ['he_uniform']},\n",
        "        'weight_decay' : { 'values' : [0]}\n",
        "    }\n",
        "}\n",
        "\n",
        "def train():\n",
        "  config_default={\n",
        "      'weight_ini':'he_uniform',\n",
        "      'n_hidden_layers':3,\n",
        "      'n_hidden_layer_size':32,\n",
        "      'optimizer':'sgd',\n",
        "      'learning_rate':0.01,\n",
        "      'epoch':10,\n",
        "      'batch_size':32\n",
        "  }\n",
        "  wandb.init(config=config_default)\n",
        "\n",
        "  c= wandb.config\n",
        "  name = \"op_\"+str(c.optimizer)+\"_ac_\"+str(c.activations)+\"_hl_\"+str(c.n_hidden_layers)+\"_hls_\"+str(c.n_hidden_layer_size)+\"_ep_\"+str(c.epochs)+\"_n_\"+str(c.learning_rate)+\"_bs_\"+str(c.batch_size)+\"_wi_\"+str(c.weight_ini)\n",
        "  wandb.init(name=name)\n",
        "  n_points , n_input = np.shape(x_train)\n",
        "\n",
        "  hn = [n_input]+[c.n_hidden_layer_size]*c.n_hidden_layers +[no_of_class] \n",
        "  hl = c.n_hidden_layers\n",
        "  act = c.activations\n",
        "  loss=c.loss_function\n",
        "  opt = c.optimizer\n",
        "  ep = c.epochs\n",
        "  bs = c.batch_size\n",
        "  lr = c.learning_rate\n",
        "  wi = c.weight_ini\n",
        "  wd=c.weight_decay\n",
        "\n",
        " \n",
        "  nn = NN(hn,ep,lr,act,loss,opt,wi,bs,\"fashion_mnist\",0.9,0.95,0.9,0.999,1e-8,wd)\n",
        "\n",
        "  nn.fit(x_train,y_train,x_test,y_test,x_val,y_val)\n",
        "\n",
        "  return\n",
        "sweep_id = wandb.sweep(sweep_config, project=\"CS6910_Assignment_1\")\n",
        "wandb.agent(sweep_id, function=train,count=1)"
      ],
      "metadata": {
        "colab": {
          "base_uri": "https://localhost:8080/",
          "height": 1000
        },
        "id": "-t-sn8fX_n9C",
        "outputId": "86bd84ff-3f0d-4c21-da2f-64b2fe208684"
      },
      "execution_count": null,
      "outputs": [
        {
          "output_type": "stream",
          "name": "stdout",
          "text": [
            "Create sweep with ID: tn95hue6\n",
            "Sweep URL: https://wandb.ai/cs22s015/CS6910_Assignment_1/sweeps/tn95hue6\n"
          ]
        },
        {
          "output_type": "stream",
          "name": "stderr",
          "text": [
            "\u001b[34m\u001b[1mwandb\u001b[0m: Agent Starting Run: 7vagwp93 with config:\n",
            "\u001b[34m\u001b[1mwandb\u001b[0m: \tactivations: relu\n",
            "\u001b[34m\u001b[1mwandb\u001b[0m: \tbatch_size: 64\n",
            "\u001b[34m\u001b[1mwandb\u001b[0m: \tepochs: 10\n",
            "\u001b[34m\u001b[1mwandb\u001b[0m: \tlearning_rate: 0.001\n",
            "\u001b[34m\u001b[1mwandb\u001b[0m: \tloss_function: squared_error\n",
            "\u001b[34m\u001b[1mwandb\u001b[0m: \tn_hidden_layer_size: 256\n",
            "\u001b[34m\u001b[1mwandb\u001b[0m: \tn_hidden_layers: 5\n",
            "\u001b[34m\u001b[1mwandb\u001b[0m: \toptimizer: nadam\n",
            "\u001b[34m\u001b[1mwandb\u001b[0m: \tweight_decay: 0\n",
            "\u001b[34m\u001b[1mwandb\u001b[0m: \tweight_ini: he_uniform\n"
          ]
        },
        {
          "output_type": "display_data",
          "data": {
            "text/plain": [
              "<IPython.core.display.HTML object>"
            ],
            "text/html": [
              "Tracking run with wandb version 0.14.0"
            ]
          },
          "metadata": {}
        },
        {
          "output_type": "display_data",
          "data": {
            "text/plain": [
              "<IPython.core.display.HTML object>"
            ],
            "text/html": [
              "Run data is saved locally in <code>/content/wandb/run-20230318_142628-7vagwp93</code>"
            ]
          },
          "metadata": {}
        },
        {
          "output_type": "display_data",
          "data": {
            "text/plain": [
              "<IPython.core.display.HTML object>"
            ],
            "text/html": [
              "Syncing run <strong><a href='https://wandb.ai/cs22s015/CS6910_Assignment_1/runs/7vagwp93' target=\"_blank\">olive-sweep-1</a></strong> to <a href='https://wandb.ai/cs22s015/CS6910_Assignment_1' target=\"_blank\">Weights & Biases</a> (<a href='https://wandb.me/run' target=\"_blank\">docs</a>)<br/>Sweep page: <a href='https://wandb.ai/cs22s015/CS6910_Assignment_1/sweeps/tn95hue6' target=\"_blank\">https://wandb.ai/cs22s015/CS6910_Assignment_1/sweeps/tn95hue6</a>"
            ]
          },
          "metadata": {}
        },
        {
          "output_type": "display_data",
          "data": {
            "text/plain": [
              "<IPython.core.display.HTML object>"
            ],
            "text/html": [
              " View project at <a href='https://wandb.ai/cs22s015/CS6910_Assignment_1' target=\"_blank\">https://wandb.ai/cs22s015/CS6910_Assignment_1</a>"
            ]
          },
          "metadata": {}
        },
        {
          "output_type": "display_data",
          "data": {
            "text/plain": [
              "<IPython.core.display.HTML object>"
            ],
            "text/html": [
              " View sweep at <a href='https://wandb.ai/cs22s015/CS6910_Assignment_1/sweeps/tn95hue6' target=\"_blank\">https://wandb.ai/cs22s015/CS6910_Assignment_1/sweeps/tn95hue6</a>"
            ]
          },
          "metadata": {}
        },
        {
          "output_type": "display_data",
          "data": {
            "text/plain": [
              "<IPython.core.display.HTML object>"
            ],
            "text/html": [
              " View run at <a href='https://wandb.ai/cs22s015/CS6910_Assignment_1/runs/7vagwp93' target=\"_blank\">https://wandb.ai/cs22s015/CS6910_Assignment_1/runs/7vagwp93</a>"
            ]
          },
          "metadata": {}
        },
        {
          "output_type": "display_data",
          "data": {
            "text/plain": [
              "<IPython.core.display.HTML object>"
            ],
            "text/html": [
              "Finishing last run (ID:7vagwp93) before initializing another..."
            ]
          },
          "metadata": {}
        },
        {
          "output_type": "display_data",
          "data": {
            "text/plain": [
              "<IPython.core.display.HTML object>"
            ],
            "text/html": [
              "Waiting for W&B process to finish... <strong style=\"color:green\">(success).</strong>"
            ]
          },
          "metadata": {}
        },
        {
          "output_type": "display_data",
          "data": {
            "text/plain": [
              "<IPython.core.display.HTML object>"
            ],
            "text/html": [
              " View run <strong style=\"color:#cdcd00\">olive-sweep-1</strong> at: <a href='https://wandb.ai/cs22s015/CS6910_Assignment_1/runs/7vagwp93' target=\"_blank\">https://wandb.ai/cs22s015/CS6910_Assignment_1/runs/7vagwp93</a><br/>Synced 4 W&B file(s), 0 media file(s), 0 artifact file(s) and 0 other file(s)"
            ]
          },
          "metadata": {}
        },
        {
          "output_type": "display_data",
          "data": {
            "text/plain": [
              "<IPython.core.display.HTML object>"
            ],
            "text/html": [
              "Find logs at: <code>./wandb/run-20230318_142628-7vagwp93/logs</code>"
            ]
          },
          "metadata": {}
        },
        {
          "output_type": "display_data",
          "data": {
            "text/plain": [
              "<IPython.core.display.HTML object>"
            ],
            "text/html": [
              "Successfully finished last run (ID:7vagwp93). Initializing new run:<br/>"
            ]
          },
          "metadata": {}
        },
        {
          "output_type": "display_data",
          "data": {
            "text/plain": [
              "<IPython.core.display.HTML object>"
            ],
            "text/html": [
              "Tracking run with wandb version 0.14.0"
            ]
          },
          "metadata": {}
        },
        {
          "output_type": "display_data",
          "data": {
            "text/plain": [
              "<IPython.core.display.HTML object>"
            ],
            "text/html": [
              "Run data is saved locally in <code>/content/wandb/run-20230318_142633-7vagwp93</code>"
            ]
          },
          "metadata": {}
        },
        {
          "output_type": "display_data",
          "data": {
            "text/plain": [
              "<IPython.core.display.HTML object>"
            ],
            "text/html": [
              "Syncing run <strong><a href='https://wandb.ai/cs22s015/CS6910_Assignment_1/runs/7vagwp93' target=\"_blank\">op_nadam_ac_relu_hl_5_hls_256_ep_10_n_0.001_bs_64_wi_he_uniform</a></strong> to <a href='https://wandb.ai/cs22s015/CS6910_Assignment_1' target=\"_blank\">Weights & Biases</a> (<a href='https://wandb.me/run' target=\"_blank\">docs</a>)<br/>Sweep page: <a href='https://wandb.ai/cs22s015/CS6910_Assignment_1/sweeps/tn95hue6' target=\"_blank\">https://wandb.ai/cs22s015/CS6910_Assignment_1/sweeps/tn95hue6</a>"
            ]
          },
          "metadata": {}
        },
        {
          "output_type": "display_data",
          "data": {
            "text/plain": [
              "<IPython.core.display.HTML object>"
            ],
            "text/html": [
              " View project at <a href='https://wandb.ai/cs22s015/CS6910_Assignment_1' target=\"_blank\">https://wandb.ai/cs22s015/CS6910_Assignment_1</a>"
            ]
          },
          "metadata": {}
        },
        {
          "output_type": "display_data",
          "data": {
            "text/plain": [
              "<IPython.core.display.HTML object>"
            ],
            "text/html": [
              " View sweep at <a href='https://wandb.ai/cs22s015/CS6910_Assignment_1/sweeps/tn95hue6' target=\"_blank\">https://wandb.ai/cs22s015/CS6910_Assignment_1/sweeps/tn95hue6</a>"
            ]
          },
          "metadata": {}
        },
        {
          "output_type": "display_data",
          "data": {
            "text/plain": [
              "<IPython.core.display.HTML object>"
            ],
            "text/html": [
              " View run at <a href='https://wandb.ai/cs22s015/CS6910_Assignment_1/runs/7vagwp93' target=\"_blank\">https://wandb.ai/cs22s015/CS6910_Assignment_1/runs/7vagwp93</a>"
            ]
          },
          "metadata": {}
        },
        {
          "output_type": "stream",
          "name": "stdout",
          "text": [
            "epoch 1\n"
          ]
        },
        {
          "output_type": "stream",
          "name": "stderr",
          "text": [
            "100%|██████████| 6000/6000 [00:08<00:00, 670.48it/s]\n"
          ]
        },
        {
          "output_type": "stream",
          "name": "stdout",
          "text": [
            "Val Accuracy = 10.15\n",
            "Val Loss = 18.0\n"
          ]
        },
        {
          "output_type": "stream",
          "name": "stderr",
          "text": [
            "100%|██████████| 54000/54000 [01:30<00:00, 597.49it/s]\n"
          ]
        },
        {
          "output_type": "stream",
          "name": "stdout",
          "text": [
            "Train Accuracy = 9.983333333333333\n",
            "Train Loss = 18.0\n"
          ]
        },
        {
          "output_type": "stream",
          "name": "stderr",
          "text": [
            "100%|██████████| 10000/10000 [00:16<00:00, 620.83it/s]\n"
          ]
        },
        {
          "output_type": "stream",
          "name": "stdout",
          "text": [
            "epoch 2\n"
          ]
        },
        {
          "output_type": "stream",
          "name": "stderr",
          "text": [
            "100%|██████████| 6000/6000 [00:10<00:00, 563.36it/s]\n"
          ]
        },
        {
          "output_type": "stream",
          "name": "stdout",
          "text": [
            "Val Accuracy = 10.15\n",
            "Val Loss = 18.0\n"
          ]
        },
        {
          "output_type": "stream",
          "name": "stderr",
          "text": [
            "100%|██████████| 54000/54000 [01:27<00:00, 617.42it/s]\n"
          ]
        },
        {
          "output_type": "stream",
          "name": "stdout",
          "text": [
            "Train Accuracy = 9.983333333333333\n",
            "Train Loss = 18.0\n"
          ]
        },
        {
          "output_type": "stream",
          "name": "stderr",
          "text": [
            "100%|██████████| 10000/10000 [00:16<00:00, 618.56it/s]\n"
          ]
        },
        {
          "output_type": "stream",
          "name": "stdout",
          "text": [
            "epoch 3\n"
          ]
        },
        {
          "output_type": "stream",
          "name": "stderr",
          "text": [
            "100%|██████████| 6000/6000 [00:09<00:00, 658.17it/s]\n"
          ]
        },
        {
          "output_type": "stream",
          "name": "stdout",
          "text": [
            "Val Accuracy = 10.15\n",
            "Val Loss = 18.0\n"
          ]
        },
        {
          "output_type": "stream",
          "name": "stderr",
          "text": [
            "100%|██████████| 54000/54000 [01:26<00:00, 626.56it/s]\n"
          ]
        },
        {
          "output_type": "stream",
          "name": "stdout",
          "text": [
            "Train Accuracy = 9.983333333333333\n",
            "Train Loss = 18.0\n"
          ]
        },
        {
          "output_type": "stream",
          "name": "stderr",
          "text": [
            "100%|██████████| 10000/10000 [00:17<00:00, 570.34it/s]\n"
          ]
        },
        {
          "output_type": "stream",
          "name": "stdout",
          "text": [
            "epoch 4\n"
          ]
        },
        {
          "output_type": "stream",
          "name": "stderr",
          "text": [
            "100%|██████████| 6000/6000 [00:10<00:00, 563.69it/s]\n"
          ]
        },
        {
          "output_type": "stream",
          "name": "stdout",
          "text": [
            "Val Accuracy = 10.15\n",
            "Val Loss = 18.0\n"
          ]
        },
        {
          "output_type": "stream",
          "name": "stderr",
          "text": [
            "100%|██████████| 54000/54000 [01:29<00:00, 606.29it/s]\n"
          ]
        },
        {
          "output_type": "stream",
          "name": "stdout",
          "text": [
            "Train Accuracy = 9.983333333333333\n",
            "Train Loss = 18.0\n"
          ]
        },
        {
          "output_type": "stream",
          "name": "stderr",
          "text": [
            "100%|██████████| 10000/10000 [00:16<00:00, 613.31it/s]\n"
          ]
        },
        {
          "output_type": "stream",
          "name": "stdout",
          "text": [
            "epoch 5\n"
          ]
        },
        {
          "output_type": "stream",
          "name": "stderr",
          "text": [
            "100%|██████████| 6000/6000 [00:10<00:00, 589.65it/s]\n"
          ]
        },
        {
          "output_type": "stream",
          "name": "stdout",
          "text": [
            "Val Accuracy = 10.15\n",
            "Val Loss = 18.0\n"
          ]
        },
        {
          "output_type": "stream",
          "name": "stderr",
          "text": [
            "100%|██████████| 54000/54000 [01:26<00:00, 622.39it/s]\n"
          ]
        },
        {
          "output_type": "stream",
          "name": "stdout",
          "text": [
            "Train Accuracy = 9.983333333333333\n",
            "Train Loss = 18.0\n"
          ]
        },
        {
          "output_type": "stream",
          "name": "stderr",
          "text": [
            "100%|██████████| 10000/10000 [00:16<00:00, 606.56it/s]\n"
          ]
        },
        {
          "output_type": "stream",
          "name": "stdout",
          "text": [
            "epoch 6\n"
          ]
        },
        {
          "output_type": "stream",
          "name": "stderr",
          "text": [
            "100%|██████████| 6000/6000 [00:10<00:00, 573.73it/s]\n"
          ]
        },
        {
          "output_type": "stream",
          "name": "stdout",
          "text": [
            "Val Accuracy = 10.15\n",
            "Val Loss = 18.0\n"
          ]
        },
        {
          "output_type": "stream",
          "name": "stderr",
          "text": [
            "100%|██████████| 54000/54000 [01:27<00:00, 620.00it/s]\n"
          ]
        },
        {
          "output_type": "stream",
          "name": "stdout",
          "text": [
            "Train Accuracy = 9.983333333333333\n",
            "Train Loss = 18.0\n"
          ]
        },
        {
          "output_type": "stream",
          "name": "stderr",
          "text": [
            "100%|██████████| 10000/10000 [00:15<00:00, 627.21it/s]\n"
          ]
        },
        {
          "output_type": "stream",
          "name": "stdout",
          "text": [
            "epoch 7\n"
          ]
        },
        {
          "output_type": "stream",
          "name": "stderr",
          "text": [
            "100%|██████████| 6000/6000 [00:08<00:00, 748.60it/s]\n"
          ]
        },
        {
          "output_type": "stream",
          "name": "stdout",
          "text": [
            "Val Accuracy = 10.15\n",
            "Val Loss = 18.0\n"
          ]
        },
        {
          "output_type": "stream",
          "name": "stderr",
          "text": [
            "100%|██████████| 54000/54000 [01:27<00:00, 616.99it/s]\n"
          ]
        },
        {
          "output_type": "stream",
          "name": "stdout",
          "text": [
            "Train Accuracy = 9.983333333333333\n",
            "Train Loss = 18.0\n"
          ]
        },
        {
          "output_type": "stream",
          "name": "stderr",
          "text": [
            "100%|██████████| 10000/10000 [00:16<00:00, 595.69it/s]\n"
          ]
        },
        {
          "output_type": "stream",
          "name": "stdout",
          "text": [
            "epoch 8\n"
          ]
        },
        {
          "output_type": "stream",
          "name": "stderr",
          "text": [
            "100%|██████████| 6000/6000 [00:10<00:00, 580.87it/s]\n"
          ]
        },
        {
          "output_type": "stream",
          "name": "stdout",
          "text": [
            "Val Accuracy = 10.15\n",
            "Val Loss = 18.0\n"
          ]
        },
        {
          "output_type": "stream",
          "name": "stderr",
          "text": [
            "100%|██████████| 54000/54000 [01:26<00:00, 621.76it/s]\n"
          ]
        },
        {
          "output_type": "stream",
          "name": "stdout",
          "text": [
            "Train Accuracy = 9.983333333333333\n",
            "Train Loss = 18.0\n"
          ]
        },
        {
          "output_type": "stream",
          "name": "stderr",
          "text": [
            "100%|██████████| 10000/10000 [00:15<00:00, 631.38it/s]\n"
          ]
        },
        {
          "output_type": "stream",
          "name": "stdout",
          "text": [
            "epoch 9\n"
          ]
        },
        {
          "output_type": "stream",
          "name": "stderr",
          "text": [
            "100%|██████████| 6000/6000 [00:15<00:00, 378.63it/s]\n"
          ]
        },
        {
          "output_type": "stream",
          "name": "stdout",
          "text": [
            "Val Accuracy = 10.15\n",
            "Val Loss = 18.0\n"
          ]
        },
        {
          "output_type": "stream",
          "name": "stderr",
          "text": [
            "100%|██████████| 54000/54000 [02:25<00:00, 372.31it/s]\n"
          ]
        },
        {
          "output_type": "stream",
          "name": "stdout",
          "text": [
            "Train Accuracy = 9.983333333333333\n",
            "Train Loss = 18.0\n"
          ]
        },
        {
          "output_type": "stream",
          "name": "stderr",
          "text": [
            "100%|██████████| 10000/10000 [00:16<00:00, 624.19it/s]\n"
          ]
        },
        {
          "output_type": "stream",
          "name": "stdout",
          "text": [
            "epoch 10\n"
          ]
        },
        {
          "output_type": "stream",
          "name": "stderr",
          "text": [
            "100%|██████████| 6000/6000 [00:08<00:00, 693.76it/s]\n"
          ]
        },
        {
          "output_type": "stream",
          "name": "stdout",
          "text": [
            "Val Accuracy = 10.15\n",
            "Val Loss = 18.0\n"
          ]
        },
        {
          "output_type": "stream",
          "name": "stderr",
          "text": [
            "100%|██████████| 54000/54000 [01:31<00:00, 588.93it/s]\n"
          ]
        },
        {
          "output_type": "stream",
          "name": "stdout",
          "text": [
            "Train Accuracy = 9.983333333333333\n",
            "Train Loss = 18.0\n"
          ]
        },
        {
          "output_type": "stream",
          "name": "stderr",
          "text": [
            "100%|██████████| 10000/10000 [00:16<00:00, 613.11it/s]\n"
          ]
        },
        {
          "output_type": "display_data",
          "data": {
            "text/plain": [
              "<IPython.core.display.HTML object>"
            ],
            "text/html": [
              "Waiting for W&B process to finish... <strong style=\"color:green\">(success).</strong>"
            ]
          },
          "metadata": {}
        },
        {
          "output_type": "display_data",
          "data": {
            "text/plain": [
              "<IPython.core.display.HTML object>"
            ],
            "text/html": [
              "<style>\n",
              "    table.wandb td:nth-child(1) { padding: 0 10px; text-align: left ; width: auto;} td:nth-child(2) {text-align: left ; width: 100%}\n",
              "    .wandb-row { display: flex; flex-direction: row; flex-wrap: wrap; justify-content: flex-start; width: 100% }\n",
              "    .wandb-col { display: flex; flex-direction: column; flex-basis: 100%; flex: 1; padding: 10px; }\n",
              "    </style>\n",
              "<div class=\"wandb-row\"><div class=\"wandb-col\"><h3>Run history:</h3><br/><table class=\"wandb\"><tr><td>epoch</td><td>▁▁▁▁▁▁▁▁▁▁</td></tr><tr><td>test_acc</td><td>▁▁▁▁▁▁▁▁▁▁</td></tr><tr><td>test_loss</td><td>▁▁▁▁▁▁▁▁▁▁</td></tr><tr><td>train_acc</td><td>▁▁▁▁▁▁▁▁▁▁</td></tr><tr><td>train_loss</td><td>▁▁▁▁▁▁▁▁▁▁</td></tr><tr><td>val_acc</td><td>▁▁▁▁▁▁▁▁▁▁</td></tr><tr><td>val_loss</td><td>▁▁▁▁▁▁▁▁▁▁</td></tr></table><br/></div><div class=\"wandb-col\"><h3>Run summary:</h3><br/><table class=\"wandb\"><tr><td>epoch</td><td>11</td></tr><tr><td>test_acc</td><td>10.0</td></tr><tr><td>test_loss</td><td>18.0</td></tr><tr><td>train_acc</td><td>9.98333</td></tr><tr><td>train_loss</td><td>18.0</td></tr><tr><td>val_acc</td><td>10.15</td></tr><tr><td>val_loss</td><td>18.0</td></tr></table><br/></div></div>"
            ]
          },
          "metadata": {}
        },
        {
          "output_type": "display_data",
          "data": {
            "text/plain": [
              "<IPython.core.display.HTML object>"
            ],
            "text/html": [
              " View run <strong style=\"color:#cdcd00\">op_nadam_ac_relu_hl_5_hls_256_ep_10_n_0.001_bs_64_wi_he_uniform</strong> at: <a href='https://wandb.ai/cs22s015/CS6910_Assignment_1/runs/7vagwp93' target=\"_blank\">https://wandb.ai/cs22s015/CS6910_Assignment_1/runs/7vagwp93</a><br/>Synced 5 W&B file(s), 0 media file(s), 0 artifact file(s) and 0 other file(s)"
            ]
          },
          "metadata": {}
        },
        {
          "output_type": "display_data",
          "data": {
            "text/plain": [
              "<IPython.core.display.HTML object>"
            ],
            "text/html": [
              "Find logs at: <code>./wandb/run-20230318_142633-7vagwp93/logs</code>"
            ]
          },
          "metadata": {}
        }
      ]
    },
    {
      "cell_type": "code",
      "source": [
        "# Question 10:\n",
        "x_train,x_test,x_val,y_train,y_test,y_val,class_names=load_data('mnist')\n",
        "print(x_train.shape)\n",
        "print(y_train.shape)\n",
        "print(x_val.shape)\n",
        "print(y_val.shape)\n",
        "print(x_test.shape)\n",
        "print(y_test.shape)\n"
      ],
      "metadata": {
        "colab": {
          "base_uri": "https://localhost:8080/",
          "height": 598
        },
        "id": "0bY4lHCFb4tT",
        "outputId": "b3acb7a8-5138-4a11-f428-f29a3f021952"
      },
      "execution_count": null,
      "outputs": [
        {
          "output_type": "display_data",
          "data": {
            "text/plain": [
              "<Figure size 864x432 with 10 Axes>"
            ],
            "image/png": "[encoded data removed]"
          },
          "metadata": {
            "needs_background": "light"
          }
        },
        {
          "output_type": "stream",
          "name": "stdout",
          "text": [
            "[[0. 0. 0. ... 0. 0. 0.]\n",
            " [0. 0. 0. ... 0. 0. 0.]\n",
            " [0. 1. 0. ... 0. 0. 0.]\n",
            " ...\n",
            " [0. 0. 0. ... 1. 0. 0.]\n",
            " [0. 0. 0. ... 0. 0. 1.]\n",
            " [0. 0. 0. ... 0. 0. 0.]]\n",
            "(6000, 10)\n",
            "(54000, 784)\n",
            "(54000, 10)\n",
            "(6000, 784)\n",
            "(6000, 10)\n",
            "(10000, 784)\n",
            "(10000, 10)\n"
          ]
        }
      ]
    },
    {
      "cell_type": "code",
      "source": [
        "# Question 10: Configuration 1\n",
        "hidden_layer=[256,256,256,256,256]\n",
        "no_of_class=10\n",
        "layer=[x_train.shape[1]]+hidden_layer+[no_of_class]\n",
        "print(layer_dim)\n",
        "lr=0.001\n",
        "nn = NN(layer,10,lr,'relu','cross_entropy','nadam','he_uniform',64,'mnist',0.9,0.95,0.9,0.999,1e-8,0)\n",
        "nn.fit(x_train,y_train,x_test,y_test,x_val,y_val)\n",
        "# Testing\n",
        "test_acc, test_loss, y_true, y_pred = nn.modelPerformance(x_test, y_test)\n",
        "print(\"Testing Accuracy = \" + str(test_acc))\n",
        "print(\"Testing Loss = \" + str(test_loss))\n",
        "  "
      ],
      "metadata": {
        "colab": {
          "base_uri": "https://localhost:8080/"
        },
        "id": "yNNahv3vcotb",
        "outputId": "86d27398-f6ce-4665-8536-83fdecd38bd5"
      },
      "execution_count": null,
      "outputs": [
        {
          "output_type": "stream",
          "name": "stdout",
          "text": [
            "[784, 256, 256, 256, 256, 256, 10]\n",
            "epoch 1\n"
          ]
        },
        {
          "output_type": "stream",
          "name": "stderr",
          "text": [
            "100%|██████████| 6000/6000 [00:08<00:00, 688.54it/s]\n"
          ]
        },
        {
          "output_type": "stream",
          "name": "stdout",
          "text": [
            "Val Accuracy = 96.33333333333333\n",
            "Val Loss = 0.11768992659890182\n"
          ]
        },
        {
          "output_type": "stream",
          "name": "stderr",
          "text": [
            "100%|██████████| 54000/54000 [01:24<00:00, 636.47it/s]\n"
          ]
        },
        {
          "output_type": "stream",
          "name": "stdout",
          "text": [
            "Train Accuracy = 97.66296296296296\n",
            "Train Loss = 0.07673502413883294\n"
          ]
        },
        {
          "output_type": "stream",
          "name": "stderr",
          "text": [
            "100%|██████████| 10000/10000 [00:16<00:00, 605.69it/s]\n"
          ]
        },
        {
          "output_type": "stream",
          "name": "stdout",
          "text": [
            "epoch 2\n"
          ]
        },
        {
          "output_type": "stream",
          "name": "stderr",
          "text": [
            "100%|██████████| 6000/6000 [00:10<00:00, 583.75it/s]\n"
          ]
        },
        {
          "output_type": "stream",
          "name": "stdout",
          "text": [
            "Val Accuracy = 96.86666666666666\n",
            "Val Loss = 0.11357065241622778\n"
          ]
        },
        {
          "output_type": "stream",
          "name": "stderr",
          "text": [
            "100%|██████████| 54000/54000 [01:24<00:00, 642.74it/s]\n"
          ]
        },
        {
          "output_type": "stream",
          "name": "stdout",
          "text": [
            "Train Accuracy = 98.45\n",
            "Train Loss = 0.049474729452334124\n"
          ]
        },
        {
          "output_type": "stream",
          "name": "stderr",
          "text": [
            "100%|██████████| 10000/10000 [00:16<00:00, 624.64it/s]\n"
          ]
        },
        {
          "output_type": "stream",
          "name": "stdout",
          "text": [
            "epoch 3\n"
          ]
        },
        {
          "output_type": "stream",
          "name": "stderr",
          "text": [
            "100%|██████████| 6000/6000 [00:10<00:00, 584.51it/s]\n"
          ]
        },
        {
          "output_type": "stream",
          "name": "stdout",
          "text": [
            "Val Accuracy = 97.0\n",
            "Val Loss = 0.10923516130438098\n"
          ]
        },
        {
          "output_type": "stream",
          "name": "stderr",
          "text": [
            "100%|██████████| 54000/54000 [01:23<00:00, 649.91it/s]\n"
          ]
        },
        {
          "output_type": "stream",
          "name": "stdout",
          "text": [
            "Train Accuracy = 98.92037037037036\n",
            "Train Loss = 0.03286483477677935\n"
          ]
        },
        {
          "output_type": "stream",
          "name": "stderr",
          "text": [
            "100%|██████████| 10000/10000 [00:16<00:00, 606.29it/s]\n"
          ]
        },
        {
          "output_type": "stream",
          "name": "stdout",
          "text": [
            "epoch 4\n"
          ]
        },
        {
          "output_type": "stream",
          "name": "stderr",
          "text": [
            "100%|██████████| 6000/6000 [00:10<00:00, 585.22it/s]\n"
          ]
        },
        {
          "output_type": "stream",
          "name": "stdout",
          "text": [
            "Val Accuracy = 97.31666666666666\n",
            "Val Loss = 0.1150999216497724\n"
          ]
        },
        {
          "output_type": "stream",
          "name": "stderr",
          "text": [
            "100%|██████████| 54000/54000 [01:24<00:00, 641.58it/s]\n"
          ]
        },
        {
          "output_type": "stream",
          "name": "stdout",
          "text": [
            "Train Accuracy = 99.25555555555556\n",
            "Train Loss = 0.023119229593266323\n"
          ]
        },
        {
          "output_type": "stream",
          "name": "stderr",
          "text": [
            "100%|██████████| 10000/10000 [00:16<00:00, 600.17it/s]\n"
          ]
        },
        {
          "output_type": "stream",
          "name": "stdout",
          "text": [
            "epoch 5\n"
          ]
        },
        {
          "output_type": "stream",
          "name": "stderr",
          "text": [
            "100%|██████████| 6000/6000 [00:10<00:00, 577.59it/s]\n"
          ]
        },
        {
          "output_type": "stream",
          "name": "stdout",
          "text": [
            "Val Accuracy = 97.45\n",
            "Val Loss = 0.12353631780749405\n"
          ]
        },
        {
          "output_type": "stream",
          "name": "stderr",
          "text": [
            "100%|██████████| 54000/54000 [01:26<00:00, 625.37it/s]\n"
          ]
        },
        {
          "output_type": "stream",
          "name": "stdout",
          "text": [
            "Train Accuracy = 99.36111111111111\n",
            "Train Loss = 0.01807648025012895\n"
          ]
        },
        {
          "output_type": "stream",
          "name": "stderr",
          "text": [
            "100%|██████████| 10000/10000 [00:15<00:00, 631.22it/s]\n"
          ]
        },
        {
          "output_type": "stream",
          "name": "stdout",
          "text": [
            "epoch 6\n"
          ]
        },
        {
          "output_type": "stream",
          "name": "stderr",
          "text": [
            "100%|██████████| 6000/6000 [00:10<00:00, 592.06it/s]\n"
          ]
        },
        {
          "output_type": "stream",
          "name": "stdout",
          "text": [
            "Val Accuracy = 97.36666666666666\n",
            "Val Loss = 0.13170639215062133\n"
          ]
        },
        {
          "output_type": "stream",
          "name": "stderr",
          "text": [
            "100%|██████████| 54000/54000 [01:26<00:00, 625.73it/s]\n"
          ]
        },
        {
          "output_type": "stream",
          "name": "stdout",
          "text": [
            "Train Accuracy = 99.35\n",
            "Train Loss = 0.018840673054583205\n"
          ]
        },
        {
          "output_type": "stream",
          "name": "stderr",
          "text": [
            "100%|██████████| 10000/10000 [00:15<00:00, 631.72it/s]\n"
          ]
        },
        {
          "output_type": "stream",
          "name": "stdout",
          "text": [
            "epoch 7\n"
          ]
        },
        {
          "output_type": "stream",
          "name": "stderr",
          "text": [
            "100%|██████████| 6000/6000 [00:09<00:00, 642.90it/s]\n"
          ]
        },
        {
          "output_type": "stream",
          "name": "stdout",
          "text": [
            "Val Accuracy = 97.51666666666667\n",
            "Val Loss = 0.12534847716636446\n"
          ]
        },
        {
          "output_type": "stream",
          "name": "stderr",
          "text": [
            "100%|██████████| 54000/54000 [01:27<00:00, 619.26it/s]\n"
          ]
        },
        {
          "output_type": "stream",
          "name": "stdout",
          "text": [
            "Train Accuracy = 99.71666666666667\n",
            "Train Loss = 0.008491969024256618\n"
          ]
        },
        {
          "output_type": "stream",
          "name": "stderr",
          "text": [
            "100%|██████████| 10000/10000 [00:15<00:00, 640.71it/s]\n"
          ]
        },
        {
          "output_type": "stream",
          "name": "stdout",
          "text": [
            "epoch 8\n"
          ]
        },
        {
          "output_type": "stream",
          "name": "stderr",
          "text": [
            "100%|██████████| 6000/6000 [00:10<00:00, 569.87it/s]\n"
          ]
        },
        {
          "output_type": "stream",
          "name": "stdout",
          "text": [
            "Val Accuracy = 97.38333333333334\n",
            "Val Loss = 0.14860728183840244\n"
          ]
        },
        {
          "output_type": "stream",
          "name": "stderr",
          "text": [
            "100%|██████████| 54000/54000 [01:27<00:00, 617.47it/s]\n"
          ]
        },
        {
          "output_type": "stream",
          "name": "stdout",
          "text": [
            "Train Accuracy = 99.69444444444444\n",
            "Train Loss = 0.009411406061182665\n"
          ]
        },
        {
          "output_type": "stream",
          "name": "stderr",
          "text": [
            "100%|██████████| 10000/10000 [00:16<00:00, 622.55it/s]\n"
          ]
        },
        {
          "output_type": "stream",
          "name": "stdout",
          "text": [
            "epoch 9\n"
          ]
        },
        {
          "output_type": "stream",
          "name": "stderr",
          "text": [
            "100%|██████████| 6000/6000 [00:08<00:00, 722.87it/s]\n"
          ]
        },
        {
          "output_type": "stream",
          "name": "stdout",
          "text": [
            "Val Accuracy = 97.35\n",
            "Val Loss = 0.15765426310088596\n"
          ]
        },
        {
          "output_type": "stream",
          "name": "stderr",
          "text": [
            "100%|██████████| 54000/54000 [01:25<00:00, 628.54it/s]\n"
          ]
        },
        {
          "output_type": "stream",
          "name": "stdout",
          "text": [
            "Train Accuracy = 99.61296296296297\n",
            "Train Loss = 0.011343534089885542\n"
          ]
        },
        {
          "output_type": "stream",
          "name": "stderr",
          "text": [
            "100%|██████████| 10000/10000 [00:16<00:00, 619.20it/s]\n"
          ]
        },
        {
          "output_type": "stream",
          "name": "stdout",
          "text": [
            "epoch 10\n"
          ]
        },
        {
          "output_type": "stream",
          "name": "stderr",
          "text": [
            "100%|██████████| 6000/6000 [00:10<00:00, 578.20it/s]\n"
          ]
        },
        {
          "output_type": "stream",
          "name": "stdout",
          "text": [
            "Val Accuracy = 97.2\n",
            "Val Loss = 0.16589195626130382\n"
          ]
        },
        {
          "output_type": "stream",
          "name": "stderr",
          "text": [
            "100%|██████████| 54000/54000 [01:26<00:00, 623.96it/s]\n"
          ]
        },
        {
          "output_type": "stream",
          "name": "stdout",
          "text": [
            "Train Accuracy = 99.63888888888889\n",
            "Train Loss = 0.009934242041185284\n"
          ]
        },
        {
          "output_type": "stream",
          "name": "stderr",
          "text": [
            "100%|██████████| 10000/10000 [00:15<00:00, 640.27it/s]\n",
            "100%|██████████| 10000/10000 [00:20<00:00, 490.81it/s]"
          ]
        },
        {
          "output_type": "stream",
          "name": "stdout",
          "text": [
            "Testing Accuracy = 97.76\n",
            "Testing Loss = 0.11335780895676643\n"
          ]
        },
        {
          "output_type": "stream",
          "name": "stderr",
          "text": [
            "\n"
          ]
        }
      ]
    },
    {
      "cell_type": "code",
      "source": [
        "# Question 10: Configuration 2 \n",
        "h_layer=[128,128,128,128]\n",
        "no_of_class=10\n",
        "l=[x_train.shape[1]]+h_layer+[no_of_class]\n",
        "print(l)\n",
        "lr=0.001\n",
        "nn = NN(l,10,lr,'relu','cross_entropy','nadam','he_uniform',64,'mnist',0.9,0.95,0.9,0.999,1e-8,0)\n",
        "nn.fit(x_train,y_train,x_test,y_test,x_val,y_val)\n",
        "# Testing\n",
        "test_acc, test_loss, y_true, y_pred = nn.modelPerformance(x_test, y_test)\n",
        "print(\"Testing Accuracy = \" + str(test_acc))\n",
        "print(\"Testing Loss = \" + str(test_loss))\n",
        "\n",
        "print(\"##########################################################################\")\n",
        "# Question 10: Configuration 3\n",
        "nn = NN(l,10,lr,'relu','cross_entropy','rmsprop','he_uniform',64,'mnist',0.9,0.95,0.9,0.999,1e-8,0)\n",
        "nn.fit(x_train,y_train,x_test,y_test,x_val,y_val)\n",
        "# Testing\n",
        "test_acc, test_loss, y_true, y_pred = nn.modelPerformance(x_test, y_test)\n",
        "print(\"Testing Accuracy = \" + str(test_acc))\n",
        "print(\"Testing Loss = \" + str(test_loss))\n",
        "\n",
        "  "
      ],
      "metadata": {
        "colab": {
          "base_uri": "https://localhost:8080/"
        },
        "id": "6Yz47PNAxJ-m",
        "outputId": "55465889-ece9-4c4e-8769-f45cdc5fa29c"
      },
      "execution_count": null,
      "outputs": [
        {
          "output_type": "stream",
          "name": "stdout",
          "text": [
            "[784, 128, 128, 128, 128, 10]\n",
            "epoch 1\n"
          ]
        },
        {
          "output_type": "stream",
          "name": "stderr",
          "text": [
            "100%|██████████| 6000/6000 [00:06<00:00, 956.61it/s] \n"
          ]
        },
        {
          "output_type": "stream",
          "name": "stdout",
          "text": [
            "Val Accuracy = 95.96666666666667\n",
            "Val Loss = 0.14179099921826696\n"
          ]
        },
        {
          "output_type": "stream",
          "name": "stderr",
          "text": [
            "100%|██████████| 54000/54000 [00:37<00:00, 1447.08it/s]\n"
          ]
        },
        {
          "output_type": "stream",
          "name": "stdout",
          "text": [
            "Train Accuracy = 96.8425925925926\n",
            "Train Loss = 0.10909236328200556\n"
          ]
        },
        {
          "output_type": "stream",
          "name": "stderr",
          "text": [
            "100%|██████████| 10000/10000 [00:08<00:00, 1134.11it/s]\n"
          ]
        },
        {
          "output_type": "stream",
          "name": "stdout",
          "text": [
            "epoch 2\n"
          ]
        },
        {
          "output_type": "stream",
          "name": "stderr",
          "text": [
            "100%|██████████| 6000/6000 [00:06<00:00, 955.06it/s] \n"
          ]
        },
        {
          "output_type": "stream",
          "name": "stdout",
          "text": [
            "Val Accuracy = 96.8\n",
            "Val Loss = 0.11961426965901285\n"
          ]
        },
        {
          "output_type": "stream",
          "name": "stderr",
          "text": [
            "100%|██████████| 54000/54000 [00:37<00:00, 1450.97it/s]\n"
          ]
        },
        {
          "output_type": "stream",
          "name": "stdout",
          "text": [
            "Train Accuracy = 97.75925925925925\n",
            "Train Loss = 0.07573472397391169\n"
          ]
        },
        {
          "output_type": "stream",
          "name": "stderr",
          "text": [
            "100%|██████████| 10000/10000 [00:08<00:00, 1157.48it/s]\n"
          ]
        },
        {
          "output_type": "stream",
          "name": "stdout",
          "text": [
            "epoch 3\n"
          ]
        },
        {
          "output_type": "stream",
          "name": "stderr",
          "text": [
            "100%|██████████| 6000/6000 [00:05<00:00, 1012.19it/s]\n"
          ]
        },
        {
          "output_type": "stream",
          "name": "stdout",
          "text": [
            "Val Accuracy = 97.01666666666667\n",
            "Val Loss = 0.11122614313802429\n"
          ]
        },
        {
          "output_type": "stream",
          "name": "stderr",
          "text": [
            "100%|██████████| 54000/54000 [00:37<00:00, 1428.16it/s]\n"
          ]
        },
        {
          "output_type": "stream",
          "name": "stdout",
          "text": [
            "Train Accuracy = 98.30925925925926\n",
            "Train Loss = 0.057510297217692956\n"
          ]
        },
        {
          "output_type": "stream",
          "name": "stderr",
          "text": [
            "100%|██████████| 10000/10000 [00:08<00:00, 1161.47it/s]\n"
          ]
        },
        {
          "output_type": "stream",
          "name": "stdout",
          "text": [
            "epoch 4\n"
          ]
        },
        {
          "output_type": "stream",
          "name": "stderr",
          "text": [
            "100%|██████████| 6000/6000 [00:05<00:00, 1195.84it/s]\n"
          ]
        },
        {
          "output_type": "stream",
          "name": "stdout",
          "text": [
            "Val Accuracy = 96.96666666666667\n",
            "Val Loss = 0.10787167446959027\n"
          ]
        },
        {
          "output_type": "stream",
          "name": "stderr",
          "text": [
            "100%|██████████| 54000/54000 [00:38<00:00, 1398.94it/s]\n"
          ]
        },
        {
          "output_type": "stream",
          "name": "stdout",
          "text": [
            "Train Accuracy = 98.70370370370371\n",
            "Train Loss = 0.045811882689025696\n"
          ]
        },
        {
          "output_type": "stream",
          "name": "stderr",
          "text": [
            "100%|██████████| 10000/10000 [00:08<00:00, 1149.83it/s]\n"
          ]
        },
        {
          "output_type": "stream",
          "name": "stdout",
          "text": [
            "epoch 5\n"
          ]
        },
        {
          "output_type": "stream",
          "name": "stderr",
          "text": [
            "100%|██████████| 6000/6000 [00:03<00:00, 1514.33it/s]\n"
          ]
        },
        {
          "output_type": "stream",
          "name": "stdout",
          "text": [
            "Val Accuracy = 97.0\n",
            "Val Loss = 0.10624716455615821\n"
          ]
        },
        {
          "output_type": "stream",
          "name": "stderr",
          "text": [
            "100%|██████████| 54000/54000 [00:39<00:00, 1376.70it/s]\n"
          ]
        },
        {
          "output_type": "stream",
          "name": "stdout",
          "text": [
            "Train Accuracy = 98.97407407407407\n",
            "Train Loss = 0.036640192414229084\n"
          ]
        },
        {
          "output_type": "stream",
          "name": "stderr",
          "text": [
            "100%|██████████| 10000/10000 [00:08<00:00, 1147.69it/s]\n"
          ]
        },
        {
          "output_type": "stream",
          "name": "stdout",
          "text": [
            "epoch 6\n"
          ]
        },
        {
          "output_type": "stream",
          "name": "stderr",
          "text": [
            "100%|██████████| 6000/6000 [00:03<00:00, 1657.64it/s]\n"
          ]
        },
        {
          "output_type": "stream",
          "name": "stdout",
          "text": [
            "Val Accuracy = 97.23333333333333\n",
            "Val Loss = 0.10592624157721339\n"
          ]
        },
        {
          "output_type": "stream",
          "name": "stderr",
          "text": [
            "100%|██████████| 54000/54000 [00:40<00:00, 1343.47it/s]\n"
          ]
        },
        {
          "output_type": "stream",
          "name": "stdout",
          "text": [
            "Train Accuracy = 99.17407407407407\n",
            "Train Loss = 0.029811147625702562\n"
          ]
        },
        {
          "output_type": "stream",
          "name": "stderr",
          "text": [
            "100%|██████████| 10000/10000 [00:08<00:00, 1146.97it/s]\n"
          ]
        },
        {
          "output_type": "stream",
          "name": "stdout",
          "text": [
            "epoch 7\n"
          ]
        },
        {
          "output_type": "stream",
          "name": "stderr",
          "text": [
            "100%|██████████| 6000/6000 [00:03<00:00, 1660.78it/s]\n"
          ]
        },
        {
          "output_type": "stream",
          "name": "stdout",
          "text": [
            "Val Accuracy = 97.26666666666667\n",
            "Val Loss = 0.10594834022705779\n"
          ]
        },
        {
          "output_type": "stream",
          "name": "stderr",
          "text": [
            "100%|██████████| 54000/54000 [00:40<00:00, 1339.08it/s]\n"
          ]
        },
        {
          "output_type": "stream",
          "name": "stdout",
          "text": [
            "Train Accuracy = 99.35\n",
            "Train Loss = 0.02434202286207727\n"
          ]
        },
        {
          "output_type": "stream",
          "name": "stderr",
          "text": [
            "100%|██████████| 10000/10000 [00:07<00:00, 1279.92it/s]\n"
          ]
        },
        {
          "output_type": "stream",
          "name": "stdout",
          "text": [
            "epoch 8\n"
          ]
        },
        {
          "output_type": "stream",
          "name": "stderr",
          "text": [
            "100%|██████████| 6000/6000 [00:03<00:00, 1593.71it/s]\n"
          ]
        },
        {
          "output_type": "stream",
          "name": "stdout",
          "text": [
            "Val Accuracy = 97.35\n",
            "Val Loss = 0.10764771470568951\n"
          ]
        },
        {
          "output_type": "stream",
          "name": "stderr",
          "text": [
            "100%|██████████| 54000/54000 [00:40<00:00, 1333.13it/s]\n"
          ]
        },
        {
          "output_type": "stream",
          "name": "stdout",
          "text": [
            "Train Accuracy = 99.45925925925926\n",
            "Train Loss = 0.020376466099533638\n"
          ]
        },
        {
          "output_type": "stream",
          "name": "stderr",
          "text": [
            "100%|██████████| 10000/10000 [00:07<00:00, 1299.58it/s]\n"
          ]
        },
        {
          "output_type": "stream",
          "name": "stdout",
          "text": [
            "epoch 9\n"
          ]
        },
        {
          "output_type": "stream",
          "name": "stderr",
          "text": [
            "100%|██████████| 6000/6000 [00:03<00:00, 1650.56it/s]\n"
          ]
        },
        {
          "output_type": "stream",
          "name": "stdout",
          "text": [
            "Val Accuracy = 97.33333333333333\n",
            "Val Loss = 0.11051496940299878\n"
          ]
        },
        {
          "output_type": "stream",
          "name": "stderr",
          "text": [
            "100%|██████████| 54000/54000 [00:40<00:00, 1335.86it/s]\n"
          ]
        },
        {
          "output_type": "stream",
          "name": "stdout",
          "text": [
            "Train Accuracy = 99.5425925925926\n",
            "Train Loss = 0.017351431971454084\n"
          ]
        },
        {
          "output_type": "stream",
          "name": "stderr",
          "text": [
            "100%|██████████| 10000/10000 [00:07<00:00, 1292.39it/s]\n"
          ]
        },
        {
          "output_type": "stream",
          "name": "stdout",
          "text": [
            "epoch 10\n"
          ]
        },
        {
          "output_type": "stream",
          "name": "stderr",
          "text": [
            "100%|██████████| 6000/6000 [00:04<00:00, 1376.95it/s]\n"
          ]
        },
        {
          "output_type": "stream",
          "name": "stdout",
          "text": [
            "Val Accuracy = 97.3\n",
            "Val Loss = 0.11517039109810562\n"
          ]
        },
        {
          "output_type": "stream",
          "name": "stderr",
          "text": [
            "100%|██████████| 54000/54000 [00:39<00:00, 1352.83it/s]\n"
          ]
        },
        {
          "output_type": "stream",
          "name": "stdout",
          "text": [
            "Train Accuracy = 99.61851851851851\n",
            "Train Loss = 0.014539238512189029\n"
          ]
        },
        {
          "output_type": "stream",
          "name": "stderr",
          "text": [
            "100%|██████████| 10000/10000 [00:09<00:00, 1106.79it/s]\n",
            "100%|██████████| 10000/10000 [00:06<00:00, 1577.25it/s]\n"
          ]
        },
        {
          "output_type": "stream",
          "name": "stdout",
          "text": [
            "Testing Accuracy = 97.76\n",
            "Testing Loss = 0.0868389582301557\n",
            "##########################################################################\n",
            "epoch 1\n"
          ]
        },
        {
          "output_type": "stream",
          "name": "stderr",
          "text": [
            "100%|██████████| 6000/6000 [00:03<00:00, 1704.07it/s]\n"
          ]
        },
        {
          "output_type": "stream",
          "name": "stdout",
          "text": [
            "Val Accuracy = 95.91666666666667\n",
            "Val Loss = 0.14281029299269135\n"
          ]
        },
        {
          "output_type": "stream",
          "name": "stderr",
          "text": [
            "100%|██████████| 54000/54000 [00:40<00:00, 1345.78it/s]\n"
          ]
        },
        {
          "output_type": "stream",
          "name": "stdout",
          "text": [
            "Train Accuracy = 96.49814814814815\n",
            "Train Loss = 0.11123396874803725\n"
          ]
        },
        {
          "output_type": "stream",
          "name": "stderr",
          "text": [
            "100%|██████████| 10000/10000 [00:06<00:00, 1657.42it/s]\n"
          ]
        },
        {
          "output_type": "stream",
          "name": "stdout",
          "text": [
            "epoch 2\n"
          ]
        },
        {
          "output_type": "stream",
          "name": "stderr",
          "text": [
            "100%|██████████| 6000/6000 [00:04<00:00, 1268.42it/s]\n"
          ]
        },
        {
          "output_type": "stream",
          "name": "stdout",
          "text": [
            "Val Accuracy = 96.48333333333333\n",
            "Val Loss = 0.12889148493008498\n"
          ]
        },
        {
          "output_type": "stream",
          "name": "stderr",
          "text": [
            "100%|██████████| 54000/54000 [00:40<00:00, 1323.51it/s]\n"
          ]
        },
        {
          "output_type": "stream",
          "name": "stdout",
          "text": [
            "Train Accuracy = 97.66851851851852\n",
            "Train Loss = 0.07821726924867285\n"
          ]
        },
        {
          "output_type": "stream",
          "name": "stderr",
          "text": [
            "100%|██████████| 10000/10000 [00:06<00:00, 1562.73it/s]\n"
          ]
        },
        {
          "output_type": "stream",
          "name": "stdout",
          "text": [
            "epoch 3\n"
          ]
        },
        {
          "output_type": "stream",
          "name": "stderr",
          "text": [
            "100%|██████████| 6000/6000 [00:03<00:00, 1686.41it/s]\n"
          ]
        },
        {
          "output_type": "stream",
          "name": "stdout",
          "text": [
            "Val Accuracy = 96.7\n",
            "Val Loss = 0.12990214494751368\n"
          ]
        },
        {
          "output_type": "stream",
          "name": "stderr",
          "text": [
            "100%|██████████| 54000/54000 [00:40<00:00, 1340.92it/s]\n"
          ]
        },
        {
          "output_type": "stream",
          "name": "stdout",
          "text": [
            "Train Accuracy = 98.0925925925926\n",
            "Train Loss = 0.061288010486164245\n"
          ]
        },
        {
          "output_type": "stream",
          "name": "stderr",
          "text": [
            "100%|██████████| 10000/10000 [00:06<00:00, 1654.66it/s]\n"
          ]
        },
        {
          "output_type": "stream",
          "name": "stdout",
          "text": [
            "epoch 4\n"
          ]
        },
        {
          "output_type": "stream",
          "name": "stderr",
          "text": [
            "100%|██████████| 6000/6000 [00:05<00:00, 1160.73it/s]\n"
          ]
        },
        {
          "output_type": "stream",
          "name": "stdout",
          "text": [
            "Val Accuracy = 96.95\n",
            "Val Loss = 0.12953188249307793\n"
          ]
        },
        {
          "output_type": "stream",
          "name": "stderr",
          "text": [
            "100%|██████████| 54000/54000 [00:38<00:00, 1386.99it/s]\n"
          ]
        },
        {
          "output_type": "stream",
          "name": "stdout",
          "text": [
            "Train Accuracy = 98.72407407407407\n",
            "Train Loss = 0.04076466792295191\n"
          ]
        },
        {
          "output_type": "stream",
          "name": "stderr",
          "text": [
            "100%|██████████| 10000/10000 [00:07<00:00, 1295.65it/s]\n"
          ]
        },
        {
          "output_type": "stream",
          "name": "stdout",
          "text": [
            "epoch 5\n"
          ]
        },
        {
          "output_type": "stream",
          "name": "stderr",
          "text": [
            "100%|██████████| 6000/6000 [00:06<00:00, 949.12it/s] \n"
          ]
        },
        {
          "output_type": "stream",
          "name": "stdout",
          "text": [
            "Val Accuracy = 97.06666666666666\n",
            "Val Loss = 0.15507497293978395\n"
          ]
        },
        {
          "output_type": "stream",
          "name": "stderr",
          "text": [
            "100%|██████████| 54000/54000 [00:38<00:00, 1396.56it/s]\n"
          ]
        },
        {
          "output_type": "stream",
          "name": "stdout",
          "text": [
            "Train Accuracy = 98.75925925925925\n",
            "Train Loss = 0.0411367142591468\n"
          ]
        },
        {
          "output_type": "stream",
          "name": "stderr",
          "text": [
            "100%|██████████| 10000/10000 [00:09<00:00, 1000.90it/s]\n"
          ]
        },
        {
          "output_type": "stream",
          "name": "stdout",
          "text": [
            "epoch 6\n"
          ]
        },
        {
          "output_type": "stream",
          "name": "stderr",
          "text": [
            "100%|██████████| 6000/6000 [00:03<00:00, 1655.31it/s]\n"
          ]
        },
        {
          "output_type": "stream",
          "name": "stdout",
          "text": [
            "Val Accuracy = 97.13333333333334\n",
            "Val Loss = 0.15310719395142533\n"
          ]
        },
        {
          "output_type": "stream",
          "name": "stderr",
          "text": [
            "100%|██████████| 54000/54000 [00:40<00:00, 1338.35it/s]\n"
          ]
        },
        {
          "output_type": "stream",
          "name": "stdout",
          "text": [
            "Train Accuracy = 99.12592592592593\n",
            "Train Loss = 0.03116192699940894\n"
          ]
        },
        {
          "output_type": "stream",
          "name": "stderr",
          "text": [
            "100%|██████████| 10000/10000 [00:06<00:00, 1636.74it/s]\n"
          ]
        },
        {
          "output_type": "stream",
          "name": "stdout",
          "text": [
            "epoch 7\n"
          ]
        },
        {
          "output_type": "stream",
          "name": "stderr",
          "text": [
            "100%|██████████| 6000/6000 [00:03<00:00, 1643.64it/s]\n"
          ]
        },
        {
          "output_type": "stream",
          "name": "stdout",
          "text": [
            "Val Accuracy = 97.1\n",
            "Val Loss = 0.18057278609461283\n"
          ]
        },
        {
          "output_type": "stream",
          "name": "stderr",
          "text": [
            "100%|██████████| 54000/54000 [00:42<00:00, 1277.61it/s]\n"
          ]
        },
        {
          "output_type": "stream",
          "name": "stdout",
          "text": [
            "Train Accuracy = 98.87407407407407\n",
            "Train Loss = 0.04503609875048277\n"
          ]
        },
        {
          "output_type": "stream",
          "name": "stderr",
          "text": [
            "100%|██████████| 10000/10000 [00:06<00:00, 1617.14it/s]\n"
          ]
        },
        {
          "output_type": "stream",
          "name": "stdout",
          "text": [
            "epoch 8\n"
          ]
        },
        {
          "output_type": "stream",
          "name": "stderr",
          "text": [
            "100%|██████████| 6000/6000 [00:03<00:00, 1646.93it/s]\n"
          ]
        },
        {
          "output_type": "stream",
          "name": "stdout",
          "text": [
            "Val Accuracy = 97.08333333333333\n",
            "Val Loss = 0.1929883358073311\n"
          ]
        },
        {
          "output_type": "stream",
          "name": "stderr",
          "text": [
            "100%|██████████| 54000/54000 [00:40<00:00, 1347.59it/s]\n"
          ]
        },
        {
          "output_type": "stream",
          "name": "stdout",
          "text": [
            "Train Accuracy = 98.87777777777778\n",
            "Train Loss = 0.04382691949741509\n"
          ]
        },
        {
          "output_type": "stream",
          "name": "stderr",
          "text": [
            "100%|██████████| 10000/10000 [00:06<00:00, 1621.72it/s]\n"
          ]
        },
        {
          "output_type": "stream",
          "name": "stdout",
          "text": [
            "epoch 9\n"
          ]
        },
        {
          "output_type": "stream",
          "name": "stderr",
          "text": [
            "100%|██████████| 6000/6000 [00:03<00:00, 1690.55it/s]\n"
          ]
        },
        {
          "output_type": "stream",
          "name": "stdout",
          "text": [
            "Val Accuracy = 97.05\n",
            "Val Loss = 0.19295120952762046\n"
          ]
        },
        {
          "output_type": "stream",
          "name": "stderr",
          "text": [
            "100%|██████████| 54000/54000 [00:39<00:00, 1350.20it/s]\n"
          ]
        },
        {
          "output_type": "stream",
          "name": "stdout",
          "text": [
            "Train Accuracy = 99.04629629629629\n",
            "Train Loss = 0.0351631050857411\n"
          ]
        },
        {
          "output_type": "stream",
          "name": "stderr",
          "text": [
            "100%|██████████| 10000/10000 [00:06<00:00, 1615.65it/s]\n"
          ]
        },
        {
          "output_type": "stream",
          "name": "stdout",
          "text": [
            "epoch 10\n"
          ]
        },
        {
          "output_type": "stream",
          "name": "stderr",
          "text": [
            "100%|██████████| 6000/6000 [00:04<00:00, 1206.57it/s]\n"
          ]
        },
        {
          "output_type": "stream",
          "name": "stdout",
          "text": [
            "Val Accuracy = 97.45\n",
            "Val Loss = 0.1790395100890333\n"
          ]
        },
        {
          "output_type": "stream",
          "name": "stderr",
          "text": [
            "100%|██████████| 54000/54000 [00:40<00:00, 1333.25it/s]\n"
          ]
        },
        {
          "output_type": "stream",
          "name": "stdout",
          "text": [
            "Train Accuracy = 99.52407407407408\n",
            "Train Loss = 0.015888872021203163\n"
          ]
        },
        {
          "output_type": "stream",
          "name": "stderr",
          "text": [
            "100%|██████████| 10000/10000 [00:06<00:00, 1544.19it/s]\n",
            "100%|██████████| 10000/10000 [00:08<00:00, 1202.76it/s]"
          ]
        },
        {
          "output_type": "stream",
          "name": "stdout",
          "text": [
            "Testing Accuracy = 98.04\n",
            "Testing Loss = 0.12807070591631858\n"
          ]
        },
        {
          "output_type": "stream",
          "name": "stderr",
          "text": [
            "\n"
          ]
        }
      ]
    },
    {
      "cell_type": "code",
      "execution_count": null,
      "metadata": {
        "id": "tg2MWP6ljJ__"
      },
      "outputs": [],
      "source": [
        "import argparse\n",
        "\n",
        "parser = argparse.ArgumentParser()\n",
        "parser.add_argument('-wp','--wandb_project', type=str, default='CS6910_Assignment_1')\n",
        "parser.add_argument('-we','--wandb_entity', type=int, default='cs22s015')\n",
        "parser.add_argument('-d','--dataset', type=str, default='fashion_mnist')\n",
        "parser.add_argument('-e','--epochs', type=int, default=10)\n",
        "parser.add_argument('-b','--batch_size', type=int, default=64)\n",
        "parser.add_argument('-l','--loss', type=str, default='cross_entropy')\n",
        "parser.add_argument('-o','--optimizer', type=str, default='nadam')\n",
        "parser.add_argument('-l','--learning_rate', type=float, default=0.001)\n",
        "parser.add_argument('-m','--momentum', type=float, default=0.9)\n",
        "parser.add_argument('-beta','--beta', type=float, default=0.95)\n",
        "parser.add_argument('-beta1','--beta1', type=float, default=0.9)\n",
        "parser.add_argument('-beta2','--beta2', type=float, default=0.999)\n",
        "parser.add_argument('-eps','--epsilon', type=float, default=1e-8)\n",
        "parser.add_argument('-w_d','--weight_decay', type=float, default=0)\n",
        "parser.add_argument('-w_i','--weight_init', type=str, default='he_uniform')\n",
        "parser.add_argument('-sz','--hidden_size', type=int, default=256)\n",
        "parser.add_argument('-nhl','--num_layers', type=int, default=5)\n",
        "parser.add_argument('-a','--activation', type=str, default='relu')\n",
        "args = parser.parse_args()\n",
        "\n",
        "if __name__=='__main__':\n",
        "  layers=[]\n",
        "  layers.append(784)\n",
        "  num_layers=args.num_layers\n",
        "  hlayer_size=args.hidden_size\n",
        "  for i in range(num_layers):\n",
        "    layers.append(hlayer_size)\n",
        "  layers.append(10)\n",
        "\n",
        "\n",
        "  nn = NN(layers,args.epochs,args.learning_rate,args.activation,args.loss,args.optimizer,args.weight_init,args.batch_size,args.dataset,args.momentum,args.beta,args.beta1,args.beta2,args.epsilon,args.weight_decay)\n",
        "  x_train,x_test,x_val,y_train,y_test,y_val,class_names=nn.load_data(args.dataset)\n",
        "  \n",
        "  nn.fit(x_train,y_train,x_test,y_test,x_val,y_val)\n",
        "\n",
        "  # Testing\n",
        "  class_names1 = ['T-shirt', 'Trouser', 'Pullover', 'Dress', 'Coat',\n",
        "               'Sandal', 'Shirt', 'Sneaker', 'Bag', 'Ankle boot']\n",
        "  test_acc, test_loss, y_true, y_pred = nn.modelPerformance(x_test, y_test)\n",
        "  \n",
        "  print(\"Testing Accuracy = \" + str(test_acc))\n",
        "  print(\"Testing Loss = \" + str(test_loss))\n",
        "  wandb.log({\"test_acc\": test_acc})\n",
        "  wandb.log({\"Confusion_Matrix\": wandb.sklearn.plot_confusion_matrix(y_true, y_pred,class_names1)})\n",
        "\n"
      ]
    },
    {
      "cell_type": "code",
      "execution_count": null,
      "metadata": {
        "id": "_s59fKCLdWQW"
      },
      "outputs": [],
      "source": []
    }
  ],
  "metadata": {
    "colab": {
      "provenance": [],
      "include_colab_link": true
    },
    "gpuClass": "standard",
    "kernelspec": {
      "display_name": "Python 3",
      "name": "python3"
    },
    "language_info": {
      "codemirror_mode": {
        "name": "ipython",
        "version": 3
      },
      "file_extension": ".py",
      "mimetype": "text/x-python",
      "name": "python",
      "nbconvert_exporter": "python",
      "pygments_lexer": "ipython3",
      "version": "3.8.3"
    },
    "widgets": {
      "application/vnd.jupyter.widget-state+json": {
        "00d574552ad740b19eea01836ba9bd41": {
          "model_module": "@jupyter-widgets/controls",
          "model_module_version": "1.5.0",
          "model_name": "FloatProgressModel",
          "state": {
            "_dom_classes": [],
            "_model_module": "@jupyter-widgets/controls",
            "_model_module_version": "1.5.0",
            "_model_name": "FloatProgressModel",
            "_view_count": null,
            "_view_module": "@jupyter-widgets/controls",
            "_view_module_version": "1.5.0",
            "_view_name": "ProgressView",
            "bar_style": "",
            "description": "",
            "description_tooltip": null,
            "layout": "IPY_MODEL_1cc9a195d5cb4c23a7ec1a980aa915ba",
            "max": 1,
            "min": 0,
            "orientation": "horizontal",
            "style": "IPY_MODEL_4d248d04dacb47a3b79bc00954573e21",
            "value": 0.04925241864555849
          }
        },
        "0a5802e61d8b45e7b75494cec59b816a": {
          "model_module": "@jupyter-widgets/base",
          "model_module_version": "1.2.0",
          "model_name": "LayoutModel",
          "state": {
            "_model_module": "@jupyter-widgets/base",
            "_model_module_version": "1.2.0",
            "_model_name": "LayoutModel",
            "_view_count": null,
            "_view_module": "@jupyter-widgets/base",
            "_view_module_version": "1.2.0",
            "_view_name": "LayoutView",
            "align_content": null,
            "align_items": null,
            "align_self": null,
            "border": null,
            "bottom": null,
            "display": null,
            "flex": null,
            "flex_flow": null,
            "grid_area": null,
            "grid_auto_columns": null,
            "grid_auto_flow": null,
            "grid_auto_rows": null,
            "grid_column": null,
            "grid_gap": null,
            "grid_row": null,
            "grid_template_areas": null,
            "grid_template_columns": null,
            "grid_template_rows": null,
            "height": null,
            "justify_content": null,
            "justify_items": null,
            "left": null,
            "margin": null,
            "max_height": null,
            "max_width": null,
            "min_height": null,
            "min_width": null,
            "object_fit": null,
            "object_position": null,
            "order": null,
            "overflow": null,
            "overflow_x": null,
            "overflow_y": null,
            "padding": null,
            "right": null,
            "top": null,
            "visibility": null,
            "width": null
          }
        },
        "1059ed19294f4404b8f5e7346b692ae8": {
          "model_module": "@jupyter-widgets/base",
          "model_module_version": "1.2.0",
          "model_name": "LayoutModel",
          "state": {
            "_model_module": "@jupyter-widgets/base",
            "_model_module_version": "1.2.0",
            "_model_name": "LayoutModel",
            "_view_count": null,
            "_view_module": "@jupyter-widgets/base",
            "_view_module_version": "1.2.0",
            "_view_name": "LayoutView",
            "align_content": null,
            "align_items": null,
            "align_self": null,
            "border": null,
            "bottom": null,
            "display": null,
            "flex": null,
            "flex_flow": null,
            "grid_area": null,
            "grid_auto_columns": null,
            "grid_auto_flow": null,
            "grid_auto_rows": null,
            "grid_column": null,
            "grid_gap": null,
            "grid_row": null,
            "grid_template_areas": null,
            "grid_template_columns": null,
            "grid_template_rows": null,
            "height": null,
            "justify_content": null,
            "justify_items": null,
            "left": null,
            "margin": null,
            "max_height": null,
            "max_width": null,
            "min_height": null,
            "min_width": null,
            "object_fit": null,
            "object_position": null,
            "order": null,
            "overflow": null,
            "overflow_x": null,
            "overflow_y": null,
            "padding": null,
            "right": null,
            "top": null,
            "visibility": null,
            "width": null
          }
        },
        "178bfc95bcf048f8b388d812cba99b36": {
          "model_module": "@jupyter-widgets/controls",
          "model_module_version": "1.5.0",
          "model_name": "LabelModel",
          "state": {
            "_dom_classes": [],
            "_model_module": "@jupyter-widgets/controls",
            "_model_module_version": "1.5.0",
            "_model_name": "LabelModel",
            "_view_count": null,
            "_view_module": "@jupyter-widgets/controls",
            "_view_module_version": "1.5.0",
            "_view_name": "LabelView",
            "description": "",
            "description_tooltip": null,
            "layout": "IPY_MODEL_479c798e36dc458799ee61ddf0081f70",
            "placeholder": "​",
            "style": "IPY_MODEL_6ad194c6a9414ef096c7262386a0dea8",
            "value": "0.001 MB of 0.012 MB uploaded (0.000 MB deduped)\r"
          }
        },
        "18b49721336c4214890514ecd8c81da5": {
          "model_module": "@jupyter-widgets/controls",
          "model_module_version": "1.5.0",
          "model_name": "ProgressStyleModel",
          "state": {
            "_model_module": "@jupyter-widgets/controls",
            "_model_module_version": "1.5.0",
            "_model_name": "ProgressStyleModel",
            "_view_count": null,
            "_view_module": "@jupyter-widgets/base",
            "_view_module_version": "1.2.0",
            "_view_name": "StyleView",
            "bar_color": null,
            "description_width": ""
          }
        },
        "19be4348acdb48a781de157b8f740f48": {
          "model_module": "@jupyter-widgets/base",
          "model_module_version": "1.2.0",
          "model_name": "LayoutModel",
          "state": {
            "_model_module": "@jupyter-widgets/base",
            "_model_module_version": "1.2.0",
            "_model_name": "LayoutModel",
            "_view_count": null,
            "_view_module": "@jupyter-widgets/base",
            "_view_module_version": "1.2.0",
            "_view_name": "LayoutView",
            "align_content": null,
            "align_items": null,
            "align_self": null,
            "border": null,
            "bottom": null,
            "display": null,
            "flex": null,
            "flex_flow": null,
            "grid_area": null,
            "grid_auto_columns": null,
            "grid_auto_flow": null,
            "grid_auto_rows": null,
            "grid_column": null,
            "grid_gap": null,
            "grid_row": null,
            "grid_template_areas": null,
            "grid_template_columns": null,
            "grid_template_rows": null,
            "height": null,
            "justify_content": null,
            "justify_items": null,
            "left": null,
            "margin": null,
            "max_height": null,
            "max_width": null,
            "min_height": null,
            "min_width": null,
            "object_fit": null,
            "object_position": null,
            "order": null,
            "overflow": null,
            "overflow_x": null,
            "overflow_y": null,
            "padding": null,
            "right": null,
            "top": null,
            "visibility": null,
            "width": null
          }
        },
        "1cc9a195d5cb4c23a7ec1a980aa915ba": {
          "model_module": "@jupyter-widgets/base",
          "model_module_version": "1.2.0",
          "model_name": "LayoutModel",
          "state": {
            "_model_module": "@jupyter-widgets/base",
            "_model_module_version": "1.2.0",
            "_model_name": "LayoutModel",
            "_view_count": null,
            "_view_module": "@jupyter-widgets/base",
            "_view_module_version": "1.2.0",
            "_view_name": "LayoutView",
            "align_content": null,
            "align_items": null,
            "align_self": null,
            "border": null,
            "bottom": null,
            "display": null,
            "flex": null,
            "flex_flow": null,
            "grid_area": null,
            "grid_auto_columns": null,
            "grid_auto_flow": null,
            "grid_auto_rows": null,
            "grid_column": null,
            "grid_gap": null,
            "grid_row": null,
            "grid_template_areas": null,
            "grid_template_columns": null,
            "grid_template_rows": null,
            "height": null,
            "justify_content": null,
            "justify_items": null,
            "left": null,
            "margin": null,
            "max_height": null,
            "max_width": null,
            "min_height": null,
            "min_width": null,
            "object_fit": null,
            "object_position": null,
            "order": null,
            "overflow": null,
            "overflow_x": null,
            "overflow_y": null,
            "padding": null,
            "right": null,
            "top": null,
            "visibility": null,
            "width": null
          }
        },
        "1dc4fb2a062348458f20727ca5811c4c": {
          "model_module": "@jupyter-widgets/controls",
          "model_module_version": "1.5.0",
          "model_name": "FloatProgressModel",
          "state": {
            "_dom_classes": [],
            "_model_module": "@jupyter-widgets/controls",
            "_model_module_version": "1.5.0",
            "_model_name": "FloatProgressModel",
            "_view_count": null,
            "_view_module": "@jupyter-widgets/controls",
            "_view_module_version": "1.5.0",
            "_view_name": "ProgressView",
            "bar_style": "",
            "description": "",
            "description_tooltip": null,
            "layout": "IPY_MODEL_9604923f0c93492b9b794ff15d0085b8",
            "max": 1,
            "min": 0,
            "orientation": "horizontal",
            "style": "IPY_MODEL_f188e0014ff74fd788ecdde2be95facf",
            "value": 0.06336166194523135
          }
        },
        "2126f4ec95104648ab330ef3157e284e": {
          "model_module": "@jupyter-widgets/controls",
          "model_module_version": "1.5.0",
          "model_name": "LabelModel",
          "state": {
            "_dom_classes": [],
            "_model_module": "@jupyter-widgets/controls",
            "_model_module_version": "1.5.0",
            "_model_name": "LabelModel",
            "_view_count": null,
            "_view_module": "@jupyter-widgets/controls",
            "_view_module_version": "1.5.0",
            "_view_name": "LabelView",
            "description": "",
            "description_tooltip": null,
            "layout": "IPY_MODEL_6ab1d9439f4344d1b092cb7af61a1fa8",
            "placeholder": "​",
            "style": "IPY_MODEL_860b91c5b5a444fa8b4c65dc33448fce",
            "value": "0.001 MB of 0.001 MB uploaded (0.000 MB deduped)\r"
          }
        },
        "270b51639e504409964f199ad448163b": {
          "model_module": "@jupyter-widgets/base",
          "model_module_version": "1.2.0",
          "model_name": "LayoutModel",
          "state": {
            "_model_module": "@jupyter-widgets/base",
            "_model_module_version": "1.2.0",
            "_model_name": "LayoutModel",
            "_view_count": null,
            "_view_module": "@jupyter-widgets/base",
            "_view_module_version": "1.2.0",
            "_view_name": "LayoutView",
            "align_content": null,
            "align_items": null,
            "align_self": null,
            "border": null,
            "bottom": null,
            "display": null,
            "flex": null,
            "flex_flow": null,
            "grid_area": null,
            "grid_auto_columns": null,
            "grid_auto_flow": null,
            "grid_auto_rows": null,
            "grid_column": null,
            "grid_gap": null,
            "grid_row": null,
            "grid_template_areas": null,
            "grid_template_columns": null,
            "grid_template_rows": null,
            "height": null,
            "justify_content": null,
            "justify_items": null,
            "left": null,
            "margin": null,
            "max_height": null,
            "max_width": null,
            "min_height": null,
            "min_width": null,
            "object_fit": null,
            "object_position": null,
            "order": null,
            "overflow": null,
            "overflow_x": null,
            "overflow_y": null,
            "padding": null,
            "right": null,
            "top": null,
            "visibility": null,
            "width": null
          }
        },
        "2a46fb296a2a4a6aba507cc91d5c2981": {
          "model_module": "@jupyter-widgets/controls",
          "model_module_version": "1.5.0",
          "model_name": "DescriptionStyleModel",
          "state": {
            "_model_module": "@jupyter-widgets/controls",
            "_model_module_version": "1.5.0",
            "_model_name": "DescriptionStyleModel",
            "_view_count": null,
            "_view_module": "@jupyter-widgets/base",
            "_view_module_version": "1.2.0",
            "_view_name": "StyleView",
            "description_width": ""
          }
        },
        "2dcb8adbb968462cb3e377d4a24d4a93": {
          "model_module": "@jupyter-widgets/base",
          "model_module_version": "1.2.0",
          "model_name": "LayoutModel",
          "state": {
            "_model_module": "@jupyter-widgets/base",
            "_model_module_version": "1.2.0",
            "_model_name": "LayoutModel",
            "_view_count": null,
            "_view_module": "@jupyter-widgets/base",
            "_view_module_version": "1.2.0",
            "_view_name": "LayoutView",
            "align_content": null,
            "align_items": null,
            "align_self": null,
            "border": null,
            "bottom": null,
            "display": null,
            "flex": null,
            "flex_flow": null,
            "grid_area": null,
            "grid_auto_columns": null,
            "grid_auto_flow": null,
            "grid_auto_rows": null,
            "grid_column": null,
            "grid_gap": null,
            "grid_row": null,
            "grid_template_areas": null,
            "grid_template_columns": null,
            "grid_template_rows": null,
            "height": null,
            "justify_content": null,
            "justify_items": null,
            "left": null,
            "margin": null,
            "max_height": null,
            "max_width": null,
            "min_height": null,
            "min_width": null,
            "object_fit": null,
            "object_position": null,
            "order": null,
            "overflow": null,
            "overflow_x": null,
            "overflow_y": null,
            "padding": null,
            "right": null,
            "top": null,
            "visibility": null,
            "width": null
          }
        },
        "2e9ca8035170453686dda1c1c253b88a": {
          "model_module": "@jupyter-widgets/controls",
          "model_module_version": "1.5.0",
          "model_name": "ProgressStyleModel",
          "state": {
            "_model_module": "@jupyter-widgets/controls",
            "_model_module_version": "1.5.0",
            "_model_name": "ProgressStyleModel",
            "_view_count": null,
            "_view_module": "@jupyter-widgets/base",
            "_view_module_version": "1.2.0",
            "_view_name": "StyleView",
            "bar_color": null,
            "description_width": ""
          }
        },
        "3d47de4a8b4f4d009649069bb8502c4b": {
          "model_module": "@jupyter-widgets/base",
          "model_module_version": "1.2.0",
          "model_name": "LayoutModel",
          "state": {
            "_model_module": "@jupyter-widgets/base",
            "_model_module_version": "1.2.0",
            "_model_name": "LayoutModel",
            "_view_count": null,
            "_view_module": "@jupyter-widgets/base",
            "_view_module_version": "1.2.0",
            "_view_name": "LayoutView",
            "align_content": null,
            "align_items": null,
            "align_self": null,
            "border": null,
            "bottom": null,
            "display": null,
            "flex": null,
            "flex_flow": null,
            "grid_area": null,
            "grid_auto_columns": null,
            "grid_auto_flow": null,
            "grid_auto_rows": null,
            "grid_column": null,
            "grid_gap": null,
            "grid_row": null,
            "grid_template_areas": null,
            "grid_template_columns": null,
            "grid_template_rows": null,
            "height": null,
            "justify_content": null,
            "justify_items": null,
            "left": null,
            "margin": null,
            "max_height": null,
            "max_width": null,
            "min_height": null,
            "min_width": null,
            "object_fit": null,
            "object_position": null,
            "order": null,
            "overflow": null,
            "overflow_x": null,
            "overflow_y": null,
            "padding": null,
            "right": null,
            "top": null,
            "visibility": null,
            "width": null
          }
        },
        "479c798e36dc458799ee61ddf0081f70": {
          "model_module": "@jupyter-widgets/base",
          "model_module_version": "1.2.0",
          "model_name": "LayoutModel",
          "state": {
            "_model_module": "@jupyter-widgets/base",
            "_model_module_version": "1.2.0",
            "_model_name": "LayoutModel",
            "_view_count": null,
            "_view_module": "@jupyter-widgets/base",
            "_view_module_version": "1.2.0",
            "_view_name": "LayoutView",
            "align_content": null,
            "align_items": null,
            "align_self": null,
            "border": null,
            "bottom": null,
            "display": null,
            "flex": null,
            "flex_flow": null,
            "grid_area": null,
            "grid_auto_columns": null,
            "grid_auto_flow": null,
            "grid_auto_rows": null,
            "grid_column": null,
            "grid_gap": null,
            "grid_row": null,
            "grid_template_areas": null,
            "grid_template_columns": null,
            "grid_template_rows": null,
            "height": null,
            "justify_content": null,
            "justify_items": null,
            "left": null,
            "margin": null,
            "max_height": null,
            "max_width": null,
            "min_height": null,
            "min_width": null,
            "object_fit": null,
            "object_position": null,
            "order": null,
            "overflow": null,
            "overflow_x": null,
            "overflow_y": null,
            "padding": null,
            "right": null,
            "top": null,
            "visibility": null,
            "width": null
          }
        },
        "4945e6f31e5343bc87f477d061c4311a": {
          "model_module": "@jupyter-widgets/controls",
          "model_module_version": "1.5.0",
          "model_name": "DescriptionStyleModel",
          "state": {
            "_model_module": "@jupyter-widgets/controls",
            "_model_module_version": "1.5.0",
            "_model_name": "DescriptionStyleModel",
            "_view_count": null,
            "_view_module": "@jupyter-widgets/base",
            "_view_module_version": "1.2.0",
            "_view_name": "StyleView",
            "description_width": ""
          }
        },
        "4a69a6e997ac4f74b0284761c16c0e09": {
          "model_module": "@jupyter-widgets/base",
          "model_module_version": "1.2.0",
          "model_name": "LayoutModel",
          "state": {
            "_model_module": "@jupyter-widgets/base",
            "_model_module_version": "1.2.0",
            "_model_name": "LayoutModel",
            "_view_count": null,
            "_view_module": "@jupyter-widgets/base",
            "_view_module_version": "1.2.0",
            "_view_name": "LayoutView",
            "align_content": null,
            "align_items": null,
            "align_self": null,
            "border": null,
            "bottom": null,
            "display": null,
            "flex": null,
            "flex_flow": null,
            "grid_area": null,
            "grid_auto_columns": null,
            "grid_auto_flow": null,
            "grid_auto_rows": null,
            "grid_column": null,
            "grid_gap": null,
            "grid_row": null,
            "grid_template_areas": null,
            "grid_template_columns": null,
            "grid_template_rows": null,
            "height": null,
            "justify_content": null,
            "justify_items": null,
            "left": null,
            "margin": null,
            "max_height": null,
            "max_width": null,
            "min_height": null,
            "min_width": null,
            "object_fit": null,
            "object_position": null,
            "order": null,
            "overflow": null,
            "overflow_x": null,
            "overflow_y": null,
            "padding": null,
            "right": null,
            "top": null,
            "visibility": null,
            "width": null
          }
        },
        "4c365b632c7e4e4288194d64c410a3a4": {
          "model_module": "@jupyter-widgets/controls",
          "model_module_version": "1.5.0",
          "model_name": "VBoxModel",
          "state": {
            "_dom_classes": [],
            "_model_module": "@jupyter-widgets/controls",
            "_model_module_version": "1.5.0",
            "_model_name": "VBoxModel",
            "_view_count": null,
            "_view_module": "@jupyter-widgets/controls",
            "_view_module_version": "1.5.0",
            "_view_name": "VBoxView",
            "box_style": "",
            "children": [
              "IPY_MODEL_5db6040e633342fbb08c1def0df941a9",
              "IPY_MODEL_00d574552ad740b19eea01836ba9bd41"
            ],
            "layout": "IPY_MODEL_1059ed19294f4404b8f5e7346b692ae8"
          }
        },
        "4c4283a509aa443e860a5a1b33f63104": {
          "model_module": "@jupyter-widgets/controls",
          "model_module_version": "1.5.0",
          "model_name": "FloatProgressModel",
          "state": {
            "_dom_classes": [],
            "_model_module": "@jupyter-widgets/controls",
            "_model_module_version": "1.5.0",
            "_model_name": "FloatProgressModel",
            "_view_count": null,
            "_view_module": "@jupyter-widgets/controls",
            "_view_module_version": "1.5.0",
            "_view_name": "ProgressView",
            "bar_style": "",
            "description": "",
            "description_tooltip": null,
            "layout": "IPY_MODEL_6a0b42169c58479fa57194093e49f0e7",
            "max": 1,
            "min": 0,
            "orientation": "horizontal",
            "style": "IPY_MODEL_2e9ca8035170453686dda1c1c253b88a",
            "value": 0.052040579261209634
          }
        },
        "4ce10870f960419cb200a7f377fdbbbf": {
          "model_module": "@jupyter-widgets/controls",
          "model_module_version": "1.5.0",
          "model_name": "FloatProgressModel",
          "state": {
            "_dom_classes": [],
            "_model_module": "@jupyter-widgets/controls",
            "_model_module_version": "1.5.0",
            "_model_name": "FloatProgressModel",
            "_view_count": null,
            "_view_module": "@jupyter-widgets/controls",
            "_view_module_version": "1.5.0",
            "_view_name": "ProgressView",
            "bar_style": "",
            "description": "",
            "description_tooltip": null,
            "layout": "IPY_MODEL_0a5802e61d8b45e7b75494cec59b816a",
            "max": 1,
            "min": 0,
            "orientation": "horizontal",
            "style": "IPY_MODEL_b547447b12d4425f80b8b377a926d57d",
            "value": 0.9603513909224012
          }
        },
        "4d248d04dacb47a3b79bc00954573e21": {
          "model_module": "@jupyter-widgets/controls",
          "model_module_version": "1.5.0",
          "model_name": "ProgressStyleModel",
          "state": {
            "_model_module": "@jupyter-widgets/controls",
            "_model_module_version": "1.5.0",
            "_model_name": "ProgressStyleModel",
            "_view_count": null,
            "_view_module": "@jupyter-widgets/base",
            "_view_module_version": "1.2.0",
            "_view_name": "StyleView",
            "bar_color": null,
            "description_width": ""
          }
        },
        "50d22ae7c1db4a0180e179e7d685c238": {
          "model_module": "@jupyter-widgets/controls",
          "model_module_version": "1.5.0",
          "model_name": "VBoxModel",
          "state": {
            "_dom_classes": [],
            "_model_module": "@jupyter-widgets/controls",
            "_model_module_version": "1.5.0",
            "_model_name": "VBoxModel",
            "_view_count": null,
            "_view_module": "@jupyter-widgets/controls",
            "_view_module_version": "1.5.0",
            "_view_name": "VBoxView",
            "box_style": "",
            "children": [
              "IPY_MODEL_2126f4ec95104648ab330ef3157e284e",
              "IPY_MODEL_dfd8affb4d8d49c8b46934f09bfebd52"
            ],
            "layout": "IPY_MODEL_b1ab1d74dd1945218cacfe6c30900439"
          }
        },
        "57390ec4add2469b8b99955e78026c9a": {
          "model_module": "@jupyter-widgets/controls",
          "model_module_version": "1.5.0",
          "model_name": "DescriptionStyleModel",
          "state": {
            "_model_module": "@jupyter-widgets/controls",
            "_model_module_version": "1.5.0",
            "_model_name": "DescriptionStyleModel",
            "_view_count": null,
            "_view_module": "@jupyter-widgets/base",
            "_view_module_version": "1.2.0",
            "_view_name": "StyleView",
            "description_width": ""
          }
        },
        "5920f2afe185431aa77a86615f59cdb1": {
          "model_module": "@jupyter-widgets/controls",
          "model_module_version": "1.5.0",
          "model_name": "ProgressStyleModel",
          "state": {
            "_model_module": "@jupyter-widgets/controls",
            "_model_module_version": "1.5.0",
            "_model_name": "ProgressStyleModel",
            "_view_count": null,
            "_view_module": "@jupyter-widgets/base",
            "_view_module_version": "1.2.0",
            "_view_name": "StyleView",
            "bar_color": null,
            "description_width": ""
          }
        },
        "5affffc12f91463ca33ad4b215334e86": {
          "model_module": "@jupyter-widgets/base",
          "model_module_version": "1.2.0",
          "model_name": "LayoutModel",
          "state": {
            "_model_module": "@jupyter-widgets/base",
            "_model_module_version": "1.2.0",
            "_model_name": "LayoutModel",
            "_view_count": null,
            "_view_module": "@jupyter-widgets/base",
            "_view_module_version": "1.2.0",
            "_view_name": "LayoutView",
            "align_content": null,
            "align_items": null,
            "align_self": null,
            "border": null,
            "bottom": null,
            "display": null,
            "flex": null,
            "flex_flow": null,
            "grid_area": null,
            "grid_auto_columns": null,
            "grid_auto_flow": null,
            "grid_auto_rows": null,
            "grid_column": null,
            "grid_gap": null,
            "grid_row": null,
            "grid_template_areas": null,
            "grid_template_columns": null,
            "grid_template_rows": null,
            "height": null,
            "justify_content": null,
            "justify_items": null,
            "left": null,
            "margin": null,
            "max_height": null,
            "max_width": null,
            "min_height": null,
            "min_width": null,
            "object_fit": null,
            "object_position": null,
            "order": null,
            "overflow": null,
            "overflow_x": null,
            "overflow_y": null,
            "padding": null,
            "right": null,
            "top": null,
            "visibility": null,
            "width": null
          }
        },
        "5b3d2eaaa3e949a98edb4dd11acb7303": {
          "model_module": "@jupyter-widgets/controls",
          "model_module_version": "1.5.0",
          "model_name": "ProgressStyleModel",
          "state": {
            "_model_module": "@jupyter-widgets/controls",
            "_model_module_version": "1.5.0",
            "_model_name": "ProgressStyleModel",
            "_view_count": null,
            "_view_module": "@jupyter-widgets/base",
            "_view_module_version": "1.2.0",
            "_view_name": "StyleView",
            "bar_color": null,
            "description_width": ""
          }
        },
        "5db6040e633342fbb08c1def0df941a9": {
          "model_module": "@jupyter-widgets/controls",
          "model_module_version": "1.5.0",
          "model_name": "LabelModel",
          "state": {
            "_dom_classes": [],
            "_model_module": "@jupyter-widgets/controls",
            "_model_module_version": "1.5.0",
            "_model_name": "LabelModel",
            "_view_count": null,
            "_view_module": "@jupyter-widgets/controls",
            "_view_module_version": "1.5.0",
            "_view_name": "LabelView",
            "description": "",
            "description_tooltip": null,
            "layout": "IPY_MODEL_3d47de4a8b4f4d009649069bb8502c4b",
            "placeholder": "​",
            "style": "IPY_MODEL_6825816f19b946d5b9cdbabeab2fb8dd",
            "value": "0.001 MB of 0.013 MB uploaded (0.000 MB deduped)\r"
          }
        },
        "65f66f665b864002af49e415e8aa357b": {
          "model_module": "@jupyter-widgets/base",
          "model_module_version": "1.2.0",
          "model_name": "LayoutModel",
          "state": {
            "_model_module": "@jupyter-widgets/base",
            "_model_module_version": "1.2.0",
            "_model_name": "LayoutModel",
            "_view_count": null,
            "_view_module": "@jupyter-widgets/base",
            "_view_module_version": "1.2.0",
            "_view_name": "LayoutView",
            "align_content": null,
            "align_items": null,
            "align_self": null,
            "border": null,
            "bottom": null,
            "display": null,
            "flex": null,
            "flex_flow": null,
            "grid_area": null,
            "grid_auto_columns": null,
            "grid_auto_flow": null,
            "grid_auto_rows": null,
            "grid_column": null,
            "grid_gap": null,
            "grid_row": null,
            "grid_template_areas": null,
            "grid_template_columns": null,
            "grid_template_rows": null,
            "height": null,
            "justify_content": null,
            "justify_items": null,
            "left": null,
            "margin": null,
            "max_height": null,
            "max_width": null,
            "min_height": null,
            "min_width": null,
            "object_fit": null,
            "object_position": null,
            "order": null,
            "overflow": null,
            "overflow_x": null,
            "overflow_y": null,
            "padding": null,
            "right": null,
            "top": null,
            "visibility": null,
            "width": null
          }
        },
        "6825816f19b946d5b9cdbabeab2fb8dd": {
          "model_module": "@jupyter-widgets/controls",
          "model_module_version": "1.5.0",
          "model_name": "DescriptionStyleModel",
          "state": {
            "_model_module": "@jupyter-widgets/controls",
            "_model_module_version": "1.5.0",
            "_model_name": "DescriptionStyleModel",
            "_view_count": null,
            "_view_module": "@jupyter-widgets/base",
            "_view_module_version": "1.2.0",
            "_view_name": "StyleView",
            "description_width": ""
          }
        },
        "6a0b42169c58479fa57194093e49f0e7": {
          "model_module": "@jupyter-widgets/base",
          "model_module_version": "1.2.0",
          "model_name": "LayoutModel",
          "state": {
            "_model_module": "@jupyter-widgets/base",
            "_model_module_version": "1.2.0",
            "_model_name": "LayoutModel",
            "_view_count": null,
            "_view_module": "@jupyter-widgets/base",
            "_view_module_version": "1.2.0",
            "_view_name": "LayoutView",
            "align_content": null,
            "align_items": null,
            "align_self": null,
            "border": null,
            "bottom": null,
            "display": null,
            "flex": null,
            "flex_flow": null,
            "grid_area": null,
            "grid_auto_columns": null,
            "grid_auto_flow": null,
            "grid_auto_rows": null,
            "grid_column": null,
            "grid_gap": null,
            "grid_row": null,
            "grid_template_areas": null,
            "grid_template_columns": null,
            "grid_template_rows": null,
            "height": null,
            "justify_content": null,
            "justify_items": null,
            "left": null,
            "margin": null,
            "max_height": null,
            "max_width": null,
            "min_height": null,
            "min_width": null,
            "object_fit": null,
            "object_position": null,
            "order": null,
            "overflow": null,
            "overflow_x": null,
            "overflow_y": null,
            "padding": null,
            "right": null,
            "top": null,
            "visibility": null,
            "width": null
          }
        },
        "6ab1d9439f4344d1b092cb7af61a1fa8": {
          "model_module": "@jupyter-widgets/base",
          "model_module_version": "1.2.0",
          "model_name": "LayoutModel",
          "state": {
            "_model_module": "@jupyter-widgets/base",
            "_model_module_version": "1.2.0",
            "_model_name": "LayoutModel",
            "_view_count": null,
            "_view_module": "@jupyter-widgets/base",
            "_view_module_version": "1.2.0",
            "_view_name": "LayoutView",
            "align_content": null,
            "align_items": null,
            "align_self": null,
            "border": null,
            "bottom": null,
            "display": null,
            "flex": null,
            "flex_flow": null,
            "grid_area": null,
            "grid_auto_columns": null,
            "grid_auto_flow": null,
            "grid_auto_rows": null,
            "grid_column": null,
            "grid_gap": null,
            "grid_row": null,
            "grid_template_areas": null,
            "grid_template_columns": null,
            "grid_template_rows": null,
            "height": null,
            "justify_content": null,
            "justify_items": null,
            "left": null,
            "margin": null,
            "max_height": null,
            "max_width": null,
            "min_height": null,
            "min_width": null,
            "object_fit": null,
            "object_position": null,
            "order": null,
            "overflow": null,
            "overflow_x": null,
            "overflow_y": null,
            "padding": null,
            "right": null,
            "top": null,
            "visibility": null,
            "width": null
          }
        },
        "6ad194c6a9414ef096c7262386a0dea8": {
          "model_module": "@jupyter-widgets/controls",
          "model_module_version": "1.5.0",
          "model_name": "DescriptionStyleModel",
          "state": {
            "_model_module": "@jupyter-widgets/controls",
            "_model_module_version": "1.5.0",
            "_model_name": "DescriptionStyleModel",
            "_view_count": null,
            "_view_module": "@jupyter-widgets/base",
            "_view_module_version": "1.2.0",
            "_view_name": "StyleView",
            "description_width": ""
          }
        },
        "7469d9aba1454906bf19e5607d58be3d": {
          "model_module": "@jupyter-widgets/controls",
          "model_module_version": "1.5.0",
          "model_name": "DescriptionStyleModel",
          "state": {
            "_model_module": "@jupyter-widgets/controls",
            "_model_module_version": "1.5.0",
            "_model_name": "DescriptionStyleModel",
            "_view_count": null,
            "_view_module": "@jupyter-widgets/base",
            "_view_module_version": "1.2.0",
            "_view_name": "StyleView",
            "description_width": ""
          }
        },
        "7ab67880a47145648f1544885b6799f9": {
          "model_module": "@jupyter-widgets/controls",
          "model_module_version": "1.5.0",
          "model_name": "FloatProgressModel",
          "state": {
            "_dom_classes": [],
            "_model_module": "@jupyter-widgets/controls",
            "_model_module_version": "1.5.0",
            "_model_name": "FloatProgressModel",
            "_view_count": null,
            "_view_module": "@jupyter-widgets/controls",
            "_view_module_version": "1.5.0",
            "_view_name": "ProgressView",
            "bar_style": "",
            "description": "",
            "description_tooltip": null,
            "layout": "IPY_MODEL_f2c5aa46a836451aad9b77d5a32e5a14",
            "max": 1,
            "min": 0,
            "orientation": "horizontal",
            "style": "IPY_MODEL_5920f2afe185431aa77a86615f59cdb1",
            "value": 1
          }
        },
        "860b91c5b5a444fa8b4c65dc33448fce": {
          "model_module": "@jupyter-widgets/controls",
          "model_module_version": "1.5.0",
          "model_name": "DescriptionStyleModel",
          "state": {
            "_model_module": "@jupyter-widgets/controls",
            "_model_module_version": "1.5.0",
            "_model_name": "DescriptionStyleModel",
            "_view_count": null,
            "_view_module": "@jupyter-widgets/base",
            "_view_module_version": "1.2.0",
            "_view_name": "StyleView",
            "description_width": ""
          }
        },
        "8d8da13d489c477c9115e4c66aaa46dc": {
          "model_module": "@jupyter-widgets/controls",
          "model_module_version": "1.5.0",
          "model_name": "LabelModel",
          "state": {
            "_dom_classes": [],
            "_model_module": "@jupyter-widgets/controls",
            "_model_module_version": "1.5.0",
            "_model_name": "LabelModel",
            "_view_count": null,
            "_view_module": "@jupyter-widgets/controls",
            "_view_module_version": "1.5.0",
            "_view_name": "LabelView",
            "description": "",
            "description_tooltip": null,
            "layout": "IPY_MODEL_5affffc12f91463ca33ad4b215334e86",
            "placeholder": "​",
            "style": "IPY_MODEL_bf1dd59f37cb46dfa0c47af67865f24b",
            "value": "Waiting for wandb.init()...\r"
          }
        },
        "94d0782160284094af290cd8b9dc2552": {
          "model_module": "@jupyter-widgets/base",
          "model_module_version": "1.2.0",
          "model_name": "LayoutModel",
          "state": {
            "_model_module": "@jupyter-widgets/base",
            "_model_module_version": "1.2.0",
            "_model_name": "LayoutModel",
            "_view_count": null,
            "_view_module": "@jupyter-widgets/base",
            "_view_module_version": "1.2.0",
            "_view_name": "LayoutView",
            "align_content": null,
            "align_items": null,
            "align_self": null,
            "border": null,
            "bottom": null,
            "display": null,
            "flex": null,
            "flex_flow": null,
            "grid_area": null,
            "grid_auto_columns": null,
            "grid_auto_flow": null,
            "grid_auto_rows": null,
            "grid_column": null,
            "grid_gap": null,
            "grid_row": null,
            "grid_template_areas": null,
            "grid_template_columns": null,
            "grid_template_rows": null,
            "height": null,
            "justify_content": null,
            "justify_items": null,
            "left": null,
            "margin": null,
            "max_height": null,
            "max_width": null,
            "min_height": null,
            "min_width": null,
            "object_fit": null,
            "object_position": null,
            "order": null,
            "overflow": null,
            "overflow_x": null,
            "overflow_y": null,
            "padding": null,
            "right": null,
            "top": null,
            "visibility": null,
            "width": null
          }
        },
        "9604923f0c93492b9b794ff15d0085b8": {
          "model_module": "@jupyter-widgets/base",
          "model_module_version": "1.2.0",
          "model_name": "LayoutModel",
          "state": {
            "_model_module": "@jupyter-widgets/base",
            "_model_module_version": "1.2.0",
            "_model_name": "LayoutModel",
            "_view_count": null,
            "_view_module": "@jupyter-widgets/base",
            "_view_module_version": "1.2.0",
            "_view_name": "LayoutView",
            "align_content": null,
            "align_items": null,
            "align_self": null,
            "border": null,
            "bottom": null,
            "display": null,
            "flex": null,
            "flex_flow": null,
            "grid_area": null,
            "grid_auto_columns": null,
            "grid_auto_flow": null,
            "grid_auto_rows": null,
            "grid_column": null,
            "grid_gap": null,
            "grid_row": null,
            "grid_template_areas": null,
            "grid_template_columns": null,
            "grid_template_rows": null,
            "height": null,
            "justify_content": null,
            "justify_items": null,
            "left": null,
            "margin": null,
            "max_height": null,
            "max_width": null,
            "min_height": null,
            "min_width": null,
            "object_fit": null,
            "object_position": null,
            "order": null,
            "overflow": null,
            "overflow_x": null,
            "overflow_y": null,
            "padding": null,
            "right": null,
            "top": null,
            "visibility": null,
            "width": null
          }
        },
        "99f02e13436a48baa9d022d6fd7132bc": {
          "model_module": "@jupyter-widgets/controls",
          "model_module_version": "1.5.0",
          "model_name": "VBoxModel",
          "state": {
            "_dom_classes": [],
            "_model_module": "@jupyter-widgets/controls",
            "_model_module_version": "1.5.0",
            "_model_name": "VBoxModel",
            "_view_count": null,
            "_view_module": "@jupyter-widgets/controls",
            "_view_module_version": "1.5.0",
            "_view_name": "VBoxView",
            "box_style": "",
            "children": [
              "IPY_MODEL_ac2af3167e024fa6a95de51c50fee4eb",
              "IPY_MODEL_b47770b2bfc84726a1a08ebb19b30c87"
            ],
            "layout": "IPY_MODEL_4a69a6e997ac4f74b0284761c16c0e09"
          }
        },
        "9c83dad7da7c46348472c0ae97ef73be": {
          "model_module": "@jupyter-widgets/base",
          "model_module_version": "1.2.0",
          "model_name": "LayoutModel",
          "state": {
            "_model_module": "@jupyter-widgets/base",
            "_model_module_version": "1.2.0",
            "_model_name": "LayoutModel",
            "_view_count": null,
            "_view_module": "@jupyter-widgets/base",
            "_view_module_version": "1.2.0",
            "_view_name": "LayoutView",
            "align_content": null,
            "align_items": null,
            "align_self": null,
            "border": null,
            "bottom": null,
            "display": null,
            "flex": null,
            "flex_flow": null,
            "grid_area": null,
            "grid_auto_columns": null,
            "grid_auto_flow": null,
            "grid_auto_rows": null,
            "grid_column": null,
            "grid_gap": null,
            "grid_row": null,
            "grid_template_areas": null,
            "grid_template_columns": null,
            "grid_template_rows": null,
            "height": null,
            "justify_content": null,
            "justify_items": null,
            "left": null,
            "margin": null,
            "max_height": null,
            "max_width": null,
            "min_height": null,
            "min_width": null,
            "object_fit": null,
            "object_position": null,
            "order": null,
            "overflow": null,
            "overflow_x": null,
            "overflow_y": null,
            "padding": null,
            "right": null,
            "top": null,
            "visibility": null,
            "width": null
          }
        },
        "a45ae709357a41a49173e2383dbaa5d6": {
          "model_module": "@jupyter-widgets/controls",
          "model_module_version": "1.5.0",
          "model_name": "VBoxModel",
          "state": {
            "_dom_classes": [],
            "_model_module": "@jupyter-widgets/controls",
            "_model_module_version": "1.5.0",
            "_model_name": "VBoxModel",
            "_view_count": null,
            "_view_module": "@jupyter-widgets/controls",
            "_view_module_version": "1.5.0",
            "_view_name": "VBoxView",
            "box_style": "",
            "children": [
              "IPY_MODEL_f7a05da39df449bbb9806b4245944d6e",
              "IPY_MODEL_4ce10870f960419cb200a7f377fdbbbf"
            ],
            "layout": "IPY_MODEL_b1545df378864a84b9e86f108c672462"
          }
        },
        "aa8d80477e054cc1aca229c2aa44f55d": {
          "model_module": "@jupyter-widgets/controls",
          "model_module_version": "1.5.0",
          "model_name": "FloatProgressModel",
          "state": {
            "_dom_classes": [],
            "_model_module": "@jupyter-widgets/controls",
            "_model_module_version": "1.5.0",
            "_model_name": "FloatProgressModel",
            "_view_count": null,
            "_view_module": "@jupyter-widgets/controls",
            "_view_module_version": "1.5.0",
            "_view_name": "ProgressView",
            "bar_style": "",
            "description": "",
            "description_tooltip": null,
            "layout": "IPY_MODEL_65f66f665b864002af49e415e8aa357b",
            "max": 1,
            "min": 0,
            "orientation": "horizontal",
            "style": "IPY_MODEL_c38cbfb3cd1c4a2a94b245b73478c2cf",
            "value": 1
          }
        },
        "ac2af3167e024fa6a95de51c50fee4eb": {
          "model_module": "@jupyter-widgets/controls",
          "model_module_version": "1.5.0",
          "model_name": "LabelModel",
          "state": {
            "_dom_classes": [],
            "_model_module": "@jupyter-widgets/controls",
            "_model_module_version": "1.5.0",
            "_model_name": "LabelModel",
            "_view_count": null,
            "_view_module": "@jupyter-widgets/controls",
            "_view_module_version": "1.5.0",
            "_view_name": "LabelView",
            "description": "",
            "description_tooltip": null,
            "layout": "IPY_MODEL_19be4348acdb48a781de157b8f740f48",
            "placeholder": "​",
            "style": "IPY_MODEL_2a46fb296a2a4a6aba507cc91d5c2981",
            "value": "0.001 MB of 0.013 MB uploaded (0.000 MB deduped)\r"
          }
        },
        "b1545df378864a84b9e86f108c672462": {
          "model_module": "@jupyter-widgets/base",
          "model_module_version": "1.2.0",
          "model_name": "LayoutModel",
          "state": {
            "_model_module": "@jupyter-widgets/base",
            "_model_module_version": "1.2.0",
            "_model_name": "LayoutModel",
            "_view_count": null,
            "_view_module": "@jupyter-widgets/base",
            "_view_module_version": "1.2.0",
            "_view_name": "LayoutView",
            "align_content": null,
            "align_items": null,
            "align_self": null,
            "border": null,
            "bottom": null,
            "display": null,
            "flex": null,
            "flex_flow": null,
            "grid_area": null,
            "grid_auto_columns": null,
            "grid_auto_flow": null,
            "grid_auto_rows": null,
            "grid_column": null,
            "grid_gap": null,
            "grid_row": null,
            "grid_template_areas": null,
            "grid_template_columns": null,
            "grid_template_rows": null,
            "height": null,
            "justify_content": null,
            "justify_items": null,
            "left": null,
            "margin": null,
            "max_height": null,
            "max_width": null,
            "min_height": null,
            "min_width": null,
            "object_fit": null,
            "object_position": null,
            "order": null,
            "overflow": null,
            "overflow_x": null,
            "overflow_y": null,
            "padding": null,
            "right": null,
            "top": null,
            "visibility": null,
            "width": null
          }
        },
        "b1ab1d74dd1945218cacfe6c30900439": {
          "model_module": "@jupyter-widgets/base",
          "model_module_version": "1.2.0",
          "model_name": "LayoutModel",
          "state": {
            "_model_module": "@jupyter-widgets/base",
            "_model_module_version": "1.2.0",
            "_model_name": "LayoutModel",
            "_view_count": null,
            "_view_module": "@jupyter-widgets/base",
            "_view_module_version": "1.2.0",
            "_view_name": "LayoutView",
            "align_content": null,
            "align_items": null,
            "align_self": null,
            "border": null,
            "bottom": null,
            "display": null,
            "flex": null,
            "flex_flow": null,
            "grid_area": null,
            "grid_auto_columns": null,
            "grid_auto_flow": null,
            "grid_auto_rows": null,
            "grid_column": null,
            "grid_gap": null,
            "grid_row": null,
            "grid_template_areas": null,
            "grid_template_columns": null,
            "grid_template_rows": null,
            "height": null,
            "justify_content": null,
            "justify_items": null,
            "left": null,
            "margin": null,
            "max_height": null,
            "max_width": null,
            "min_height": null,
            "min_width": null,
            "object_fit": null,
            "object_position": null,
            "order": null,
            "overflow": null,
            "overflow_x": null,
            "overflow_y": null,
            "padding": null,
            "right": null,
            "top": null,
            "visibility": null,
            "width": null
          }
        },
        "b47770b2bfc84726a1a08ebb19b30c87": {
          "model_module": "@jupyter-widgets/controls",
          "model_module_version": "1.5.0",
          "model_name": "FloatProgressModel",
          "state": {
            "_dom_classes": [],
            "_model_module": "@jupyter-widgets/controls",
            "_model_module_version": "1.5.0",
            "_model_name": "FloatProgressModel",
            "_view_count": null,
            "_view_module": "@jupyter-widgets/controls",
            "_view_module_version": "1.5.0",
            "_view_name": "ProgressView",
            "bar_style": "",
            "description": "",
            "description_tooltip": null,
            "layout": "IPY_MODEL_c645990d0e03425290bca4c849bd4865",
            "max": 1,
            "min": 0,
            "orientation": "horizontal",
            "style": "IPY_MODEL_5b3d2eaaa3e949a98edb4dd11acb7303",
            "value": 0.04758190327613104
          }
        },
        "b547447b12d4425f80b8b377a926d57d": {
          "model_module": "@jupyter-widgets/controls",
          "model_module_version": "1.5.0",
          "model_name": "ProgressStyleModel",
          "state": {
            "_model_module": "@jupyter-widgets/controls",
            "_model_module_version": "1.5.0",
            "_model_name": "ProgressStyleModel",
            "_view_count": null,
            "_view_module": "@jupyter-widgets/base",
            "_view_module_version": "1.2.0",
            "_view_name": "StyleView",
            "bar_color": null,
            "description_width": ""
          }
        },
        "bcd4ea6c8dfd4e38ad0591ea0ed69719": {
          "model_module": "@jupyter-widgets/base",
          "model_module_version": "1.2.0",
          "model_name": "LayoutModel",
          "state": {
            "_model_module": "@jupyter-widgets/base",
            "_model_module_version": "1.2.0",
            "_model_name": "LayoutModel",
            "_view_count": null,
            "_view_module": "@jupyter-widgets/base",
            "_view_module_version": "1.2.0",
            "_view_name": "LayoutView",
            "align_content": null,
            "align_items": null,
            "align_self": null,
            "border": null,
            "bottom": null,
            "display": null,
            "flex": null,
            "flex_flow": null,
            "grid_area": null,
            "grid_auto_columns": null,
            "grid_auto_flow": null,
            "grid_auto_rows": null,
            "grid_column": null,
            "grid_gap": null,
            "grid_row": null,
            "grid_template_areas": null,
            "grid_template_columns": null,
            "grid_template_rows": null,
            "height": null,
            "justify_content": null,
            "justify_items": null,
            "left": null,
            "margin": null,
            "max_height": null,
            "max_width": null,
            "min_height": null,
            "min_width": null,
            "object_fit": null,
            "object_position": null,
            "order": null,
            "overflow": null,
            "overflow_x": null,
            "overflow_y": null,
            "padding": null,
            "right": null,
            "top": null,
            "visibility": null,
            "width": null
          }
        },
        "bd46273fe54d4504a85f001ec39f8c5d": {
          "model_module": "@jupyter-widgets/controls",
          "model_module_version": "1.5.0",
          "model_name": "LabelModel",
          "state": {
            "_dom_classes": [],
            "_model_module": "@jupyter-widgets/controls",
            "_model_module_version": "1.5.0",
            "_model_name": "LabelModel",
            "_view_count": null,
            "_view_module": "@jupyter-widgets/controls",
            "_view_module_version": "1.5.0",
            "_view_name": "LabelView",
            "description": "",
            "description_tooltip": null,
            "layout": "IPY_MODEL_c1d3fde0e8fa48818bce13325b92fda1",
            "placeholder": "​",
            "style": "IPY_MODEL_57390ec4add2469b8b99955e78026c9a",
            "value": "0.001 MB of 0.010 MB uploaded (0.000 MB deduped)\r"
          }
        },
        "bf1dd59f37cb46dfa0c47af67865f24b": {
          "model_module": "@jupyter-widgets/controls",
          "model_module_version": "1.5.0",
          "model_name": "DescriptionStyleModel",
          "state": {
            "_model_module": "@jupyter-widgets/controls",
            "_model_module_version": "1.5.0",
            "_model_name": "DescriptionStyleModel",
            "_view_count": null,
            "_view_module": "@jupyter-widgets/base",
            "_view_module_version": "1.2.0",
            "_view_name": "StyleView",
            "description_width": ""
          }
        },
        "c05dab4f2b3c4cc98ffccb965f4f9dfd": {
          "model_module": "@jupyter-widgets/controls",
          "model_module_version": "1.5.0",
          "model_name": "VBoxModel",
          "state": {
            "_dom_classes": [],
            "_model_module": "@jupyter-widgets/controls",
            "_model_module_version": "1.5.0",
            "_model_name": "VBoxModel",
            "_view_count": null,
            "_view_module": "@jupyter-widgets/controls",
            "_view_module_version": "1.5.0",
            "_view_name": "VBoxView",
            "box_style": "",
            "children": [
              "IPY_MODEL_8d8da13d489c477c9115e4c66aaa46dc",
              "IPY_MODEL_aa8d80477e054cc1aca229c2aa44f55d"
            ],
            "layout": "IPY_MODEL_c47aa843871f4dac833fda49a6be991d"
          }
        },
        "c1d3fde0e8fa48818bce13325b92fda1": {
          "model_module": "@jupyter-widgets/base",
          "model_module_version": "1.2.0",
          "model_name": "LayoutModel",
          "state": {
            "_model_module": "@jupyter-widgets/base",
            "_model_module_version": "1.2.0",
            "_model_name": "LayoutModel",
            "_view_count": null,
            "_view_module": "@jupyter-widgets/base",
            "_view_module_version": "1.2.0",
            "_view_name": "LayoutView",
            "align_content": null,
            "align_items": null,
            "align_self": null,
            "border": null,
            "bottom": null,
            "display": null,
            "flex": null,
            "flex_flow": null,
            "grid_area": null,
            "grid_auto_columns": null,
            "grid_auto_flow": null,
            "grid_auto_rows": null,
            "grid_column": null,
            "grid_gap": null,
            "grid_row": null,
            "grid_template_areas": null,
            "grid_template_columns": null,
            "grid_template_rows": null,
            "height": null,
            "justify_content": null,
            "justify_items": null,
            "left": null,
            "margin": null,
            "max_height": null,
            "max_width": null,
            "min_height": null,
            "min_width": null,
            "object_fit": null,
            "object_position": null,
            "order": null,
            "overflow": null,
            "overflow_x": null,
            "overflow_y": null,
            "padding": null,
            "right": null,
            "top": null,
            "visibility": null,
            "width": null
          }
        },
        "c38cbfb3cd1c4a2a94b245b73478c2cf": {
          "model_module": "@jupyter-widgets/controls",
          "model_module_version": "1.5.0",
          "model_name": "ProgressStyleModel",
          "state": {
            "_model_module": "@jupyter-widgets/controls",
            "_model_module_version": "1.5.0",
            "_model_name": "ProgressStyleModel",
            "_view_count": null,
            "_view_module": "@jupyter-widgets/base",
            "_view_module_version": "1.2.0",
            "_view_name": "StyleView",
            "bar_color": null,
            "description_width": ""
          }
        },
        "c47aa843871f4dac833fda49a6be991d": {
          "model_module": "@jupyter-widgets/base",
          "model_module_version": "1.2.0",
          "model_name": "LayoutModel",
          "state": {
            "_model_module": "@jupyter-widgets/base",
            "_model_module_version": "1.2.0",
            "_model_name": "LayoutModel",
            "_view_count": null,
            "_view_module": "@jupyter-widgets/base",
            "_view_module_version": "1.2.0",
            "_view_name": "LayoutView",
            "align_content": null,
            "align_items": null,
            "align_self": null,
            "border": null,
            "bottom": null,
            "display": null,
            "flex": null,
            "flex_flow": null,
            "grid_area": null,
            "grid_auto_columns": null,
            "grid_auto_flow": null,
            "grid_auto_rows": null,
            "grid_column": null,
            "grid_gap": null,
            "grid_row": null,
            "grid_template_areas": null,
            "grid_template_columns": null,
            "grid_template_rows": null,
            "height": null,
            "justify_content": null,
            "justify_items": null,
            "left": null,
            "margin": null,
            "max_height": null,
            "max_width": null,
            "min_height": null,
            "min_width": null,
            "object_fit": null,
            "object_position": null,
            "order": null,
            "overflow": null,
            "overflow_x": null,
            "overflow_y": null,
            "padding": null,
            "right": null,
            "top": null,
            "visibility": null,
            "width": null
          }
        },
        "c58a320889e849b7b3614bd29b979a33": {
          "model_module": "@jupyter-widgets/controls",
          "model_module_version": "1.5.0",
          "model_name": "VBoxModel",
          "state": {
            "_dom_classes": [],
            "_model_module": "@jupyter-widgets/controls",
            "_model_module_version": "1.5.0",
            "_model_name": "VBoxModel",
            "_view_count": null,
            "_view_module": "@jupyter-widgets/controls",
            "_view_module_version": "1.5.0",
            "_view_name": "VBoxView",
            "box_style": "",
            "children": [
              "IPY_MODEL_bd46273fe54d4504a85f001ec39f8c5d",
              "IPY_MODEL_1dc4fb2a062348458f20727ca5811c4c"
            ],
            "layout": "IPY_MODEL_f4bb62e48d5944569acbad07c281c334"
          }
        },
        "c645990d0e03425290bca4c849bd4865": {
          "model_module": "@jupyter-widgets/base",
          "model_module_version": "1.2.0",
          "model_name": "LayoutModel",
          "state": {
            "_model_module": "@jupyter-widgets/base",
            "_model_module_version": "1.2.0",
            "_model_name": "LayoutModel",
            "_view_count": null,
            "_view_module": "@jupyter-widgets/base",
            "_view_module_version": "1.2.0",
            "_view_name": "LayoutView",
            "align_content": null,
            "align_items": null,
            "align_self": null,
            "border": null,
            "bottom": null,
            "display": null,
            "flex": null,
            "flex_flow": null,
            "grid_area": null,
            "grid_auto_columns": null,
            "grid_auto_flow": null,
            "grid_auto_rows": null,
            "grid_column": null,
            "grid_gap": null,
            "grid_row": null,
            "grid_template_areas": null,
            "grid_template_columns": null,
            "grid_template_rows": null,
            "height": null,
            "justify_content": null,
            "justify_items": null,
            "left": null,
            "margin": null,
            "max_height": null,
            "max_width": null,
            "min_height": null,
            "min_width": null,
            "object_fit": null,
            "object_position": null,
            "order": null,
            "overflow": null,
            "overflow_x": null,
            "overflow_y": null,
            "padding": null,
            "right": null,
            "top": null,
            "visibility": null,
            "width": null
          }
        },
        "c645b83365c34d6985fce0d777aa460b": {
          "model_module": "@jupyter-widgets/controls",
          "model_module_version": "1.5.0",
          "model_name": "VBoxModel",
          "state": {
            "_dom_classes": [],
            "_model_module": "@jupyter-widgets/controls",
            "_model_module_version": "1.5.0",
            "_model_name": "VBoxModel",
            "_view_count": null,
            "_view_module": "@jupyter-widgets/controls",
            "_view_module_version": "1.5.0",
            "_view_name": "VBoxView",
            "box_style": "",
            "children": [
              "IPY_MODEL_178bfc95bcf048f8b388d812cba99b36",
              "IPY_MODEL_4c4283a509aa443e860a5a1b33f63104"
            ],
            "layout": "IPY_MODEL_94d0782160284094af290cd8b9dc2552"
          }
        },
        "c8254c7dd072430a9b805581101678e5": {
          "model_module": "@jupyter-widgets/controls",
          "model_module_version": "1.5.0",
          "model_name": "VBoxModel",
          "state": {
            "_dom_classes": [],
            "_model_module": "@jupyter-widgets/controls",
            "_model_module_version": "1.5.0",
            "_model_name": "VBoxModel",
            "_view_count": null,
            "_view_module": "@jupyter-widgets/controls",
            "_view_module_version": "1.5.0",
            "_view_name": "VBoxView",
            "box_style": "",
            "children": [
              "IPY_MODEL_df64948ce3f44fef9471315295a6b875",
              "IPY_MODEL_7ab67880a47145648f1544885b6799f9"
            ],
            "layout": "IPY_MODEL_9c83dad7da7c46348472c0ae97ef73be"
          }
        },
        "df64948ce3f44fef9471315295a6b875": {
          "model_module": "@jupyter-widgets/controls",
          "model_module_version": "1.5.0",
          "model_name": "LabelModel",
          "state": {
            "_dom_classes": [],
            "_model_module": "@jupyter-widgets/controls",
            "_model_module_version": "1.5.0",
            "_model_name": "LabelModel",
            "_view_count": null,
            "_view_module": "@jupyter-widgets/controls",
            "_view_module_version": "1.5.0",
            "_view_name": "LabelView",
            "description": "",
            "description_tooltip": null,
            "layout": "IPY_MODEL_270b51639e504409964f199ad448163b",
            "placeholder": "​",
            "style": "IPY_MODEL_7469d9aba1454906bf19e5607d58be3d",
            "value": "0.008 MB of 0.008 MB uploaded (0.000 MB deduped)\r"
          }
        },
        "dfd8affb4d8d49c8b46934f09bfebd52": {
          "model_module": "@jupyter-widgets/controls",
          "model_module_version": "1.5.0",
          "model_name": "FloatProgressModel",
          "state": {
            "_dom_classes": [],
            "_model_module": "@jupyter-widgets/controls",
            "_model_module_version": "1.5.0",
            "_model_name": "FloatProgressModel",
            "_view_count": null,
            "_view_module": "@jupyter-widgets/controls",
            "_view_module_version": "1.5.0",
            "_view_name": "ProgressView",
            "bar_style": "",
            "description": "",
            "description_tooltip": null,
            "layout": "IPY_MODEL_bcd4ea6c8dfd4e38ad0591ea0ed69719",
            "max": 1,
            "min": 0,
            "orientation": "horizontal",
            "style": "IPY_MODEL_18b49721336c4214890514ecd8c81da5",
            "value": 1
          }
        },
        "f188e0014ff74fd788ecdde2be95facf": {
          "model_module": "@jupyter-widgets/controls",
          "model_module_version": "1.5.0",
          "model_name": "ProgressStyleModel",
          "state": {
            "_model_module": "@jupyter-widgets/controls",
            "_model_module_version": "1.5.0",
            "_model_name": "ProgressStyleModel",
            "_view_count": null,
            "_view_module": "@jupyter-widgets/base",
            "_view_module_version": "1.2.0",
            "_view_name": "StyleView",
            "bar_color": null,
            "description_width": ""
          }
        },
        "f2c5aa46a836451aad9b77d5a32e5a14": {
          "model_module": "@jupyter-widgets/base",
          "model_module_version": "1.2.0",
          "model_name": "LayoutModel",
          "state": {
            "_model_module": "@jupyter-widgets/base",
            "_model_module_version": "1.2.0",
            "_model_name": "LayoutModel",
            "_view_count": null,
            "_view_module": "@jupyter-widgets/base",
            "_view_module_version": "1.2.0",
            "_view_name": "LayoutView",
            "align_content": null,
            "align_items": null,
            "align_self": null,
            "border": null,
            "bottom": null,
            "display": null,
            "flex": null,
            "flex_flow": null,
            "grid_area": null,
            "grid_auto_columns": null,
            "grid_auto_flow": null,
            "grid_auto_rows": null,
            "grid_column": null,
            "grid_gap": null,
            "grid_row": null,
            "grid_template_areas": null,
            "grid_template_columns": null,
            "grid_template_rows": null,
            "height": null,
            "justify_content": null,
            "justify_items": null,
            "left": null,
            "margin": null,
            "max_height": null,
            "max_width": null,
            "min_height": null,
            "min_width": null,
            "object_fit": null,
            "object_position": null,
            "order": null,
            "overflow": null,
            "overflow_x": null,
            "overflow_y": null,
            "padding": null,
            "right": null,
            "top": null,
            "visibility": null,
            "width": null
          }
        },
        "f4bb62e48d5944569acbad07c281c334": {
          "model_module": "@jupyter-widgets/base",
          "model_module_version": "1.2.0",
          "model_name": "LayoutModel",
          "state": {
            "_model_module": "@jupyter-widgets/base",
            "_model_module_version": "1.2.0",
            "_model_name": "LayoutModel",
            "_view_count": null,
            "_view_module": "@jupyter-widgets/base",
            "_view_module_version": "1.2.0",
            "_view_name": "LayoutView",
            "align_content": null,
            "align_items": null,
            "align_self": null,
            "border": null,
            "bottom": null,
            "display": null,
            "flex": null,
            "flex_flow": null,
            "grid_area": null,
            "grid_auto_columns": null,
            "grid_auto_flow": null,
            "grid_auto_rows": null,
            "grid_column": null,
            "grid_gap": null,
            "grid_row": null,
            "grid_template_areas": null,
            "grid_template_columns": null,
            "grid_template_rows": null,
            "height": null,
            "justify_content": null,
            "justify_items": null,
            "left": null,
            "margin": null,
            "max_height": null,
            "max_width": null,
            "min_height": null,
            "min_width": null,
            "object_fit": null,
            "object_position": null,
            "order": null,
            "overflow": null,
            "overflow_x": null,
            "overflow_y": null,
            "padding": null,
            "right": null,
            "top": null,
            "visibility": null,
            "width": null
          }
        },
        "f7a05da39df449bbb9806b4245944d6e": {
          "model_module": "@jupyter-widgets/controls",
          "model_module_version": "1.5.0",
          "model_name": "LabelModel",
          "state": {
            "_dom_classes": [],
            "_model_module": "@jupyter-widgets/controls",
            "_model_module_version": "1.5.0",
            "_model_name": "LabelModel",
            "_view_count": null,
            "_view_module": "@jupyter-widgets/controls",
            "_view_module_version": "1.5.0",
            "_view_name": "LabelView",
            "description": "",
            "description_tooltip": null,
            "layout": "IPY_MODEL_2dcb8adbb968462cb3e377d4a24d4a93",
            "placeholder": "​",
            "style": "IPY_MODEL_4945e6f31e5343bc87f477d061c4311a",
            "value": "0.016 MB of 0.016 MB uploaded (0.000 MB deduped)\r"
          }
        },
        "9c5d896bad414e628544a0db851e75be": {
          "model_module": "@jupyter-widgets/controls",
          "model_name": "VBoxModel",
          "model_module_version": "1.5.0",
          "state": {
            "_dom_classes": [],
            "_model_module": "@jupyter-widgets/controls",
            "_model_module_version": "1.5.0",
            "_model_name": "VBoxModel",
            "_view_count": null,
            "_view_module": "@jupyter-widgets/controls",
            "_view_module_version": "1.5.0",
            "_view_name": "VBoxView",
            "box_style": "",
            "children": [
              "IPY_MODEL_23c6d31b079c4a3e9602743c7348a7c4",
              "IPY_MODEL_12c8710fcc4341d6a9367a4761b601b1"
            ],
            "layout": "IPY_MODEL_a7fb39d2ae764a1fa0037e1274b7760b"
          }
        },
        "23c6d31b079c4a3e9602743c7348a7c4": {
          "model_module": "@jupyter-widgets/controls",
          "model_name": "LabelModel",
          "model_module_version": "1.5.0",
          "state": {
            "_dom_classes": [],
            "_model_module": "@jupyter-widgets/controls",
            "_model_module_version": "1.5.0",
            "_model_name": "LabelModel",
            "_view_count": null,
            "_view_module": "@jupyter-widgets/controls",
            "_view_module_version": "1.5.0",
            "_view_name": "LabelView",
            "description": "",
            "description_tooltip": null,
            "layout": "IPY_MODEL_117d782a54674e4bb9540f6a3f929553",
            "placeholder": "​",
            "style": "IPY_MODEL_9a8fe7fadd8247098b978d182e6a6822",
            "value": "0.001 MB of 0.001 MB uploaded (0.000 MB deduped)\r"
          }
        },
        "12c8710fcc4341d6a9367a4761b601b1": {
          "model_module": "@jupyter-widgets/controls",
          "model_name": "FloatProgressModel",
          "model_module_version": "1.5.0",
          "state": {
            "_dom_classes": [],
            "_model_module": "@jupyter-widgets/controls",
            "_model_module_version": "1.5.0",
            "_model_name": "FloatProgressModel",
            "_view_count": null,
            "_view_module": "@jupyter-widgets/controls",
            "_view_module_version": "1.5.0",
            "_view_name": "ProgressView",
            "bar_style": "",
            "description": "",
            "description_tooltip": null,
            "layout": "IPY_MODEL_c3368d7a92f447c1822c8b7113e97f94",
            "max": 1,
            "min": 0,
            "orientation": "horizontal",
            "style": "IPY_MODEL_0dc0a474e94d4450b7dad7977027b355",
            "value": 1
          }
        },
        "a7fb39d2ae764a1fa0037e1274b7760b": {
          "model_module": "@jupyter-widgets/base",
          "model_name": "LayoutModel",
          "model_module_version": "1.2.0",
          "state": {
            "_model_module": "@jupyter-widgets/base",
            "_model_module_version": "1.2.0",
            "_model_name": "LayoutModel",
            "_view_count": null,
            "_view_module": "@jupyter-widgets/base",
            "_view_module_version": "1.2.0",
            "_view_name": "LayoutView",
            "align_content": null,
            "align_items": null,
            "align_self": null,
            "border": null,
            "bottom": null,
            "display": null,
            "flex": null,
            "flex_flow": null,
            "grid_area": null,
            "grid_auto_columns": null,
            "grid_auto_flow": null,
            "grid_auto_rows": null,
            "grid_column": null,
            "grid_gap": null,
            "grid_row": null,
            "grid_template_areas": null,
            "grid_template_columns": null,
            "grid_template_rows": null,
            "height": null,
            "justify_content": null,
            "justify_items": null,
            "left": null,
            "margin": null,
            "max_height": null,
            "max_width": null,
            "min_height": null,
            "min_width": null,
            "object_fit": null,
            "object_position": null,
            "order": null,
            "overflow": null,
            "overflow_x": null,
            "overflow_y": null,
            "padding": null,
            "right": null,
            "top": null,
            "visibility": null,
            "width": null
          }
        },
        "117d782a54674e4bb9540f6a3f929553": {
          "model_module": "@jupyter-widgets/base",
          "model_name": "LayoutModel",
          "model_module_version": "1.2.0",
          "state": {
            "_model_module": "@jupyter-widgets/base",
            "_model_module_version": "1.2.0",
            "_model_name": "LayoutModel",
            "_view_count": null,
            "_view_module": "@jupyter-widgets/base",
            "_view_module_version": "1.2.0",
            "_view_name": "LayoutView",
            "align_content": null,
            "align_items": null,
            "align_self": null,
            "border": null,
            "bottom": null,
            "display": null,
            "flex": null,
            "flex_flow": null,
            "grid_area": null,
            "grid_auto_columns": null,
            "grid_auto_flow": null,
            "grid_auto_rows": null,
            "grid_column": null,
            "grid_gap": null,
            "grid_row": null,
            "grid_template_areas": null,
            "grid_template_columns": null,
            "grid_template_rows": null,
            "height": null,
            "justify_content": null,
            "justify_items": null,
            "left": null,
            "margin": null,
            "max_height": null,
            "max_width": null,
            "min_height": null,
            "min_width": null,
            "object_fit": null,
            "object_position": null,
            "order": null,
            "overflow": null,
            "overflow_x": null,
            "overflow_y": null,
            "padding": null,
            "right": null,
            "top": null,
            "visibility": null,
            "width": null
          }
        },
        "9a8fe7fadd8247098b978d182e6a6822": {
          "model_module": "@jupyter-widgets/controls",
          "model_name": "DescriptionStyleModel",
          "model_module_version": "1.5.0",
          "state": {
            "_model_module": "@jupyter-widgets/controls",
            "_model_module_version": "1.5.0",
            "_model_name": "DescriptionStyleModel",
            "_view_count": null,
            "_view_module": "@jupyter-widgets/base",
            "_view_module_version": "1.2.0",
            "_view_name": "StyleView",
            "description_width": ""
          }
        },
        "c3368d7a92f447c1822c8b7113e97f94": {
          "model_module": "@jupyter-widgets/base",
          "model_name": "LayoutModel",
          "model_module_version": "1.2.0",
          "state": {
            "_model_module": "@jupyter-widgets/base",
            "_model_module_version": "1.2.0",
            "_model_name": "LayoutModel",
            "_view_count": null,
            "_view_module": "@jupyter-widgets/base",
            "_view_module_version": "1.2.0",
            "_view_name": "LayoutView",
            "align_content": null,
            "align_items": null,
            "align_self": null,
            "border": null,
            "bottom": null,
            "display": null,
            "flex": null,
            "flex_flow": null,
            "grid_area": null,
            "grid_auto_columns": null,
            "grid_auto_flow": null,
            "grid_auto_rows": null,
            "grid_column": null,
            "grid_gap": null,
            "grid_row": null,
            "grid_template_areas": null,
            "grid_template_columns": null,
            "grid_template_rows": null,
            "height": null,
            "justify_content": null,
            "justify_items": null,
            "left": null,
            "margin": null,
            "max_height": null,
            "max_width": null,
            "min_height": null,
            "min_width": null,
            "object_fit": null,
            "object_position": null,
            "order": null,
            "overflow": null,
            "overflow_x": null,
            "overflow_y": null,
            "padding": null,
            "right": null,
            "top": null,
            "visibility": null,
            "width": null
          }
        },
        "0dc0a474e94d4450b7dad7977027b355": {
          "model_module": "@jupyter-widgets/controls",
          "model_name": "ProgressStyleModel",
          "model_module_version": "1.5.0",
          "state": {
            "_model_module": "@jupyter-widgets/controls",
            "_model_module_version": "1.5.0",
            "_model_name": "ProgressStyleModel",
            "_view_count": null,
            "_view_module": "@jupyter-widgets/base",
            "_view_module_version": "1.2.0",
            "_view_name": "StyleView",
            "bar_color": null,
            "description_width": ""
          }
        }
      }
    }
  },
  "nbformat": 4,
  "nbformat_minor": 0
}