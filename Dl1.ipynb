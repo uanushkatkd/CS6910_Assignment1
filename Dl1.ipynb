{
  "nbformat": 4,
  "nbformat_minor": 0,
  "metadata": {
    "colab": {
      "provenance": [],
      "authorship_tag": "ABX9TyNHsCviYeaHoAll4bUUDHsF",
      "include_colab_link": true
    },
    "kernelspec": {
      "name": "python3",
      "display_name": "Python 3"
    },
    "language_info": {
      "name": "python"
    },
    "gpuClass": "standard"
  },
  "cells": [
    {
      "cell_type": "markdown",
      "metadata": {
        "id": "view-in-github",
        "colab_type": "text"
      },
      "source": [
        "<a href=\"https://colab.research.google.com/github/uanushkatkd/CS6910-Assignment-1/blob/main/Dl1.ipynb\" target=\"_parent\"><img src=\"https://colab.research.google.com/assets/colab-badge.svg\" alt=\"Open In Colab\"/></a>"
      ]
    },
    {
      "cell_type": "code",
      "source": [
        "!pip install wandb -qU\n",
        "import wandb\n",
        "!wandb login"
      ],
      "metadata": {
        "colab": {
          "base_uri": "https://localhost:8080/"
        },
        "id": "btvXA4fzXD9v",
        "outputId": "1fa06767-72f6-4a1f-d204-c4be59ec54af"
      },
      "execution_count": 1,
      "outputs": [
        {
          "output_type": "stream",
          "name": "stdout",
          "text": [
            "\u001b[2K     \u001b[90m━━━━━━━━━━━━━━━━━━━━━━━━━━━━━━━━━━━━━━━━\u001b[0m \u001b[32m2.0/2.0 MB\u001b[0m \u001b[31m22.1 MB/s\u001b[0m eta \u001b[36m0:00:00\u001b[0m\n",
            "\u001b[2K     \u001b[90m━━━━━━━━━━━━━━━━━━━━━━━━━━━━━━━━━━━━━━\u001b[0m \u001b[32m181.3/181.3 KB\u001b[0m \u001b[31m14.9 MB/s\u001b[0m eta \u001b[36m0:00:00\u001b[0m\n",
            "\u001b[?25h  Preparing metadata (setup.py) ... \u001b[?25l\u001b[?25hdone\n",
            "\u001b[2K     \u001b[90m━━━━━━━━━━━━━━━━━━━━━━━━━━━━━━━━━━━━━━\u001b[0m \u001b[32m184.3/184.3 KB\u001b[0m \u001b[31m17.3 MB/s\u001b[0m eta \u001b[36m0:00:00\u001b[0m\n",
            "\u001b[2K     \u001b[90m━━━━━━━━━━━━━━━━━━━━━━━━━━━━━━━━━━━━━━━━\u001b[0m \u001b[32m62.7/62.7 KB\u001b[0m \u001b[31m4.6 MB/s\u001b[0m eta \u001b[36m0:00:00\u001b[0m\n",
            "\u001b[2K     \u001b[90m━━━━━━━━━━━━━━━━━━━━━━━━━━━━━━━━━━━━━━\u001b[0m \u001b[32m140.6/140.6 KB\u001b[0m \u001b[31m13.2 MB/s\u001b[0m eta \u001b[36m0:00:00\u001b[0m\n",
            "\u001b[?25h  Building wheel for pathtools (setup.py) ... \u001b[?25l\u001b[?25hdone\n"
          ]
        }
      ]
    },
    {
      "cell_type": "code",
      "source": [
        "import keras\n",
        "import numpy as np\n",
        "import matplotlib.pyplot as plt\n",
        "from keras.datasets import fashion_mnist\n",
        "\n",
        "from tqdm import tqdm\n",
        "\n"
      ],
      "metadata": {
        "id": "r8Z-ltPipJi1"
      },
      "execution_count": 2,
      "outputs": []
    },
    {
      "cell_type": "code",
      "source": [
        "\n",
        "\n",
        "# start a new wandb run to track this script\n",
        "wandb.init(\n",
        "    # set the wandb project where this run will be logged\n",
        "    project=\"CS6910_Assignment_1\",\n",
        ")\n",
        "# Loading the fashion-MNIST dataset\n",
        "(x_train, y_train), (x_test, y_test) = fashion_mnist.load_data()\n",
        "#class names for fashion-MNIST\n",
        "class_names = ['T-shirt', 'Trouser', 'Pullover', 'Dress', 'Coat',\n",
        "               'Sandal', 'Shirt', 'Sneaker', 'Bag', 'Ankle boot']\n",
        "# creating 2x5 grid \n",
        "img={}\n",
        "\n",
        "for i in range(10):\n",
        "    # to find first image in the training set with class label i\n",
        "    idx = np.where(y_train == i)[0][0]\n",
        "    # Plot the image\n",
        "    img[class_names[i]]=(wandb.Image(x_train[idx], caption=class_names[i]))\n",
        "    \n",
        "wandb.log(img)    \n",
        "# [optional] finish the wandb run, necessary in notebooks\n",
        "wandb.finish()"
      ],
      "metadata": {
        "colab": {
          "base_uri": "https://localhost:8080/",
          "height": 244
        },
        "id": "tVjLg34TpOyh",
        "outputId": "bc1f5958-fe01-465b-e4ea-0329afb8f4d5"
      },
      "execution_count": 3,
      "outputs": [
        {
          "output_type": "error",
          "ename": "NameError",
          "evalue": "ignored",
          "traceback": [
            "\u001b[0;31m---------------------------------------------------------------------------\u001b[0m",
            "\u001b[0;31mNameError\u001b[0m                                 Traceback (most recent call last)",
            "\u001b[0;32m<ipython-input-3-e7bb0f33e547>\u001b[0m in \u001b[0;36m<module>\u001b[0;34m\u001b[0m\n\u001b[1;32m      1\u001b[0m \u001b[0;31m# start a new wandb run to track this script\u001b[0m\u001b[0;34m\u001b[0m\u001b[0;34m\u001b[0m\u001b[0;34m\u001b[0m\u001b[0m\n\u001b[0;32m----> 2\u001b[0;31m wandb.init(\n\u001b[0m\u001b[1;32m      3\u001b[0m     \u001b[0;31m# set the wandb project where this run will be logged\u001b[0m\u001b[0;34m\u001b[0m\u001b[0;34m\u001b[0m\u001b[0;34m\u001b[0m\u001b[0m\n\u001b[1;32m      4\u001b[0m     \u001b[0mproject\u001b[0m\u001b[0;34m=\u001b[0m\u001b[0;34m\"CS6910_Assignment_1\"\u001b[0m\u001b[0;34m,\u001b[0m\u001b[0;34m\u001b[0m\u001b[0;34m\u001b[0m\u001b[0m\n\u001b[1;32m      5\u001b[0m )\n",
            "\u001b[0;31mNameError\u001b[0m: name 'wandb' is not defined"
          ]
        }
      ]
    },
    {
      "cell_type": "code",
      "source": [
        "# Loading the fashion-MNIST dataset\n",
        "(x_train, y_train), (x_test, y_test) = fashion_mnist.load_data()\n",
        "#class names for fashion-MNIST\n",
        "class_names = ['T-shirt', 'Trouser', 'Pullover', 'Dress', 'Coat',\n",
        "               'Sandal', 'Shirt', 'Sneaker', 'Bag', 'Ankle boot']\n",
        "# creating 2x5 grid \n",
        "fig, ax = plt.subplots(nrows=2, ncols=5, figsize=(12, 6))\n",
        "ax1=ax.flat\n",
        "for i in range(10):\n",
        "    # to find first image in the training set with class label i\n",
        "    idx = np.where(y_train == i)[0][0]\n",
        "    # Plot the image\n",
        "    ax1[i].imshow(x_train[idx], cmap='gray')\n",
        "    ax1[i].set_xlabel(class_names[i])\n",
        "    ax1[i].set_xticklabels([])\n",
        "    ax1[i].set_yticklabels([])\n",
        "    \n",
        "\n",
        "   \n",
        "# Display the plot\n",
        "plt.show()"
      ],
      "metadata": {
        "colab": {
          "base_uri": "https://localhost:8080/",
          "height": 345
        },
        "id": "hRC1jK80ukzl",
        "outputId": "87b9715c-f5b6-4cc0-a221-9fe6349b0928"
      },
      "execution_count": 19,
      "outputs": [
        {
          "output_type": "display_data",
          "data": {
            "text/plain": [
              "<Figure size 864x432 with 10 Axes>"
            ],
            "image/png": "[encoded data removed]"
          },
          "metadata": {
            "needs_background": "light"
          }
        }
      ]
    },
    {
      "cell_type": "code",
      "source": [
        "print(x_train.shape)\n",
        "print(y_train.shape)\n",
        "print(x_test.shape)\n",
        "print(y_test.shape)\n"
      ],
      "metadata": {
        "id": "ksLDbhvuu2cY",
        "colab": {
          "base_uri": "https://localhost:8080/"
        },
        "outputId": "061d0740-77bf-45b6-9fcb-2d8aaadffccb"
      },
      "execution_count": 20,
      "outputs": [
        {
          "output_type": "stream",
          "name": "stdout",
          "text": [
            "(60000, 28, 28)\n",
            "(60000,)\n",
            "(10000, 28, 28)\n",
            "(10000,)\n"
          ]
        }
      ]
    },
    {
      "cell_type": "code",
      "source": [
        "# Normalize data\n",
        "x_train,x_test= x_train/255.0,x_test/255.0\n",
        "\n",
        "#one hot encoding\n",
        "\n",
        "#Reshaping train and test data\n",
        "x_train,x_test=x_train.reshape(len(x_train),28*28),x_test.reshape(len(x_test),28*28)\n",
        "\n",
        "# to categorical\n",
        "from keras.utils import to_categorical\n",
        "\n",
        "y_train = to_categorical(y_train, dtype =\"uint8\")\n",
        "y_test = to_categorical(y_test, dtype =\"uint8\")\n",
        "  \n",
        "# Labels after applying the function\n",
        "# Training set labels\n",
        "print(x_train.shape)\n",
        "print(y_train.shape)"
      ],
      "metadata": {
        "id": "7t6zgJkAABnt",
        "colab": {
          "base_uri": "https://localhost:8080/"
        },
        "outputId": "37d54099-b00d-446b-bcaf-335d477b201e"
      },
      "execution_count": 21,
      "outputs": [
        {
          "output_type": "stream",
          "name": "stdout",
          "text": [
            "(60000, 784)\n",
            "(60000, 10)\n"
          ]
        }
      ]
    },
    {
      "cell_type": "code",
      "source": [
        "hidden_layer=[256,128,64]\n",
        "no_of_class=10\n",
        "layer_dim=[x_train.shape[1]]+hidden_layer+[no_of_class]\n",
        "print(layer_dim)\n",
        "def initialise_params(train,label,layers):\n",
        "\n",
        "  params={}\n",
        "  L=len(layers)\n",
        "  w=[]\n",
        "  b=[]\n",
        "  for i in range(1,L):\n",
        "    params['W'+str(i)]= np.random.randn(layers[i], layers[i-1]) * 0.05\n",
        "    params['b' + str(i)] =  np.zeros((layers[i], 1))\n",
        "\n",
        "  return params  \n",
        "\n",
        "def forward_prop(train,label,layers,params):\n",
        "  L=len(layers)\n",
        "  a={}\n",
        "  h={}\n",
        "  h['h'+str(0)]=(train.T)\n",
        "  \n",
        "  for i in range(1,L-1):\n",
        "    #preactivation calculation\n",
        "    print(i)\n",
        "    a['a'+str(i)]= params['W'+str(i)] @ h['h'+str(i-1)]+ params['b'+str(i)]\n",
        "    \n",
        "    #activation calculation\n",
        "    h['h'+str(i)]=sigmoid(a['a'+str(i)])\n",
        "    \n",
        "  a['a'+str(L-1)]= params['W'+str(L-1)] @ (h['h'+str(L-2)]) +params['b'+str(L-1)]\n",
        "  y_prob=[]\n",
        "  for i in range(len(a['a'+str(L-1)][0])):\n",
        "    y_prob.append(softmax(a['a'+str(L-1)][:,i]))\n",
        "  y_prob=np.array(y_prob)\n",
        "  h['h'+str(L-1)]=y_prob\n",
        "  \n",
        "  return a,h,y_prob\n",
        "\n",
        "def sigmoid(x):\n",
        "  return 1/(1+np.exp(-x))\n",
        "\n",
        "def softmax(x):\n",
        "   return (np.exp(x)/np.exp(x).sum())\n",
        "\n",
        "\n",
        "\n",
        "p=initialise_params(x_train,y_train,layer_dim)\n",
        "for key,val in p.items():\n",
        "  print(key,'->',val.shape)\n",
        "  \n",
        "a1,h1,y_h=forward_prop(x_train[:10,:],y_train[:10,:],layer_dim,p)\n",
        "print((y_h[0]))\n",
        "for key,val in a1.items():\n",
        "  print(key,'->',val.shape)\n",
        "for key,val in h1.items():\n",
        "  print(key,'->',val.shape)\n",
        "\n",
        "#print(y_train)"
      ],
      "metadata": {
        "colab": {
          "base_uri": "https://localhost:8080/"
        },
        "id": "Xmhh1Klu0kK_",
        "outputId": "cabfb7e3-6723-44e0-d429-ffeccc51a11b"
      },
      "execution_count": 22,
      "outputs": [
        {
          "output_type": "stream",
          "name": "stdout",
          "text": [
            "[784, 256, 128, 64, 10]\n",
            "W1 -> (256, 784)\n",
            "b1 -> (256, 1)\n",
            "W2 -> (128, 256)\n",
            "b2 -> (128, 1)\n",
            "W3 -> (64, 128)\n",
            "b3 -> (64, 1)\n",
            "W4 -> (10, 64)\n",
            "b4 -> (10, 1)\n",
            "1\n",
            "2\n",
            "3\n",
            "[0.07600178 0.10616936 0.1469994  0.09818282 0.07957763 0.1098766\n",
            " 0.08945838 0.09153866 0.0973014  0.10489396]\n",
            "a1 -> (256, 10)\n",
            "a2 -> (128, 10)\n",
            "a3 -> (64, 10)\n",
            "a4 -> (10, 10)\n",
            "h0 -> (784, 10)\n",
            "h1 -> (256, 10)\n",
            "h2 -> (128, 10)\n",
            "h3 -> (64, 10)\n",
            "h4 -> (10, 10)\n"
          ]
        }
      ]
    },
    {
      "cell_type": "code",
      "source": [
        "\n",
        "y_train=y_train[:5,:]\n",
        "x_train=x_train[:5,:]\n",
        "print(y_train)\n"
      ],
      "metadata": {
        "colab": {
          "base_uri": "https://localhost:8080/"
        },
        "id": "p9jxYULysB-o",
        "outputId": "807ce356-4fd1-473f-ffa0-db46250585d0"
      },
      "execution_count": 67,
      "outputs": [
        {
          "output_type": "stream",
          "name": "stdout",
          "text": [
            "[[0 0 0 0 0 0 0 0 0 1]\n",
            " [1 0 0 0 0 0 0 0 0 0]\n",
            " [1 0 0 0 0 0 0 0 0 0]\n",
            " [0 0 0 1 0 0 0 0 0 0]\n",
            " [1 0 0 0 0 0 0 0 0 0]]\n"
          ]
        }
      ]
    },
    {
      "cell_type": "code",
      "source": [
        "class NN:\n",
        "  def __init__(self, layers, epochs, lr,loss_func):\n",
        "    self.layers = layers\n",
        "    self.epochs = epochs\n",
        "    self.lr = lr\n",
        "    self.loss_func=loss_func\n",
        "    self.params={}\n",
        "    self.L=len(self.layers)\n",
        "    \n",
        "  def initialise_params(self):\n",
        "    for i in range(1,self.L):\n",
        "      self.params['W'+str(i)]= np.random.randn(self.layers[i], self.layers[i-1]) * 0.05\n",
        "      self.params['b' + str(i)] =  np.zeros((self.layers[i], 1))\n",
        "\n",
        "    return self.params  \n",
        "\n",
        "  def sigmoid(self, x, derivative=False):\n",
        "      if derivative:\n",
        "          return (np.exp(-x))/((np.exp(-x)+1)**2)\n",
        "      return 1/(1 + np.exp(-x))\n",
        "\n",
        "  def softmax(self, x, derivative=False):\n",
        "      if derivative:\n",
        "          return  (np.exp(x)/np.exp(x).sum()) * (1- (np.exp(x)/np.exp(x).sum()))\n",
        "      return  (np.exp(x)/np.exp(x).sum())\n",
        "  \n",
        "  \n",
        "  def forward_prop(self,train):\n",
        "      params = self.params\n",
        "      L=self.L\n",
        "      a={}\n",
        "      h={}\n",
        "      train=train.T\n",
        "      h['h'+str(0)]=train.reshape(len(train),1)\n",
        "      for i in range(1,L-1):\n",
        "        #preactivation calculation\n",
        "        #print(i)\n",
        "        a['a'+str(i)]= params['W'+str(i)] @ h['h'+str(i-1)]+ params['b'+str(i)]\n",
        "        #activation calculation\n",
        "        h['h'+str(i)]=self.sigmoid(a['a'+str(i)])\n",
        "       \n",
        "      a['a'+str(L-1)]= params['W'+str(L-1)] @ (h['h'+str(L-2)]) +params['b'+str(L-1)]\n",
        "      y_prob=[]\n",
        "      for i in range(len(a['a'+str(L-1)][0])):\n",
        "        y_prob.append(self.softmax(a['a'+str(L-1)][:,i]))\n",
        "      y_prob=np.array(y_prob)\n",
        "      h['h'+str(L-1)]=y_prob\n",
        "  \n",
        "      return a,h,y_prob\n",
        "  def backward_prop(self, y_train, y_hat,a,h):\n",
        "    params = self.params\n",
        "    delta_params = {}\n",
        "    L=self.L\n",
        "    y_train=y_train.reshape(len(y_train),1)\n",
        "    # Compute output gradient\n",
        "\t\t# Gardient with respect to last layer\n",
        "    if self.loss_func == 'cross_entropy':\n",
        "      delta_params['a' + str(L-1)] = (y_hat - y_train)\n",
        "    elif self.loss_func == 'squared_error':\n",
        "      delta_params['a' + str(L-1)] = (y_hat - y_train)*y_hat*(1-y_hat)\n",
        "    \n",
        "    \n",
        "    for i in range(L-1,0,-1):\n",
        "      #gradients w rt parameters \n",
        "      delta_params['W' + str(i)]=(delta_params['a' + str(i)]@(h['h'+str(i-1)].T))\n",
        "      delta_params['b' + str(i)]=np.sum(delta_params['a' + str(i)],axis=1,keepdims=True)\n",
        "\n",
        "      #gradients w rt layer below\n",
        "\n",
        "      delta_params['h' + str(i-1)]=(params['W' + str(i)].T)@ delta_params['a' + str(i)]\n",
        "\n",
        "      #gradients w rt layer below(preactivation)\n",
        "\n",
        "      if i > 1:\n",
        "        delta_params['a' + str(i-1)] = delta_params['h' + str(i-1)] * self.sigmoid(a['a' + str(i-1)], derivative=True)\t\n",
        "    return delta_params\n",
        "  \n",
        "  \n",
        "  def loss_fun(self,y,y_hat):\n",
        "    if self.loss_func == 'cross_entropy':\n",
        "      i=np.argmax(y)\n",
        "      p=y_hat[i]\n",
        "      #N=len(y)\n",
        "      loss=-np.log(p)\n",
        "      return loss\n",
        "    elif self.loss_func == 'squared_error':\n",
        "      return np.sum((y-y_hat)**2)\n",
        "\n",
        "     \n",
        "  def sgd(self,x_train,y_train):\n",
        "    weights=nn.initialise_params()\n",
        "    #print(weights)\n",
        "    #print(len(x_train[0]))\n",
        "    t=0\n",
        "    e=self.epochs\n",
        "    for i in range(1,e):\n",
        "      print(\"epoch\",i)\n",
        "      for x,y in (zip(x_train,y_train)):\n",
        "        a,h,y_p=nn.forward_prop(x)\n",
        "        \n",
        "        #print(\"y_hat\",y[0])\n",
        "        delta_theta=nn.backward_prop(y.T,y_p.T,a,h)\n",
        "        #print(\"weights->\",weights[i].shape)\n",
        "        #print(\"delta theta->\",delta_theta)\n",
        "        #print(\"Y_train[0]\",y_train.shape)\n",
        "        loss=nn.loss_fun(y.T,y_p.T)\n",
        "        print(loss)\n",
        "        #weights[i]= weights[i-1]+  delta_theta[i]\n",
        "        for key in weights:\n",
        "          weights[key]=weights[key] - self.lr*delta_theta[key]\n",
        "\n",
        "    return weights\n",
        "\n",
        "\n",
        "  def compute_accuracy(self, test_data, output_nodes):\n",
        "      pass\n",
        "  def train(self, train_list, test_list, output_nodes):\n",
        "      pass\n",
        "\n",
        "\n",
        "\n",
        "\n",
        "hidden_layer=[256,128,64]\n",
        "no_of_class=10\n",
        "layer_dim=[x_train.shape[1]]+hidden_layer+[no_of_class]\n",
        "print(layer_dim)\n",
        "lr=0.001\n",
        "nn = NN(layer_dim, epochs=10, lr=0.001,loss_func='cross_entropy')\n",
        "#y=np.array(y)\n",
        "#print(y.shape[1])\n",
        "# pass y_hat and y_train in transposed \n",
        "\n",
        "\n",
        "\n",
        "w=nn.sgd(x_train,y_train)\n",
        "'''for key,val in delta_theta.items():\n",
        "  print(key,\"-\",val.shape)\n",
        "'''\n",
        "\n"
      ],
      "metadata": {
        "id": "PcMZch46jlBt",
        "colab": {
          "base_uri": "https://localhost:8080/",
          "height": 1000
        },
        "outputId": "8071e1f8-bd46-4a8f-cdc0-7b5e95ee4717"
      },
      "execution_count": 76,
      "outputs": [
        {
          "output_type": "stream",
          "name": "stdout",
          "text": [
            "[784, 256, 128, 64, 10]\n",
            "epoch 1\n",
            "[2.47817347]\n",
            "[2.22239835]\n",
            "[2.2086507]\n",
            "[2.09653311]\n",
            "[2.19462358]\n",
            "epoch 2\n",
            "[2.4687304]\n",
            "[2.18142497]\n",
            "[2.16782974]\n",
            "[2.09089279]\n",
            "[2.15403422]\n",
            "epoch 3\n",
            "[2.45960773]\n",
            "[2.14108312]\n",
            "[2.12764216]\n",
            "[2.08555522]\n",
            "[2.1140812]\n",
            "epoch 4\n",
            "[2.45080312]\n",
            "[2.10138006]\n",
            "[2.08809518]\n",
            "[2.08051705]\n",
            "[2.07477155]\n",
            "epoch 5\n",
            "[2.44231387]\n",
            "[2.06232265]\n",
            "[2.04919557]\n",
            "[2.07577456]\n",
            "[2.03611188]\n",
            "epoch 6\n",
            "[2.43413692]\n",
            "[2.02391731]\n",
            "[2.01094967]\n",
            "[2.07132369]\n",
            "[1.99810835]\n",
            "epoch 7\n",
            "[2.42626881]\n",
            "[1.98616999]\n",
            "[1.97336333]\n",
            "[2.06716001]\n",
            "[1.96076657]\n",
            "epoch 8\n",
            "[2.4187057]\n",
            "[1.9490861]\n",
            "[1.93644186]\n",
            "[2.0632787]\n",
            "[1.92409165]\n",
            "epoch 9\n",
            "[2.41144337]\n",
            "[1.91267052]\n",
            "[1.90019]\n",
            "[2.05967461]\n",
            "[1.88808808]\n"
          ]
        },
        {
          "output_type": "execute_result",
          "data": {
            "text/plain": [
              "'for key,val in delta_theta.items():\\n  print(key,\"-\",val.shape)\\n'"
            ],
            "application/vnd.google.colaboratory.intrinsic+json": {
              "type": "string"
            }
          },
          "metadata": {},
          "execution_count": 76
        }
      ]
    },
    {
      "cell_type": "code",
      "source": [],
      "metadata": {
        "id": "NsK9v-U_yk45"
      },
      "execution_count": 1,
      "outputs": []
    },
    {
      "cell_type": "code",
      "source": [],
      "metadata": {
        "id": "oMg2IlV0QB5q"
      },
      "execution_count": null,
      "outputs": []
    }
  ]
}