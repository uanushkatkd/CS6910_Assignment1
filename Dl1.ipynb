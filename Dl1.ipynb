{
  "nbformat": 4,
  "nbformat_minor": 0,
  "metadata": {
    "colab": {
      "provenance": [],
      "authorship_tag": "ABX9TyNT64YpaGNk+HGzT/FrW1HV",
      "include_colab_link": true
    },
    "kernelspec": {
      "name": "python3",
      "display_name": "Python 3"
    },
    "language_info": {
      "name": "python"
    },
    "gpuClass": "standard"
  },
  "cells": [
    {
      "cell_type": "markdown",
      "metadata": {
        "id": "view-in-github",
        "colab_type": "text"
      },
      "source": [
        "<a href=\"https://colab.research.google.com/github/uanushkatkd/CS6910-Assignment-1/blob/main/Dl1.ipynb\" target=\"_parent\"><img src=\"https://colab.research.google.com/assets/colab-badge.svg\" alt=\"Open In Colab\"/></a>"
      ]
    },
    {
      "cell_type": "code",
      "source": [
        "!pip install wandb -qU\n",
        "import wandb\n",
        "!wandb login"
      ],
      "metadata": {
        "colab": {
          "base_uri": "https://localhost:8080/"
        },
        "id": "btvXA4fzXD9v",
        "outputId": "1fa06767-72f6-4a1f-d204-c4be59ec54af"
      },
      "execution_count": null,
      "outputs": [
        {
          "output_type": "stream",
          "name": "stdout",
          "text": [
            "\u001b[2K     \u001b[90m━━━━━━━━━━━━━━━━━━━━━━━━━━━━━━━━━━━━━━━━\u001b[0m \u001b[32m2.0/2.0 MB\u001b[0m \u001b[31m22.1 MB/s\u001b[0m eta \u001b[36m0:00:00\u001b[0m\n",
            "\u001b[2K     \u001b[90m━━━━━━━━━━━━━━━━━━━━━━━━━━━━━━━━━━━━━━\u001b[0m \u001b[32m181.3/181.3 KB\u001b[0m \u001b[31m14.9 MB/s\u001b[0m eta \u001b[36m0:00:00\u001b[0m\n",
            "\u001b[?25h  Preparing metadata (setup.py) ... \u001b[?25l\u001b[?25hdone\n",
            "\u001b[2K     \u001b[90m━━━━━━━━━━━━━━━━━━━━━━━━━━━━━━━━━━━━━━\u001b[0m \u001b[32m184.3/184.3 KB\u001b[0m \u001b[31m17.3 MB/s\u001b[0m eta \u001b[36m0:00:00\u001b[0m\n",
            "\u001b[2K     \u001b[90m━━━━━━━━━━━━━━━━━━━━━━━━━━━━━━━━━━━━━━━━\u001b[0m \u001b[32m62.7/62.7 KB\u001b[0m \u001b[31m4.6 MB/s\u001b[0m eta \u001b[36m0:00:00\u001b[0m\n",
            "\u001b[2K     \u001b[90m━━━━━━━━━━━━━━━━━━━━━━━━━━━━━━━━━━━━━━\u001b[0m \u001b[32m140.6/140.6 KB\u001b[0m \u001b[31m13.2 MB/s\u001b[0m eta \u001b[36m0:00:00\u001b[0m\n",
            "\u001b[?25h  Building wheel for pathtools (setup.py) ... \u001b[?25l\u001b[?25hdone\n"
          ]
        }
      ]
    },
    {
      "cell_type": "code",
      "source": [
        "import keras\n",
        "import numpy as np\n",
        "import matplotlib.pyplot as plt\n",
        "from keras.datasets import fashion_mnist\n",
        "from sklearn.model_selection import train_test_split\n",
        "\n",
        "from tqdm import tqdm\n",
        "\n"
      ],
      "metadata": {
        "id": "r8Z-ltPipJi1"
      },
      "execution_count": 2,
      "outputs": []
    },
    {
      "cell_type": "code",
      "source": [
        "\n",
        "\n",
        "# start a new wandb run to track this script\n",
        "wandb.init(\n",
        "    # set the wandb project where this run will be logged\n",
        "    project=\"CS6910_Assignment_1\",\n",
        ")\n",
        "# Loading the fashion-MNIST dataset\n",
        "(x_train, y_train), (x_test, y_test) = fashion_mnist.load_data()\n",
        "#class names for fashion-MNIST\n",
        "class_names = ['T-shirt', 'Trouser', 'Pullover', 'Dress', 'Coat',\n",
        "               'Sandal', 'Shirt', 'Sneaker', 'Bag', 'Ankle boot']\n",
        "# creating 2x5 grid \n",
        "img={}\n",
        "\n",
        "for i in range(10):\n",
        "    # to find first image in the training set with class label i\n",
        "    idx = np.where(y_train == i)[0][0]\n",
        "    # Plot the image\n",
        "    img[class_names[i]]=(wandb.Image(x_train[idx], caption=class_names[i]))\n",
        "    \n",
        "wandb.log(img)    \n",
        "# [optional] finish the wandb run, necessary in notebooks\n",
        "wandb.finish()"
      ],
      "metadata": {
        "colab": {
          "base_uri": "https://localhost:8080/",
          "height": 244
        },
        "id": "tVjLg34TpOyh",
        "outputId": "bc1f5958-fe01-465b-e4ea-0329afb8f4d5"
      },
      "execution_count": null,
      "outputs": [
        {
          "output_type": "error",
          "ename": "NameError",
          "evalue": "ignored",
          "traceback": [
            "\u001b[0;31m---------------------------------------------------------------------------\u001b[0m",
            "\u001b[0;31mNameError\u001b[0m                                 Traceback (most recent call last)",
            "\u001b[0;32m<ipython-input-3-e7bb0f33e547>\u001b[0m in \u001b[0;36m<module>\u001b[0;34m\u001b[0m\n\u001b[1;32m      1\u001b[0m \u001b[0;31m# start a new wandb run to track this script\u001b[0m\u001b[0;34m\u001b[0m\u001b[0;34m\u001b[0m\u001b[0;34m\u001b[0m\u001b[0m\n\u001b[0;32m----> 2\u001b[0;31m wandb.init(\n\u001b[0m\u001b[1;32m      3\u001b[0m     \u001b[0;31m# set the wandb project where this run will be logged\u001b[0m\u001b[0;34m\u001b[0m\u001b[0;34m\u001b[0m\u001b[0;34m\u001b[0m\u001b[0m\n\u001b[1;32m      4\u001b[0m     \u001b[0mproject\u001b[0m\u001b[0;34m=\u001b[0m\u001b[0;34m\"CS6910_Assignment_1\"\u001b[0m\u001b[0;34m,\u001b[0m\u001b[0;34m\u001b[0m\u001b[0;34m\u001b[0m\u001b[0m\n\u001b[1;32m      5\u001b[0m )\n",
            "\u001b[0;31mNameError\u001b[0m: name 'wandb' is not defined"
          ]
        }
      ]
    },
    {
      "cell_type": "code",
      "source": [
        "# Loading the fashion-MNIST dataset\n",
        "(x_tr, y_tr), (x_test, y_test) = fashion_mnist.load_data()\n",
        "\n",
        "\n",
        "x_train,x_val,y_train, y_val = train_test_split(x_tr,y_tr ,random_state=104,test_size=0.10, shuffle=True)\n",
        "#class names for fashion-MNIST\n",
        "class_names = ['T-shirt', 'Trouser', 'Pullover', 'Dress', 'Coat',\n",
        "               'Sandal', 'Shirt', 'Sneaker', 'Bag', 'Ankle boot']\n",
        "# creating 2x5 grid \n",
        "fig, ax = plt.subplots(nrows=2, ncols=5, figsize=(12, 6))\n",
        "ax1=ax.flat\n",
        "for i in range(10):\n",
        "    # to find first image in the training set with class label i\n",
        "    idx = np.where(y_train == i)[0][0]\n",
        "    # Plot the image\n",
        "    ax1[i].imshow(x_train[idx], cmap='gray')\n",
        "    ax1[i].set_xlabel(class_names[i])\n",
        "    ax1[i].set_xticklabels([])\n",
        "    ax1[i].set_yticklabels([])\n",
        "    \n",
        "\n",
        "   \n",
        "# Display the plot\n",
        "plt.show()"
      ],
      "metadata": {
        "colab": {
          "base_uri": "https://localhost:8080/",
          "height": 489
        },
        "id": "hRC1jK80ukzl",
        "outputId": "0c5abd7f-88ce-4c8c-8ff6-7a67709841a1"
      },
      "execution_count": 3,
      "outputs": [
        {
          "output_type": "stream",
          "name": "stdout",
          "text": [
            "Downloading data from https://storage.googleapis.com/tensorflow/tf-keras-datasets/train-labels-idx1-ubyte.gz\n",
            "29515/29515 [==============================] - 0s 0us/step\n",
            "Downloading data from https://storage.googleapis.com/tensorflow/tf-keras-datasets/train-images-idx3-ubyte.gz\n",
            "26421880/26421880 [==============================] - 0s 0us/step\n",
            "Downloading data from https://storage.googleapis.com/tensorflow/tf-keras-datasets/t10k-labels-idx1-ubyte.gz\n",
            "5148/5148 [==============================] - 0s 0us/step\n",
            "Downloading data from https://storage.googleapis.com/tensorflow/tf-keras-datasets/t10k-images-idx3-ubyte.gz\n",
            "4422102/4422102 [==============================] - 0s 0us/step\n"
          ]
        },
        {
          "output_type": "display_data",
          "data": {
            "text/plain": [
              "<Figure size 864x432 with 10 Axes>"
            ],
            "image/png": "[encoded data removed]"
          },
          "metadata": {
            "needs_background": "light"
          }
        }
      ]
    },
    {
      "cell_type": "code",
      "source": [
        "print(x_train.shape)\n",
        "print(y_train.shape)\n",
        "print(x_val.shape)\n",
        "print(y_val.shape)\n",
        "print(x_test.shape)\n",
        "print(y_test.shape)\n"
      ],
      "metadata": {
        "id": "ksLDbhvuu2cY",
        "colab": {
          "base_uri": "https://localhost:8080/"
        },
        "outputId": "9002c22e-30ce-43de-e7d5-4defbe32fd67"
      },
      "execution_count": 4,
      "outputs": [
        {
          "output_type": "stream",
          "name": "stdout",
          "text": [
            "(54000, 28, 28)\n",
            "(54000,)\n",
            "(6000, 28, 28)\n",
            "(6000,)\n",
            "(10000, 28, 28)\n",
            "(10000,)\n"
          ]
        }
      ]
    },
    {
      "cell_type": "code",
      "source": [
        "# Normalize data\n",
        "x_train,x_val,x_test= x_train/255.0,x_val/255.0,x_test/255.0\n",
        "\n",
        "#one hot encoding\n",
        "\n",
        "#Reshaping train and test data\n",
        "x_train,x_val,x_test=x_train.reshape(len(x_train),28*28),x_val.reshape(len(x_val),28*28),x_test.reshape(len(x_test),28*28)\n",
        "\n",
        "# one hot encoding\n",
        "#from keras.utils import to_categorical\n",
        "def onehot_encoding(a,n_class):\n",
        "  temp = []\n",
        "  for i in a:\n",
        "    t1 = np.zeros(n_class)\n",
        "    t1[i] = 1\n",
        "    temp.append(t1)\n",
        "  temp=np.array(temp)\n",
        "  return temp\n",
        "y_train=onehot_encoding(y_train,10)  #run once only\n",
        "y_val = onehot_encoding(y_val,10)\n",
        "y_test = onehot_encoding(y_test,10)\n",
        "print(y_val)\n",
        "\n",
        "#y_test = to_categorical(y_test, dtype =\"uint8\")\n",
        "  \n",
        "# Labels after applying the function\n",
        "# Training set labels\n",
        "#print(x_train.shape)\n",
        "print(y_val.shape)"
      ],
      "metadata": {
        "id": "7t6zgJkAABnt",
        "colab": {
          "base_uri": "https://localhost:8080/"
        },
        "outputId": "794cccc5-af0b-43d0-cb7b-9aef3905b4ed"
      },
      "execution_count": 5,
      "outputs": [
        {
          "output_type": "stream",
          "name": "stdout",
          "text": [
            "[[1. 0. 0. ... 0. 0. 0.]\n",
            " [1. 0. 0. ... 0. 0. 0.]\n",
            " [0. 0. 1. ... 0. 0. 0.]\n",
            " ...\n",
            " [0. 0. 0. ... 1. 0. 0.]\n",
            " [0. 0. 0. ... 0. 0. 1.]\n",
            " [1. 0. 0. ... 0. 0. 0.]]\n",
            "(6000, 10)\n"
          ]
        }
      ]
    },
    {
      "cell_type": "code",
      "source": [
        "hidden_layer=[256,128,64]\n",
        "no_of_class=10\n",
        "layer_dim=[x_train.shape[1]]+hidden_layer+[no_of_class]\n",
        "print(layer_dim)\n",
        "def initialise_params(train,label,layers):\n",
        "\n",
        "  params={}\n",
        "  L=len(layers)\n",
        "  w=[]\n",
        "  b=[]\n",
        "  for i in range(1,L):\n",
        "    params['W'+str(i)]= np.random.randn(layers[i], layers[i-1]) * 0.05\n",
        "    params['b' + str(i)] =  np.zeros((layers[i], 1))\n",
        "\n",
        "  return params  \n",
        "\n",
        "def forward_prop(train,label,layers,params):\n",
        "  L=len(layers)\n",
        "  a={}\n",
        "  h={}\n",
        "  h['h'+str(0)]=(train.T)\n",
        "  \n",
        "  for i in range(1,L-1):\n",
        "    #preactivation calculation\n",
        "    print(i)\n",
        "    a['a'+str(i)]= params['W'+str(i)] @ h['h'+str(i-1)]+ params['b'+str(i)]\n",
        "    \n",
        "    #activation calculation\n",
        "    h['h'+str(i)]=sigmoid(a['a'+str(i)])\n",
        "    \n",
        "  a['a'+str(L-1)]= params['W'+str(L-1)] @ (h['h'+str(L-2)]) +params['b'+str(L-1)]\n",
        "  y_prob=[]\n",
        "  for i in range(len(a['a'+str(L-1)][0])):\n",
        "    y_prob.append(softmax(a['a'+str(L-1)][:,i]))\n",
        "  y_prob=np.array(y_prob)\n",
        "  h['h'+str(L-1)]=y_prob\n",
        "  \n",
        "  return a,h,y_prob\n",
        "\n",
        "def sigmoid(x):\n",
        "  return 1/(1+np.exp(-x))\n",
        "\n",
        "def softmax(x):\n",
        "   return (np.exp(x)/np.exp(x).sum())\n",
        "\n",
        "\n",
        "\n",
        "p=initialise_params(x_train,y_train,layer_dim)\n",
        "for key,val in p.items():\n",
        "  print(key,'->',val.shape)\n",
        "  \n",
        "a1,h1,y_h=forward_prop(x_train[:10,:],y_train[:10,:],layer_dim,p)\n",
        "print((y_h[0]))\n",
        "for key,val in a1.items():\n",
        "  print(key,'->',val.shape)\n",
        "for key,val in h1.items():\n",
        "  print(key,'->',val.shape)\n",
        "\n",
        "#print(y_train)"
      ],
      "metadata": {
        "colab": {
          "base_uri": "https://localhost:8080/"
        },
        "id": "Xmhh1Klu0kK_",
        "outputId": "66ae11b1-e972-453b-b0db-0e058dd39437"
      },
      "execution_count": 28,
      "outputs": [
        {
          "output_type": "stream",
          "name": "stdout",
          "text": [
            "[784, 256, 128, 64, 10]\n",
            "W1 -> (256, 784)\n",
            "b1 -> (256, 1)\n",
            "W2 -> (128, 256)\n",
            "b2 -> (128, 1)\n",
            "W3 -> (64, 128)\n",
            "b3 -> (64, 1)\n",
            "W4 -> (10, 64)\n",
            "b4 -> (10, 1)\n",
            "1\n",
            "2\n",
            "3\n",
            "[0.11376594 0.10254888 0.08662787 0.08376724 0.12092482 0.12642622\n",
            " 0.09333518 0.083074   0.10950988 0.08001998]\n",
            "a1 -> (256, 10)\n",
            "a2 -> (128, 10)\n",
            "a3 -> (64, 10)\n",
            "a4 -> (10, 10)\n",
            "h0 -> (784, 10)\n",
            "h1 -> (256, 10)\n",
            "h2 -> (128, 10)\n",
            "h3 -> (64, 10)\n",
            "h4 -> (10, 10)\n"
          ]
        }
      ]
    },
    {
      "cell_type": "code",
      "source": [
        "\n",
        "#y_train=y_train[:5,:]\n",
        "#x_train=x_train[:5,:]\n",
        "#print(y_train)\n"
      ],
      "metadata": {
        "id": "p9jxYULysB-o"
      },
      "execution_count": 12,
      "outputs": []
    },
    {
      "cell_type": "code",
      "source": [
        "class NN:\n",
        "  def __init__(self, layers, epochs, lr,loss_func,batch_size=16):\n",
        "    self.layers = layers\n",
        "    self.epochs = epochs\n",
        "    self.lr = lr\n",
        "    self.loss_func=loss_func\n",
        "    self.batch_size=batch_size\n",
        "    self.params={}\n",
        "    self.L=len(self.layers)\n",
        "    \n",
        "  def initialise_params(self):\n",
        "    for i in range(1,self.L):\n",
        "      self.params['W'+str(i)]= np.random.randn(self.layers[i], self.layers[i-1]) * 0.1\n",
        "      self.params['b' + str(i)] =  np.zeros((self.layers[i], 1))\n",
        "\n",
        "    return self.params  \n",
        "  \n",
        "  def updates(self):\n",
        "    updates={}\n",
        "    for i in range(1,self.L):\n",
        "      updates['W'+str(i)]= np.zeros((self.layers[i], self.layers[i-1])) \n",
        "      updates['b' + str(i)] =  np.zeros((self.layers[i], 1))\n",
        "\n",
        "    return updates  \n",
        "\n",
        "  def sigmoid(self, x, derivative=False):\n",
        "      if derivative:\n",
        "          return (np.exp(-x))/((np.exp(-x)+1)**2)\n",
        "      return 1/(1 + np.exp(-x))\n",
        "\n",
        "  def tanh(self, x, derivative=False):\n",
        "      t=(np.exp(x)-np.exp(-x))/(np.exp(x)+np.exp(-x))\n",
        "      if derivative:\n",
        "          return 1-t**2\n",
        "    \n",
        "      return t\n",
        "\n",
        "  def relu(self, x, derivative=False):\n",
        "      if derivative:\n",
        "          return 1*(x>0)\n",
        "      return np.maximum(0,x)\n",
        "\n",
        "\n",
        "  def softmax(self, x, derivative=False):\n",
        "      if derivative:\n",
        "          return  (np.exp(x)/np.exp(x).sum()) * (1- (np.exp(x)/np.exp(x).sum()))\n",
        "      return  (np.exp(x)/np.exp(x).sum())\n",
        "  \n",
        "  \n",
        "  def forward_prop(self,train):\n",
        "      params = self.params\n",
        "      L=self.L\n",
        "      a={}\n",
        "      h={}\n",
        "      train=train.T\n",
        "      h['h'+str(0)]=train.reshape(len(train),1)\n",
        "      for i in range(1,L-1):\n",
        "        #preactivation calculation\n",
        "        #print(i)\n",
        "        a['a'+str(i)]= params['W'+str(i)] @ h['h'+str(i-1)]+ params['b'+str(i)]\n",
        "        #activation calculation\n",
        "        h['h'+str(i)]=self.sigmoid(a['a'+str(i)])\n",
        "       \n",
        "      a['a'+str(L-1)]= params['W'+str(L-1)] @ (h['h'+str(L-2)]) +params['b'+str(L-1)]\n",
        "      y_prob=[]\n",
        "      for i in range(len(a['a'+str(L-1)][0])):\n",
        "        y_prob.append(self.softmax(a['a'+str(L-1)][:,i]))\n",
        "      y_prob=np.array(y_prob)\n",
        "      h['h'+str(L-1)]=y_prob\n",
        "  \n",
        "      return a,h,y_prob\n",
        "  def backward_prop(self, y_train, y_hat,a,h):\n",
        "    params = self.params\n",
        "    delta_params = {}\n",
        "    L=self.L\n",
        "    y_train=y_train.reshape(len(y_train),1)\n",
        "    # Compute output gradient\n",
        "        # Gardient with respect to last layer\n",
        "    if self.loss_func == 'cross_entropy':\n",
        "      delta_params['a' + str(L-1)] = (y_hat - y_train)\n",
        "    elif self.loss_func == 'squared_error':\n",
        "      delta_params['a' + str(L-1)] = (y_hat - y_train)*y_hat*(1-y_hat)\n",
        "    \n",
        "    \n",
        "    for i in range(L-1,0,-1):\n",
        "      #gradients w rt parameters \n",
        "      delta_params['W' + str(i)]=(delta_params['a' + str(i)]@(h['h'+str(i-1)].T))\n",
        "      delta_params['b' + str(i)]=np.sum(delta_params['a' + str(i)],axis=1,keepdims=True)\n",
        "\n",
        "      #gradients w rt layer below\n",
        "\n",
        "      delta_params['h' + str(i-1)]=(params['W' + str(i)].T)@ delta_params['a' + str(i)]\n",
        "\n",
        "      #gradients w rt layer below(preactivation)\n",
        "\n",
        "      if i > 1:\n",
        "        delta_params['a' + str(i-1)] = delta_params['h' + str(i-1)] * self.sigmoid(a['a' + str(i-1)], derivative=True)  \n",
        "    return delta_params\n",
        "  \n",
        "  \n",
        "  def loss_fun(self,y,y_hat):\n",
        "    if self.loss_func == 'cross_entropy':\n",
        "      i=np.argmax(y)\n",
        "      p=y_hat[i]\n",
        "      #N=len(y)\n",
        "      loss=-np.log(p)\n",
        "      return loss\n",
        "    elif self.loss_func == 'squared_error':\n",
        "      return np.sum((y-y_hat)**2)\n",
        " \n",
        " \n",
        "  def modelPerformance(self, x_test, y_test):\n",
        "    predictions = []\n",
        "    y_true = []\n",
        "    y_pred = []\n",
        "    losses = []\n",
        "    for x,y in tqdm(zip(x_test ,y_test), total=len(x_test)):\n",
        "      a,h,y_p = self.forward_prop(x)\n",
        "      predictedClass = np.argmax(y_p)\n",
        "      y.reshape(len(y),1)\n",
        "      actualClass = np.argmax(y)\n",
        "      y_true.append(actualClass)\n",
        "      y_pred.append(predictedClass)\n",
        "      predictions.append(predictedClass == actualClass)\n",
        "      losses.append(self.loss_fun(y.T,y_p.T))\n",
        "    accuracy = (np.sum(predictions)*100)/len(predictions)\n",
        "    loss = np.sum(losses)/len(losses)\n",
        "    \n",
        "    return accuracy, loss, y_true, y_pred\n",
        "\n",
        "     \n",
        "  def sgd(self,x_train,y_train):\n",
        "    weights=self.initialise_params()\n",
        "    #print(weights)\n",
        "    #print(len(x_train[0]))\n",
        "    t=0\n",
        "    e=self.epochs\n",
        "    for i in range(e):\n",
        "      print(\"epoch\",i+1)\n",
        "      for x,y in (zip(x_train,y_train)):\n",
        "        a,h,y_p=self.forward_prop(x)\n",
        "        \n",
        "        #print(\"y_hat\",y[0])\n",
        "        delta_theta=self.backward_prop(y.T,y_p.T,a,h)\n",
        "        #print(\"weights->\",weights[i].shape)\n",
        "        #print(\"delta theta->\",delta_theta)\n",
        "        #print(\"Y_train[0]\",y_train.shape)\n",
        "\n",
        "        #weights[i]= weights[i-1]+  delta_theta[i]\n",
        "        t=t+1\n",
        "        if (t%self.batch_size==0):\n",
        "          for key in weights:\n",
        "            weights[key]=weights[key] - (self.lr)*delta_theta[key]\n",
        "    test_acc,test_loss,y_true,y_perd=self.modelPerformance(x_test,y_test)\n",
        "    print(\"Test Accuracy = \" + str(test_acc))\n",
        "    print(\"Test Loss = \" + str(test_loss))\n",
        "\t\t\n",
        "    val_acc,val_loss,y_true1,y_perd1=self.modelPerformance(x_val,y_val)\n",
        "    print(\"Val Accuracy = \" + str(val_acc))\n",
        "    print(\"Val Loss = \" + str(val_loss))\n",
        "\n",
        "    train_acc,train_loss,y_true2,y_perd2=self.modelPerformance(x_train,y_train)\n",
        "    print(\"Train Accuracy = \" + str(train_acc))\n",
        "    print(\"Train Loss = \" + str(train_loss))\n",
        "\t\n",
        "\t\n",
        "    return weights\n",
        "\n",
        "  def momentum(self,x_train,y_train):\n",
        "    beta=0.001\n",
        "    \n",
        "    weights=self.initialise_params()\n",
        "    \n",
        "    t=0\n",
        "    e=self.epochs\n",
        "    for i in range(e):\n",
        "\n",
        "      update= self.updates()\n",
        "      print(\"epoch\",i+1)\n",
        "      for x,y in (zip(x_train,y_train)):\n",
        "        dw_db= self.updates()\n",
        "   \n",
        "        a,h,y_p=self.forward_prop(x)\n",
        "        \n",
        "        #print(\"y_hat\",y[0])\n",
        "        delta_theta=self.backward_prop(y.T,y_p.T,a,h)\n",
        "        #print(\"weights->\",weights[i].shape)\n",
        "        #print(\"delta theta->\",delta_theta)\n",
        "        #print(\"Y_train[0]\",y_train.shape)\n",
        "\n",
        "        #weights[i]= weights[i-1]+  delta_theta[i]\n",
        "        for i in dw_db:\n",
        "           dw_db[i]+=delta_theta[i]\n",
        "\n",
        "        t=t+1\n",
        "        if (t%self.batch_size==0):\n",
        "          for key in update:\n",
        "            update[key]=beta*update[key]+self.lr*dw_db[key]\n",
        "          for key in weights:\n",
        "           weights[key]=weights[key] - update[key]\n",
        "\n",
        "         \n",
        "    test_acc,test_loss,y_true,y_perd=self.modelPerformance(x_test,y_test)\n",
        "    print(\"Test Accuracy = \" + str(test_acc))\n",
        "    print(\"Test Loss = \" + str(test_loss))\n",
        "\t\t\n",
        "    val_acc,val_loss,y_true1,y_perd1=self.modelPerformance(x_val,y_val)\n",
        "    print(\"Val Accuracy = \" + str(val_acc))\n",
        "    print(\"Val Loss = \" + str(val_loss))\n",
        "\n",
        "    train_acc,train_loss,y_true2,y_perd2=self.modelPerformance(x_train,y_train)\n",
        "    print(\"Train Accuracy = \" + str(train_acc))\n",
        "    print(\"Train Loss = \" + str(train_loss))\n",
        "\t\t\n",
        "    return weights\n",
        "     \n",
        "  def nestrov(self):\n",
        "      pass   \n",
        "\n",
        "  def rmsprop(self):\n",
        "      pass   \n",
        "    \n",
        "  def adam(self):\n",
        "      pass   \n",
        "    \n",
        "  def nadam(self):\n",
        "      pass   \n",
        "\n",
        "  def train(self, train_list, test_list, output_nodes):\n",
        "      pass\n",
        "\n",
        "\n",
        "\n",
        "\n",
        "hidden_layer=[16,16]\n",
        "no_of_class=10\n",
        "layer_dim=[x_train.shape[1]]+hidden_layer+[no_of_class]\n",
        "print(layer_dim)\n",
        "lr=0.001\n",
        "nn = NN(layer_dim, epochs=10, lr=0.001,loss_func='cross_entropy')\n",
        "#y=np.array(y)\n",
        "#print(y.shape[1])\n",
        "# pass y_hat and y_train in transposed \n",
        "\n",
        "\n",
        "\n",
        "w=nn.momentum(x_train,y_train)\n",
        "\n",
        "\n",
        "#for key,val in delta_theta.items():\n",
        "#  print(key,\"-\",val.shape)\n"
      ],
      "metadata": {
        "id": "PcMZch46jlBt",
        "colab": {
          "base_uri": "https://localhost:8080/"
        },
        "outputId": "9698d473-7368-444d-c77c-67d97f067e57"
      },
      "execution_count": 11,
      "outputs": [
        {
          "output_type": "stream",
          "name": "stdout",
          "text": [
            "[784, 16, 16, 10]\n",
            "epoch 1\n",
            "epoch 2\n",
            "epoch 3\n",
            "epoch 4\n",
            "epoch 5\n",
            "epoch 6\n",
            "epoch 7\n",
            "epoch 8\n",
            "epoch 9\n",
            "epoch 10\n"
          ]
        },
        {
          "output_type": "stream",
          "name": "stderr",
          "text": [
            "100%|██████████| 10000/10000 [00:01<00:00, 8343.07it/s]\n"
          ]
        },
        {
          "output_type": "stream",
          "name": "stdout",
          "text": [
            "Test Accuracy = 24.97\n",
            "Test Loss = 2.235720393274464\n"
          ]
        },
        {
          "output_type": "stream",
          "name": "stderr",
          "text": [
            "100%|██████████| 6000/6000 [00:00<00:00, 8878.64it/s]\n"
          ]
        },
        {
          "output_type": "stream",
          "name": "stdout",
          "text": [
            "Val Accuracy = 25.016666666666666\n",
            "Val Loss = 2.2363338539997937\n"
          ]
        },
        {
          "output_type": "stream",
          "name": "stderr",
          "text": [
            "100%|██████████| 54000/54000 [00:06<00:00, 8731.65it/s]\n"
          ]
        },
        {
          "output_type": "stream",
          "name": "stdout",
          "text": [
            "Train Accuracy = 24.93888888888889\n",
            "Train Loss = 2.235386113104146\n"
          ]
        }
      ]
    },
    {
      "cell_type": "code",
      "source": [],
      "metadata": {
        "id": "NsK9v-U_yk45"
      },
      "execution_count": null,
      "outputs": []
    },
    {
      "cell_type": "code",
      "source": [],
      "metadata": {
        "id": "oMg2IlV0QB5q"
      },
      "execution_count": null,
      "outputs": []
    }
  ]
}